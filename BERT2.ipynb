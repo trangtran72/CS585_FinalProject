{
 "cells": [
  {
   "cell_type": "code",
   "execution_count": 7,
   "metadata": {},
   "outputs": [],
   "source": [
    "import pandas as pd"
   ]
  },
  {
   "cell_type": "code",
   "execution_count": 8,
   "metadata": {},
   "outputs": [],
   "source": [
    "data = pd.read_csv('~/Downloads/movies_with_more_than_800.csv')"
   ]
  },
  {
   "cell_type": "code",
   "execution_count": 9,
   "metadata": {},
   "outputs": [
    {
     "data": {
      "text/html": [
       "<div>\n",
       "<style scoped>\n",
       "    .dataframe tbody tr th:only-of-type {\n",
       "        vertical-align: middle;\n",
       "    }\n",
       "\n",
       "    .dataframe tbody tr th {\n",
       "        vertical-align: top;\n",
       "    }\n",
       "\n",
       "    .dataframe thead th {\n",
       "        text-align: right;\n",
       "    }\n",
       "</style>\n",
       "<table border=\"1\" class=\"dataframe\">\n",
       "  <thead>\n",
       "    <tr style=\"text-align: right;\">\n",
       "      <th></th>\n",
       "      <th>Unnamed: 0</th>\n",
       "      <th>productId</th>\n",
       "      <th>userId</th>\n",
       "      <th>score</th>\n",
       "      <th>summary</th>\n",
       "      <th>review</th>\n",
       "    </tr>\n",
       "  </thead>\n",
       "  <tbody>\n",
       "    <tr>\n",
       "      <th>0</th>\n",
       "      <td>166695</td>\n",
       "      <td>B009NQKPUW</td>\n",
       "      <td>A2GUPJMD2G0XMV</td>\n",
       "      <td>2.0</td>\n",
       "      <td>Good Effects Only Go So Far</td>\n",
       "      <td>As a Sci-Fi fan forever, I can say that you wo...</td>\n",
       "    </tr>\n",
       "    <tr>\n",
       "      <th>1</th>\n",
       "      <td>166696</td>\n",
       "      <td>B009NQKPUW</td>\n",
       "      <td>A3RUZ8RJVPAAW6</td>\n",
       "      <td>4.0</td>\n",
       "      <td>If not a classic now...a classic later....</td>\n",
       "      <td>Sir Ridley Scott is classified as a \"visual di...</td>\n",
       "    </tr>\n",
       "    <tr>\n",
       "      <th>2</th>\n",
       "      <td>166697</td>\n",
       "      <td>B009NQKPUW</td>\n",
       "      <td>A3292BN5CWS47V</td>\n",
       "      <td>5.0</td>\n",
       "      <td>I'm Pro-metheus</td>\n",
       "      <td>Finally got the Blu-ray today and am happy to ...</td>\n",
       "    </tr>\n",
       "    <tr>\n",
       "      <th>3</th>\n",
       "      <td>166698</td>\n",
       "      <td>B009NQKPUW</td>\n",
       "      <td>A5T0FQB5A40S8</td>\n",
       "      <td>5.0</td>\n",
       "      <td>thinking man's sci-fi</td>\n",
       "      <td>If you like sci-fi that makes you think, than ...</td>\n",
       "    </tr>\n",
       "    <tr>\n",
       "      <th>4</th>\n",
       "      <td>166699</td>\n",
       "      <td>B009NQKPUW</td>\n",
       "      <td>A1E110L9ZKX6FD</td>\n",
       "      <td>5.0</td>\n",
       "      <td>Greatest big budget Sci Fi this decade so far...</td>\n",
       "      <td>I have been a fan of the Alien franchise since...</td>\n",
       "    </tr>\n",
       "  </tbody>\n",
       "</table>\n",
       "</div>"
      ],
      "text/plain": [
       "   Unnamed: 0   productId           userId  score  \\\n",
       "0      166695  B009NQKPUW   A2GUPJMD2G0XMV    2.0   \n",
       "1      166696  B009NQKPUW   A3RUZ8RJVPAAW6    4.0   \n",
       "2      166697  B009NQKPUW   A3292BN5CWS47V    5.0   \n",
       "3      166698  B009NQKPUW    A5T0FQB5A40S8    5.0   \n",
       "4      166699  B009NQKPUW   A1E110L9ZKX6FD    5.0   \n",
       "\n",
       "                                             summary  \\\n",
       "0                        Good Effects Only Go So Far   \n",
       "1         If not a classic now...a classic later....   \n",
       "2                                    I'm Pro-metheus   \n",
       "3                              thinking man's sci-fi   \n",
       "4   Greatest big budget Sci Fi this decade so far...   \n",
       "\n",
       "                                              review  \n",
       "0  As a Sci-Fi fan forever, I can say that you wo...  \n",
       "1  Sir Ridley Scott is classified as a \"visual di...  \n",
       "2  Finally got the Blu-ray today and am happy to ...  \n",
       "3  If you like sci-fi that makes you think, than ...  \n",
       "4  I have been a fan of the Alien franchise since...  "
      ]
     },
     "execution_count": 9,
     "metadata": {},
     "output_type": "execute_result"
    }
   ],
   "source": [
    "data.head()"
   ]
  },
  {
   "cell_type": "code",
   "execution_count": 10,
   "metadata": {},
   "outputs": [
    {
     "data": {
      "text/plain": [
       "(21485, 6)"
      ]
     },
     "execution_count": 10,
     "metadata": {},
     "output_type": "execute_result"
    }
   ],
   "source": [
    "data.shape"
   ]
  },
  {
   "cell_type": "code",
   "execution_count": 11,
   "metadata": {},
   "outputs": [],
   "source": [
    "del data['userId']\n",
    "del data['Unnamed: 0']\n",
    "del data['summary']"
   ]
  },
  {
   "cell_type": "code",
   "execution_count": 12,
   "metadata": {},
   "outputs": [
    {
     "data": {
      "text/html": [
       "<div>\n",
       "<style scoped>\n",
       "    .dataframe tbody tr th:only-of-type {\n",
       "        vertical-align: middle;\n",
       "    }\n",
       "\n",
       "    .dataframe tbody tr th {\n",
       "        vertical-align: top;\n",
       "    }\n",
       "\n",
       "    .dataframe thead th {\n",
       "        text-align: right;\n",
       "    }\n",
       "</style>\n",
       "<table border=\"1\" class=\"dataframe\">\n",
       "  <thead>\n",
       "    <tr style=\"text-align: right;\">\n",
       "      <th></th>\n",
       "      <th>productId</th>\n",
       "      <th>score</th>\n",
       "      <th>review</th>\n",
       "    </tr>\n",
       "  </thead>\n",
       "  <tbody>\n",
       "    <tr>\n",
       "      <th>0</th>\n",
       "      <td>B009NQKPUW</td>\n",
       "      <td>2.0</td>\n",
       "      <td>As a Sci-Fi fan forever, I can say that you wo...</td>\n",
       "    </tr>\n",
       "    <tr>\n",
       "      <th>1</th>\n",
       "      <td>B009NQKPUW</td>\n",
       "      <td>4.0</td>\n",
       "      <td>Sir Ridley Scott is classified as a \"visual di...</td>\n",
       "    </tr>\n",
       "    <tr>\n",
       "      <th>2</th>\n",
       "      <td>B009NQKPUW</td>\n",
       "      <td>5.0</td>\n",
       "      <td>Finally got the Blu-ray today and am happy to ...</td>\n",
       "    </tr>\n",
       "    <tr>\n",
       "      <th>3</th>\n",
       "      <td>B009NQKPUW</td>\n",
       "      <td>5.0</td>\n",
       "      <td>If you like sci-fi that makes you think, than ...</td>\n",
       "    </tr>\n",
       "    <tr>\n",
       "      <th>4</th>\n",
       "      <td>B009NQKPUW</td>\n",
       "      <td>5.0</td>\n",
       "      <td>I have been a fan of the Alien franchise since...</td>\n",
       "    </tr>\n",
       "  </tbody>\n",
       "</table>\n",
       "</div>"
      ],
      "text/plain": [
       "    productId  score                                             review\n",
       "0  B009NQKPUW    2.0  As a Sci-Fi fan forever, I can say that you wo...\n",
       "1  B009NQKPUW    4.0  Sir Ridley Scott is classified as a \"visual di...\n",
       "2  B009NQKPUW    5.0  Finally got the Blu-ray today and am happy to ...\n",
       "3  B009NQKPUW    5.0  If you like sci-fi that makes you think, than ...\n",
       "4  B009NQKPUW    5.0  I have been a fan of the Alien franchise since..."
      ]
     },
     "execution_count": 12,
     "metadata": {},
     "output_type": "execute_result"
    }
   ],
   "source": [
    "data.head()"
   ]
  },
  {
   "cell_type": "code",
   "execution_count": 13,
   "metadata": {},
   "outputs": [],
   "source": [
    "data.insert(2, 'beta', 'b')"
   ]
  },
  {
   "cell_type": "code",
   "execution_count": 14,
   "metadata": {},
   "outputs": [
    {
     "data": {
      "text/html": [
       "<div>\n",
       "<style scoped>\n",
       "    .dataframe tbody tr th:only-of-type {\n",
       "        vertical-align: middle;\n",
       "    }\n",
       "\n",
       "    .dataframe tbody tr th {\n",
       "        vertical-align: top;\n",
       "    }\n",
       "\n",
       "    .dataframe thead th {\n",
       "        text-align: right;\n",
       "    }\n",
       "</style>\n",
       "<table border=\"1\" class=\"dataframe\">\n",
       "  <thead>\n",
       "    <tr style=\"text-align: right;\">\n",
       "      <th></th>\n",
       "      <th>productId</th>\n",
       "      <th>score</th>\n",
       "      <th>beta</th>\n",
       "      <th>review</th>\n",
       "    </tr>\n",
       "  </thead>\n",
       "  <tbody>\n",
       "    <tr>\n",
       "      <th>0</th>\n",
       "      <td>B009NQKPUW</td>\n",
       "      <td>2.0</td>\n",
       "      <td>b</td>\n",
       "      <td>As a Sci-Fi fan forever, I can say that you wo...</td>\n",
       "    </tr>\n",
       "    <tr>\n",
       "      <th>1</th>\n",
       "      <td>B009NQKPUW</td>\n",
       "      <td>4.0</td>\n",
       "      <td>b</td>\n",
       "      <td>Sir Ridley Scott is classified as a \"visual di...</td>\n",
       "    </tr>\n",
       "    <tr>\n",
       "      <th>2</th>\n",
       "      <td>B009NQKPUW</td>\n",
       "      <td>5.0</td>\n",
       "      <td>b</td>\n",
       "      <td>Finally got the Blu-ray today and am happy to ...</td>\n",
       "    </tr>\n",
       "    <tr>\n",
       "      <th>3</th>\n",
       "      <td>B009NQKPUW</td>\n",
       "      <td>5.0</td>\n",
       "      <td>b</td>\n",
       "      <td>If you like sci-fi that makes you think, than ...</td>\n",
       "    </tr>\n",
       "    <tr>\n",
       "      <th>4</th>\n",
       "      <td>B009NQKPUW</td>\n",
       "      <td>5.0</td>\n",
       "      <td>b</td>\n",
       "      <td>I have been a fan of the Alien franchise since...</td>\n",
       "    </tr>\n",
       "  </tbody>\n",
       "</table>\n",
       "</div>"
      ],
      "text/plain": [
       "    productId  score beta                                             review\n",
       "0  B009NQKPUW    2.0    b  As a Sci-Fi fan forever, I can say that you wo...\n",
       "1  B009NQKPUW    4.0    b  Sir Ridley Scott is classified as a \"visual di...\n",
       "2  B009NQKPUW    5.0    b  Finally got the Blu-ray today and am happy to ...\n",
       "3  B009NQKPUW    5.0    b  If you like sci-fi that makes you think, than ...\n",
       "4  B009NQKPUW    5.0    b  I have been a fan of the Alien franchise since..."
      ]
     },
     "execution_count": 14,
     "metadata": {},
     "output_type": "execute_result"
    }
   ],
   "source": [
    "data.head()"
   ]
  },
  {
   "cell_type": "code",
   "execution_count": null,
   "metadata": {},
   "outputs": [],
   "source": []
  }
 ],
 "metadata": {
  "kernelspec": {
   "display_name": "Python 3",
   "language": "python",
   "name": "python3"
  },
  "language_info": {
   "codemirror_mode": {
    "name": "ipython",
    "version": 3
   },
   "file_extension": ".py",
   "mimetype": "text/x-python",
   "name": "python",
   "nbconvert_exporter": "python",
   "pygments_lexer": "ipython3",
   "version": "3.7.1"
  }
 },
 "nbformat": 4,
 "nbformat_minor": 2
}
