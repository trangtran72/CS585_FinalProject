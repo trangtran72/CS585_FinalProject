{
 "cells": [
  {
   "cell_type": "code",
   "execution_count": 2,
   "metadata": {},
   "outputs": [
    {
     "name": "stdout",
     "output_type": "stream",
     "text": [
      "71205232\n"
     ]
    }
   ],
   "source": [
    "movie = open('movies.txt',encoding=\"utf8\", errors='ignore')\n",
    "context= movie.readlines()\n",
    "print(len(context))\n",
    "movie.close()"
   ]
  },
  {
   "cell_type": "code",
   "execution_count": 3,
   "metadata": {},
   "outputs": [
    {
     "name": "stdout",
     "output_type": "stream",
     "text": [
      "7911692.444444444\n"
     ]
    }
   ],
   "source": [
    "print(len(context)/9)"
   ]
  },
  {
   "cell_type": "code",
   "execution_count": 3,
   "metadata": {},
   "outputs": [],
   "source": [
    "productId=[]\n",
    "userId=[]\n",
    "score =[]\n",
    "review=[]\n",
    "summary = []\n",
    "for i in range(len(context)):\n",
    "    if len(context) >1:\n",
    "        temp= context[i].split(':')[0]\n",
    "        if temp == \"product/productId\" :\n",
    "            productId.append(context[i].split(':')[1][1:len(context[i].split(':')[1])-1])\n",
    "        elif temp == \"review/userId\":\n",
    "            userId.append(context[i].split(':')[1][0:len(context[i].split(':')[1])-1])\n",
    "        elif temp == \"review/score\" :\n",
    "            score.append((context[i].split(':')[1][1:4]))\n",
    "        elif temp == \"review/text\":\n",
    "            review.append(context[i][13:len(context[i])-1])\n",
    "        elif temp == \"review/summary\":\n",
    "            summary.append(context[i].split(':')[1][0:len(context[i].split(':')[1])-1])\n",
    "            \n",
    "\n",
    "score = [float(i) for i in score] \n",
    "   # print(context[i])\n",
    "    #temp = context[i].split(':')\n",
    "    #data[context[i].split(':')[0]]= context[i].split(':')[1:]"
   ]
  },
  {
   "cell_type": "code",
   "execution_count": 5,
   "metadata": {},
   "outputs": [
    {
     "name": "stdout",
     "output_type": "stream",
     "text": [
      "7911684\n",
      "7911684\n",
      "7911684\n",
      "7911684\n",
      "7911684\n"
     ]
    }
   ],
   "source": [
    "print(len(review))\n",
    "print(len(productId))\n",
    "print(len(userId))\n",
    "print(len(score))\n",
    "print(len(summary))"
   ]
  },
  {
   "cell_type": "code",
   "execution_count": 4,
   "metadata": {},
   "outputs": [],
   "source": [
    "import pandas as pd\n",
    "d = {'productId': productId, 'userId': userId, 'score': score,'summary':summary , 'review':review}\n",
    "df = pd.DataFrame(data=d)\n",
    "\n",
    "#df.iloc[:,2]=int(df.iloc[:,2])"
   ]
  },
  {
   "cell_type": "code",
   "execution_count": 31,
   "metadata": {},
   "outputs": [],
   "source": [
    "df_new_moview=df[df.groupby(\"productId\")['productId'].transform('size') > 800]\n",
    "#not running this code "
   ]
  },
  {
   "cell_type": "code",
   "execution_count": 32,
   "metadata": {},
   "outputs": [],
   "source": [
    "top_ten_movies=df_new_moview.groupby( [ \"productId\"] ).size().to_frame(name = 'count').reset_index()\n",
    "top_ten_movies.drop_duplicates(subset =\"count\", \n",
    "                     keep=\"last\", inplace = True) \n",
    "movies_keep=top_ten_movies['productId']\n",
    "new_df= df[df.productId.isin(movies_keep)]"
   ]
  },
  {
   "cell_type": "code",
   "execution_count": 19,
   "metadata": {},
   "outputs": [],
   "source": [
    "new_df.to_csv(\"movies_with_more_than_500.csv\")"
   ]
  },
  {
   "cell_type": "code",
   "execution_count": 30,
   "metadata": {},
   "outputs": [],
   "source": [
    "new_df.to_csv(\"movies_with_more_than_600.csv\")"
   ]
  },
  {
   "cell_type": "code",
   "execution_count": 33,
   "metadata": {},
   "outputs": [],
   "source": [
    "new_df.to_csv(\"movies_with_more_than_800.csv\")"
   ]
  },
  {
   "cell_type": "code",
   "execution_count": null,
   "metadata": {},
   "outputs": [],
   "source": [
    "# more than 500 - 90k data \n",
    "# more than 600 - 61k data \n",
    "# more than 800 - 20k data "
   ]
  },
  {
   "cell_type": "code",
   "execution_count": 15,
   "metadata": {},
   "outputs": [
    {
     "data": {
      "text/plain": [
       "136"
      ]
     },
     "execution_count": 15,
     "metadata": {},
     "output_type": "execute_result"
    }
   ],
   "source": [
    "len(new_df.groupby('productId')['productId'].count())"
   ]
  },
  {
   "cell_type": "code",
   "execution_count": 29,
   "metadata": {},
   "outputs": [
    {
     "data": {
      "text/plain": [
       "(61077, 5)"
      ]
     },
     "execution_count": 29,
     "metadata": {},
     "output_type": "execute_result"
    }
   ],
   "source": [
    "new_df.shape"
   ]
  },
  {
   "cell_type": "code",
   "execution_count": 18,
   "metadata": {},
   "outputs": [
    {
     "data": {
      "text/plain": [
       "504"
      ]
     },
     "execution_count": 18,
     "metadata": {},
     "output_type": "execute_result"
    }
   ],
   "source": [
    "new_df.groupby('productId')['productId'].count().min()"
   ]
  },
  {
   "cell_type": "code",
   "execution_count": 44,
   "metadata": {},
   "outputs": [],
   "source": [
    "df_new=df[df.groupby(\"userId\")['userId'].transform('size') > 100]"
   ]
  },
  {
   "cell_type": "code",
   "execution_count": 45,
   "metadata": {},
   "outputs": [],
   "source": [
    "top_ten_movies=df_new.groupby( [ \"productId\"] ).size().to_frame(name = 'count').reset_index()\n",
    "top_ten_movies.drop_duplicates(subset =\"count\", \n",
    "                     keep=\"last\", inplace = True) \n",
    "movies_keep=top_ten_movies['productId']\n",
    "new_df= df_new[df_new.productId.isin(movies_keep)]"
   ]
  },
  {
   "cell_type": "code",
   "execution_count": 46,
   "metadata": {},
   "outputs": [
    {
     "data": {
      "text/plain": [
       "(30250, 5)"
      ]
     },
     "execution_count": 46,
     "metadata": {},
     "output_type": "execute_result"
    }
   ],
   "source": [
    "new_df.shape"
   ]
  },
  {
   "cell_type": "code",
   "execution_count": 47,
   "metadata": {},
   "outputs": [],
   "source": [
    "new_df.to_csv(\"recommend_more_than_100.csv\") # 23k "
   ]
  },
  {
   "cell_type": "code",
   "execution_count": 48,
   "metadata": {},
   "outputs": [
    {
     "data": {
      "text/plain": [
       "241"
      ]
     },
     "execution_count": 48,
     "metadata": {},
     "output_type": "execute_result"
    }
   ],
   "source": [
    "len(new_df.groupby('productId')['productId'].count()) # 214 movies - 150 # 241 movies - 100 "
   ]
  },
  {
   "cell_type": "code",
   "execution_count": 49,
   "metadata": {},
   "outputs": [
    {
     "data": {
      "text/plain": [
       "5697"
      ]
     },
     "execution_count": 49,
     "metadata": {},
     "output_type": "execute_result"
    }
   ],
   "source": [
    "len(new_df.groupby('userId')['userId'].count()) # 3724 reviewers - 150  # 5697 reviewers - 100"
   ]
  },
  {
   "cell_type": "code",
   "execution_count": 15,
   "metadata": {},
   "outputs": [
    {
     "name": "stdout",
     "output_type": "stream",
     "text": [
      "          productId           userId  score  \\\n",
      "79       B000063W1R   A18758S1PUYIDT    4.0   \n",
      "82       B000063W1R   A23Q1T4MXZHFM7    3.0   \n",
      "97       B000063W1R   A3N2MVBI1A2I9Y    5.0   \n",
      "99       B000063W1R   A355WMP0CQBJFX    5.0   \n",
      "100      B000063W1R   A2CU4L3OK00M23    5.0   \n",
      "101      B000063W1R    A41I67QYRAOSQ    4.0   \n",
      "106      B000063W1R    AQ8DU6XVA3USJ    5.0   \n",
      "108      B000063W1R    ALX2RTJW3NF0O    4.0   \n",
      "113      B000063W1R   A1FBZRYTAA6O1Z    5.0   \n",
      "114      B000063W1R   A2FEGRJQNU51P9    4.0   \n",
      "116      B000063W1R   A1EMDSTJDUE6B0    5.0   \n",
      "117      B000063W1R    A7FMCZZVFHRLW    4.0   \n",
      "128      B000063W1R   A17WER66R17JEF    5.0   \n",
      "129      B000063W1R   A2198FZZMTJ38H    5.0   \n",
      "130      B000063W1R   A328S9RN3U5M68    5.0   \n",
      "131      B000063W1R   A2V3P1XE33NYC3    4.0   \n",
      "132      B000063W1R   A3L2U581LL17EB    4.0   \n",
      "134      B000063W1R   A28ILXH590CMRJ    4.0   \n",
      "135      B000063W1R   A2VOIE123XM7T5    3.0   \n",
      "136      B000063W1R    ADX5JX5LKLC22    5.0   \n",
      "138      B000063W1R   A13TO1ZFAH9SVN    5.0   \n",
      "172      B000063W1R    ANCOMAI0I7LVG    5.0   \n",
      "174      B000063W1R   A2XUIU2GOMA68G    5.0   \n",
      "175      B000063W1R   A3EFCK0HZQPNQI    4.0   \n",
      "178      B000063W1R   A2RW7HXNEJ0QTQ    5.0   \n",
      "180      B000063W1R    AG9A3ZL7ODL6X    5.0   \n",
      "186      B000063W1R   A1UMSB7LAW0RIR    5.0   \n",
      "188      B000063W1R   A27GP310AJR9JI    4.0   \n",
      "189      B000063W1R   A39CX0EE4BZCZC    5.0   \n",
      "192      B000063W1R   A3VC1CIRFDXJAY    5.0   \n",
      "...             ...              ...    ...   \n",
      "7910146  B000A2WJBG   A1U6XPYATU9OPG    5.0   \n",
      "7910147  B000A2WJBG   A3R4794K2RVU1S    5.0   \n",
      "7910148  B000A2WJBG     AMYMJ96STIRW    5.0   \n",
      "7910149  B000A2WJBG   A35ZK3M8L9JUPX    5.0   \n",
      "7910150  B000A2WJBG    A3GRMGG78SKPO    5.0   \n",
      "7910152  B000A2WJBG    ATECU14VUIOJ0    4.0   \n",
      "7910153  B000A2WJBG   A2V2XRUGEYYCGG    5.0   \n",
      "7910155  B000A2WJBG    AYWAY5MKLAITN    5.0   \n",
      "7910157  B000A2WJBG   A2UNU37JP14QJG    5.0   \n",
      "7910158  B000A2WJBG   A3HVU14SQ05N2W    4.0   \n",
      "7910159  B000A2WJBG    AZSN1TO0JI87B    4.0   \n",
      "7910160  B000A2WJBG    A2JG0Z691ZEC5    5.0   \n",
      "7910165  B000A2WJBG   A3ORWAR4CAOPAC    4.0   \n",
      "7910167  B000A2WJBG    AI54XO5Z755FH    3.0   \n",
      "7910169  B000A2WJBG    AEQFYOI6YJ83Z    5.0   \n",
      "7910171  B000A2WJBG   A16KGWSANK16LD    4.0   \n",
      "7910172  B000A2WJBG   A1OGORMOPYZ0PY    5.0   \n",
      "7910173  B000A2WJBG    ANGH6401L9Y0T    4.0   \n",
      "7910174  B000A2WJBG   A2VP7JOT3K7PFM    5.0   \n",
      "7910177  B000A2WJBG   A2C7BOQVFH1HLE    4.0   \n",
      "7910179  B000A2WJBG   A2HVL790PBWYTU    4.0   \n",
      "7910181  B000A2WJBG   A34UVV757IKPVB    5.0   \n",
      "7910183  B000A2WJBG   A370Z6I5GBWU44    4.0   \n",
      "7910184  B000A2WJBG   A2XRMQA6PJ5ZJ8    4.0   \n",
      "7910185  B000A2WJBG   A16LP6AB6C5LMZ    4.0   \n",
      "7910186  B000A2WJBG   A2XA0P02QNFA38    5.0   \n",
      "7910187  B000A2WJBG   A2HFL26OQJ2T9X    3.0   \n",
      "7910188  B000A2WJBG   A1OYW08VVPMP3Q    4.0   \n",
      "7910192  B000A2WJBG   A13D1WTFEMS9VH    4.0   \n",
      "7910193  B000A2WJBG   A3N667H15CHUHM    5.0   \n",
      "\n",
      "                                                   summary  \\\n",
      "79        A tale of revenge, love, adventure, and endur...   \n",
      "82                            Monte Cristo in 2 Hour Film?   \n",
      "97                                                     wow   \n",
      "99          A MOVIE THAT MEETS THE STANDARDS OF THE BOOK!!   \n",
      "100                                        A classic movie   \n",
      "101                           Innocence turned to Revenge!   \n",
      "106              &quot;you must look into that storm&quot;   \n",
      "108                                  Torment and vengeance   \n",
      "113       Amazing film - but with a couple of minor gli...   \n",
      "114              a nice adaptation of Dumas's clasic novel   \n",
      "116                                              Great Job   \n",
      "117              Wow, a really great re-doing of the story   \n",
      "128                                     Watched Many Times   \n",
      "129                       Count on revenge, and then some.   \n",
      "130         A surprisingly fresh and superb adventure film   \n",
      "131                Not the Story, but Enjoyable Nontheless   \n",
      "132                                  A spirited adventure.   \n",
      "134       James Caviezel leads the way in a solid MONTE...   \n",
      "135                   A Good Film-But Not the True \"Count\"   \n",
      "136       BREATHTAKING...THEY JUST DON'T MAKE 'EM LIKE ...   \n",
      "138                           Fantastic Swashbuckling Tail   \n",
      "172                              Blood, sweat and tears...   \n",
      "174                  Revenge is a dish best served cold...   \n",
      "175                           A fun and absorbing movie...   \n",
      "178                                   God give me Justice!   \n",
      "180       Fantastic Movie that is Entertaining and Enli...   \n",
      "186       This is a GREAT film, overlooked by so many, ...   \n",
      "188                                 Could have been better   \n",
      "189                              Revenge, Justice Or Both?   \n",
      "192       THE POOR SEAMAN, BECOMES  A MEGA RICH COUNT O...   \n",
      "...                                                    ...   \n",
      "7910146           Will Smith has a PhD in battling robots!   \n",
      "7910147     Pulse-pounding action thriller - A must watch!   \n",
      "7910148                                    Who'd a knowed?   \n",
      "7910149                                           I, Robot   \n",
      "7910150                    Another Great Will Smith Movie.   \n",
      "7910152                            Perfect Genre for Smith   \n",
      "7910153   Why can't Spielberg make movies like this any...   \n",
      "7910155                \"I think he wanted me to kill you.\"   \n",
      "7910157                             Pleasantly Surprised!!   \n",
      "7910158       I, Robot and the New and Improved Will Smith   \n",
      "7910159                A Good, Old Fashioned Popcorn Flick   \n",
      "7910160              One of Will Smith's Best Performances   \n",
      "7910165   With Apologies to Isaac Asimov, I liked This ...   \n",
      "7910167                    One of the better sci-fi movies   \n",
      "7910169   An action movie featuring Will Smith--enterta...   \n",
      "7910171     One of the best films of 2004 without a doubt!   \n",
      "7910172                             Amazing 3D Conversion!   \n",
      "7910173     Great Vehicle for Will Smith's Towering Talent   \n",
      "7910174   \"You know what they say?  Laws were made to b...   \n",
      "7910177   Entertaining Future-Noir Never Looked and Sou...   \n",
      "7910179   \"One day they'll have secrets. One day they'l...   \n",
      "7910181                                 I LOVE this movie.   \n",
      "7910183                                        Decent film   \n",
      "7910184   Excellent, well-acted science fiction enterta...   \n",
      "7910185                                  Good Action Flick   \n",
      "7910186   More connected with classic Sci-Fi than many ...   \n",
      "7910187                                   I, Will Smith...   \n",
      "7910188                     A surprisingly good adaptation   \n",
      "7910192                                        I, Liked It   \n",
      "7910193   A good movie, despite the poor reviews it was...   \n",
      "\n",
      "                                                    review  \n",
      "79       I should have read the book by now!  That's wh...  \n",
      "82       The Count of Monte Cristo by Alexandre Dumas i...  \n",
      "97       It is one of the best films I have seen and se...  \n",
      "99       this movie is incredible. very captivating fro...  \n",
      "100      There is nothing bad to say about this movie. ...  \n",
      "101      Very good acting!  A bad guy you love to hate....  \n",
      "106      Based on the Dumas story, this fabulous advent...  \n",
      "108      If you like movies like Braveheart, The Patrio...  \n",
      "113      I'll admit, I've not read the original source ...  \n",
      "114      A film by Kevin Reynolds<p>This is the recent ...  \n",
      "116      Most of the older style movies really turn me ...  \n",
      "117      I very much enjoyed this iteration of the Coun...  \n",
      "128      I have watched this movie numerous times. I ha...  \n",
      "129      After attending the release of \"The Count of M...  \n",
      "130      In this time of fire and explosion oriented bl...  \n",
      "131      If you have never discovered the wonderful wor...  \n",
      "132      This most recent adaptation of Alexandre Dumas...  \n",
      "134      Alexandre Dumas' classic adventure novel of re...  \n",
      "135      \"The Count of Monte Cristo\" by Alexandre Dumas...  \n",
      "136      Like the previous reviewer, I too was fortunat...  \n",
      "138      This is definetly not Dumas Count of Monte Cri...  \n",
      "172      You can place this in that `far better than I ...  \n",
      "174      And even though the above quote is not taken f...  \n",
      "175      While this film may not make it into the \"clas...  \n",
      "178      One of my favorite movies of all time. James C...  \n",
      "180      We always enjoy seeing this adaptation of the ...  \n",
      "186      My brother suggested we watch this.  Normally ...  \n",
      "188      This addition of the famous story is mostly to...  \n",
      "189      I really  appreciated this film on the second ...  \n",
      "192      This is one of my favorite versions of the cou...  \n",
      "...                                                    ...  \n",
      "7910146  Caught this other day on My38 TV, which inspir...  \n",
      "7910147  If you haven't watched this movie yet, or just...  \n",
      "7910148  Back in the days of \"Fresh Prince\" Will Smith ...  \n",
      "7910149  Great acting, especially by Will Smith. Even b...  \n",
      "7910150  He has done it again. Blu-ray version of this ...  \n",
      "7910152  Asimov has always given us tales that make us ...  \n",
      "7910153  I finally caught this film, almost by accident...  \n",
      "7910155  Although this movie is heavy on the effects it...  \n",
      "7910157  Originally, when I saw the previws for this fi...  \n",
      "7910158  While my taste runs to a more sophisticated ty...  \n",
      "7910159  Will Smith is easily the most charismatic man ...  \n",
      "7910160  I cannot say enough about this film! I remembe...  \n",
      "7910165  Disassociate this movie from the book by Isaac...  \n",
      "7910167  I would choose \"I, Robot\" over any of the ultr...  \n",
      "7910169  Ok, so maybe this movie isn't exactly a \"think...  \n",
      "7910171  Join Will Smith in this action-packed sci-fi m...  \n",
      "7910172  I've loved I, Robot since it's release; and am...  \n",
      "7910173  Will Smith certainly gets the interesting scie...  \n",
      "7910174  XXXXX<br /><br />\"LAW I: A robot may not injur...  \n",
      "7910177  I have to disclose right at the start that I h...  \n",
      "7910179  Isaac Asimov's Three Laws of Robotics having b...  \n",
      "7910181  I'm a big fan of sci-fi movies.  My favorite i...  \n",
      "7910183  I haven't read the book that this movie was ba...  \n",
      "7910184  \"I, Robot is very well done science fiction en...  \n",
      "7910185  All in all, the movie is a good action flick. ...  \n",
      "7910186  This film borrows its title from a collection ...  \n",
      "7910187  [3.5 stars]<br /><br />How you take this film ...  \n",
      "7910188  Loosely based upon Isaac Asimov's story, Will ...  \n",
      "7910192  After reading some of the professional reviews...  \n",
      "7910193  I'm surprised that, overall, this movie is onl...  \n",
      "\n",
      "[1143099 rows x 5 columns]\n"
     ]
    }
   ],
   "source": [
    "df_new_moview=df_new[df_new.groupby(\"productId\")['productId'].transform('size') > 100]\n",
    "print(df_new_moview)"
   ]
  },
  {
   "cell_type": "code",
   "execution_count": 20,
   "metadata": {},
   "outputs": [
    {
     "name": "stdout",
     "output_type": "stream",
     "text": [
      "          productId           userId  score  \\\n",
      "79       B000063W1R   A18758S1PUYIDT    4.0   \n",
      "82       B000063W1R   A23Q1T4MXZHFM7    3.0   \n",
      "97       B000063W1R   A3N2MVBI1A2I9Y    5.0   \n",
      "99       B000063W1R   A355WMP0CQBJFX    5.0   \n",
      "100      B000063W1R   A2CU4L3OK00M23    5.0   \n",
      "101      B000063W1R    A41I67QYRAOSQ    4.0   \n",
      "106      B000063W1R    AQ8DU6XVA3USJ    5.0   \n",
      "108      B000063W1R    ALX2RTJW3NF0O    4.0   \n",
      "113      B000063W1R   A1FBZRYTAA6O1Z    5.0   \n",
      "114      B000063W1R   A2FEGRJQNU51P9    4.0   \n",
      "116      B000063W1R   A1EMDSTJDUE6B0    5.0   \n",
      "117      B000063W1R    A7FMCZZVFHRLW    4.0   \n",
      "128      B000063W1R   A17WER66R17JEF    5.0   \n",
      "129      B000063W1R   A2198FZZMTJ38H    5.0   \n",
      "130      B000063W1R   A328S9RN3U5M68    5.0   \n",
      "131      B000063W1R   A2V3P1XE33NYC3    4.0   \n",
      "132      B000063W1R   A3L2U581LL17EB    4.0   \n",
      "134      B000063W1R   A28ILXH590CMRJ    4.0   \n",
      "135      B000063W1R   A2VOIE123XM7T5    3.0   \n",
      "136      B000063W1R    ADX5JX5LKLC22    5.0   \n",
      "138      B000063W1R   A13TO1ZFAH9SVN    5.0   \n",
      "172      B000063W1R    ANCOMAI0I7LVG    5.0   \n",
      "174      B000063W1R   A2XUIU2GOMA68G    5.0   \n",
      "175      B000063W1R   A3EFCK0HZQPNQI    4.0   \n",
      "178      B000063W1R   A2RW7HXNEJ0QTQ    5.0   \n",
      "180      B000063W1R    AG9A3ZL7ODL6X    5.0   \n",
      "186      B000063W1R   A1UMSB7LAW0RIR    5.0   \n",
      "188      B000063W1R   A27GP310AJR9JI    4.0   \n",
      "189      B000063W1R   A39CX0EE4BZCZC    5.0   \n",
      "192      B000063W1R   A3VC1CIRFDXJAY    5.0   \n",
      "...             ...              ...    ...   \n",
      "7910146  B000A2WJBG   A1U6XPYATU9OPG    5.0   \n",
      "7910147  B000A2WJBG   A3R4794K2RVU1S    5.0   \n",
      "7910148  B000A2WJBG     AMYMJ96STIRW    5.0   \n",
      "7910149  B000A2WJBG   A35ZK3M8L9JUPX    5.0   \n",
      "7910150  B000A2WJBG    A3GRMGG78SKPO    5.0   \n",
      "7910152  B000A2WJBG    ATECU14VUIOJ0    4.0   \n",
      "7910153  B000A2WJBG   A2V2XRUGEYYCGG    5.0   \n",
      "7910155  B000A2WJBG    AYWAY5MKLAITN    5.0   \n",
      "7910157  B000A2WJBG   A2UNU37JP14QJG    5.0   \n",
      "7910158  B000A2WJBG   A3HVU14SQ05N2W    4.0   \n",
      "7910159  B000A2WJBG    AZSN1TO0JI87B    4.0   \n",
      "7910160  B000A2WJBG    A2JG0Z691ZEC5    5.0   \n",
      "7910165  B000A2WJBG   A3ORWAR4CAOPAC    4.0   \n",
      "7910167  B000A2WJBG    AI54XO5Z755FH    3.0   \n",
      "7910169  B000A2WJBG    AEQFYOI6YJ83Z    5.0   \n",
      "7910171  B000A2WJBG   A16KGWSANK16LD    4.0   \n",
      "7910172  B000A2WJBG   A1OGORMOPYZ0PY    5.0   \n",
      "7910173  B000A2WJBG    ANGH6401L9Y0T    4.0   \n",
      "7910174  B000A2WJBG   A2VP7JOT3K7PFM    5.0   \n",
      "7910177  B000A2WJBG   A2C7BOQVFH1HLE    4.0   \n",
      "7910179  B000A2WJBG   A2HVL790PBWYTU    4.0   \n",
      "7910181  B000A2WJBG   A34UVV757IKPVB    5.0   \n",
      "7910183  B000A2WJBG   A370Z6I5GBWU44    4.0   \n",
      "7910184  B000A2WJBG   A2XRMQA6PJ5ZJ8    4.0   \n",
      "7910185  B000A2WJBG   A16LP6AB6C5LMZ    4.0   \n",
      "7910186  B000A2WJBG   A2XA0P02QNFA38    5.0   \n",
      "7910187  B000A2WJBG   A2HFL26OQJ2T9X    3.0   \n",
      "7910188  B000A2WJBG   A1OYW08VVPMP3Q    4.0   \n",
      "7910192  B000A2WJBG   A13D1WTFEMS9VH    4.0   \n",
      "7910193  B000A2WJBG   A3N667H15CHUHM    5.0   \n",
      "\n",
      "                                                   summary  \\\n",
      "79        A tale of revenge, love, adventure, and endur...   \n",
      "82                            Monte Cristo in 2 Hour Film?   \n",
      "97                                                     wow   \n",
      "99          A MOVIE THAT MEETS THE STANDARDS OF THE BOOK!!   \n",
      "100                                        A classic movie   \n",
      "101                           Innocence turned to Revenge!   \n",
      "106              &quot;you must look into that storm&quot;   \n",
      "108                                  Torment and vengeance   \n",
      "113       Amazing film - but with a couple of minor gli...   \n",
      "114              a nice adaptation of Dumas's clasic novel   \n",
      "116                                              Great Job   \n",
      "117              Wow, a really great re-doing of the story   \n",
      "128                                     Watched Many Times   \n",
      "129                       Count on revenge, and then some.   \n",
      "130         A surprisingly fresh and superb adventure film   \n",
      "131                Not the Story, but Enjoyable Nontheless   \n",
      "132                                  A spirited adventure.   \n",
      "134       James Caviezel leads the way in a solid MONTE...   \n",
      "135                   A Good Film-But Not the True \"Count\"   \n",
      "136       BREATHTAKING...THEY JUST DON'T MAKE 'EM LIKE ...   \n",
      "138                           Fantastic Swashbuckling Tail   \n",
      "172                              Blood, sweat and tears...   \n",
      "174                  Revenge is a dish best served cold...   \n",
      "175                           A fun and absorbing movie...   \n",
      "178                                   God give me Justice!   \n",
      "180       Fantastic Movie that is Entertaining and Enli...   \n",
      "186       This is a GREAT film, overlooked by so many, ...   \n",
      "188                                 Could have been better   \n",
      "189                              Revenge, Justice Or Both?   \n",
      "192       THE POOR SEAMAN, BECOMES  A MEGA RICH COUNT O...   \n",
      "...                                                    ...   \n",
      "7910146           Will Smith has a PhD in battling robots!   \n",
      "7910147     Pulse-pounding action thriller - A must watch!   \n",
      "7910148                                    Who'd a knowed?   \n",
      "7910149                                           I, Robot   \n",
      "7910150                    Another Great Will Smith Movie.   \n",
      "7910152                            Perfect Genre for Smith   \n",
      "7910153   Why can't Spielberg make movies like this any...   \n",
      "7910155                \"I think he wanted me to kill you.\"   \n",
      "7910157                             Pleasantly Surprised!!   \n",
      "7910158       I, Robot and the New and Improved Will Smith   \n",
      "7910159                A Good, Old Fashioned Popcorn Flick   \n",
      "7910160              One of Will Smith's Best Performances   \n",
      "7910165   With Apologies to Isaac Asimov, I liked This ...   \n",
      "7910167                    One of the better sci-fi movies   \n",
      "7910169   An action movie featuring Will Smith--enterta...   \n",
      "7910171     One of the best films of 2004 without a doubt!   \n",
      "7910172                             Amazing 3D Conversion!   \n",
      "7910173     Great Vehicle for Will Smith's Towering Talent   \n",
      "7910174   \"You know what they say?  Laws were made to b...   \n",
      "7910177   Entertaining Future-Noir Never Looked and Sou...   \n",
      "7910179   \"One day they'll have secrets. One day they'l...   \n",
      "7910181                                 I LOVE this movie.   \n",
      "7910183                                        Decent film   \n",
      "7910184   Excellent, well-acted science fiction enterta...   \n",
      "7910185                                  Good Action Flick   \n",
      "7910186   More connected with classic Sci-Fi than many ...   \n",
      "7910187                                   I, Will Smith...   \n",
      "7910188                     A surprisingly good adaptation   \n",
      "7910192                                        I, Liked It   \n",
      "7910193   A good movie, despite the poor reviews it was...   \n",
      "\n",
      "                                                    review  \n",
      "79       I should have read the book by now!  That's wh...  \n",
      "82       The Count of Monte Cristo by Alexandre Dumas i...  \n",
      "97       It is one of the best films I have seen and se...  \n",
      "99       this movie is incredible. very captivating fro...  \n",
      "100      There is nothing bad to say about this movie. ...  \n",
      "101      Very good acting!  A bad guy you love to hate....  \n",
      "106      Based on the Dumas story, this fabulous advent...  \n",
      "108      If you like movies like Braveheart, The Patrio...  \n",
      "113      I'll admit, I've not read the original source ...  \n",
      "114      A film by Kevin Reynolds<p>This is the recent ...  \n",
      "116      Most of the older style movies really turn me ...  \n",
      "117      I very much enjoyed this iteration of the Coun...  \n",
      "128      I have watched this movie numerous times. I ha...  \n",
      "129      After attending the release of \"The Count of M...  \n",
      "130      In this time of fire and explosion oriented bl...  \n",
      "131      If you have never discovered the wonderful wor...  \n",
      "132      This most recent adaptation of Alexandre Dumas...  \n",
      "134      Alexandre Dumas' classic adventure novel of re...  \n",
      "135      \"The Count of Monte Cristo\" by Alexandre Dumas...  \n",
      "136      Like the previous reviewer, I too was fortunat...  \n",
      "138      This is definetly not Dumas Count of Monte Cri...  \n",
      "172      You can place this in that `far better than I ...  \n",
      "174      And even though the above quote is not taken f...  \n",
      "175      While this film may not make it into the \"clas...  \n",
      "178      One of my favorite movies of all time. James C...  \n",
      "180      We always enjoy seeing this adaptation of the ...  \n",
      "186      My brother suggested we watch this.  Normally ...  \n",
      "188      This addition of the famous story is mostly to...  \n",
      "189      I really  appreciated this film on the second ...  \n",
      "192      This is one of my favorite versions of the cou...  \n",
      "...                                                    ...  \n",
      "7910146  Caught this other day on My38 TV, which inspir...  \n",
      "7910147  If you haven't watched this movie yet, or just...  \n",
      "7910148  Back in the days of \"Fresh Prince\" Will Smith ...  \n",
      "7910149  Great acting, especially by Will Smith. Even b...  \n",
      "7910150  He has done it again. Blu-ray version of this ...  \n",
      "7910152  Asimov has always given us tales that make us ...  \n",
      "7910153  I finally caught this film, almost by accident...  \n",
      "7910155  Although this movie is heavy on the effects it...  \n",
      "7910157  Originally, when I saw the previws for this fi...  \n",
      "7910158  While my taste runs to a more sophisticated ty...  \n",
      "7910159  Will Smith is easily the most charismatic man ...  \n",
      "7910160  I cannot say enough about this film! I remembe...  \n",
      "7910165  Disassociate this movie from the book by Isaac...  \n",
      "7910167  I would choose \"I, Robot\" over any of the ultr...  \n",
      "7910169  Ok, so maybe this movie isn't exactly a \"think...  \n",
      "7910171  Join Will Smith in this action-packed sci-fi m...  \n",
      "7910172  I've loved I, Robot since it's release; and am...  \n",
      "7910173  Will Smith certainly gets the interesting scie...  \n",
      "7910174  XXXXX<br /><br />\"LAW I: A robot may not injur...  \n",
      "7910177  I have to disclose right at the start that I h...  \n",
      "7910179  Isaac Asimov's Three Laws of Robotics having b...  \n",
      "7910181  I'm a big fan of sci-fi movies.  My favorite i...  \n",
      "7910183  I haven't read the book that this movie was ba...  \n",
      "7910184  \"I, Robot is very well done science fiction en...  \n",
      "7910185  All in all, the movie is a good action flick. ...  \n",
      "7910186  This film borrows its title from a collection ...  \n",
      "7910187  [3.5 stars]<br /><br />How you take this film ...  \n",
      "7910188  Loosely based upon Isaac Asimov's story, Will ...  \n",
      "7910192  After reading some of the professional reviews...  \n",
      "7910193  I'm surprised that, overall, this movie is onl...  \n",
      "\n",
      "[1143099 rows x 5 columns]\n"
     ]
    }
   ],
   "source": [
    "print(df_new_moview)"
   ]
  },
  {
   "cell_type": "code",
   "execution_count": 42,
   "metadata": {},
   "outputs": [
    {
     "name": "stdout",
     "output_type": "stream",
     "text": [
      "       productId  count\n",
      "0     076780192X    161\n",
      "1     0767802446    109\n",
      "2     0767802470    114\n",
      "3     0767802489    114\n",
      "4     0767802519    118\n",
      "5     0767802527    118\n",
      "6     0767802624    109\n",
      "7     0767802659    135\n",
      "8     0767805267    201\n",
      "9     0767805690    121\n",
      "10    0767805712    121\n",
      "11    0767811038    135\n",
      "12    0767811100    101\n",
      "13    0767811712    101\n",
      "14    0767811720    101\n",
      "15    0767812778    180\n",
      "16    0767817443    146\n",
      "17    0767817451    146\n",
      "18    0767817478    146\n",
      "19    0767817974    126\n",
      "20    0767824571    126\n",
      "21    0767825411    146\n",
      "22    0767827023    126\n",
      "23    0767827031    161\n",
      "24    0767830520    154\n",
      "25    0767830539    154\n",
      "26    0767830547    154\n",
      "27    0767834720    144\n",
      "28    0767834739    144\n",
      "29    0767835263    109\n",
      "...          ...    ...\n",
      "6969  B0090XHWVS    307\n",
      "6970  B0090XHWYA    157\n",
      "6971  B0090XJJSC    134\n",
      "6972  B0090XJJT6    406\n",
      "6973  B0090XK9CC    234\n",
      "6974  B0090XLDKY    163\n",
      "6975  B0090XPGVG    238\n",
      "6976  B009329ZF2    111\n",
      "6977  B0093ICOE0    285\n",
      "6978  B0095D4I8S    154\n",
      "6979  B00962QYVC    182\n",
      "6980  B009653J0S    118\n",
      "6981  B0097GUQPW    150\n",
      "6982  B009A87Z6U    212\n",
      "6983  B009A87ZKG    150\n",
      "6984  B009AGRE5O    109\n",
      "6985  B009AJD5E0    215\n",
      "6986  B009CG8YJW    144\n",
      "6987  B009GMFSXC    101\n",
      "6988  B009GN6DT4    130\n",
      "6989  B009HEM65M    106\n",
      "6990  B009JZTQOS    118\n",
      "6991  B009K5257M    109\n",
      "6992  B009L69K1O    120\n",
      "6993  B009LFVV6M    219\n",
      "6994  B009NQKPUW    216\n",
      "6995  B009OMYASS    230\n",
      "6996  B009QW7U3S    101\n",
      "6997  B009RI4372    140\n",
      "6998  B009TTGMB4    154\n",
      "\n",
      "[6999 rows x 2 columns]\n"
     ]
    }
   ],
   "source": [
    "top_ten_movies=df_new_moview.groupby( [ \"productId\"] ).size().to_frame(name = 'count').reset_index()\n",
    "print(top_ten_movies)"
   ]
  },
  {
   "cell_type": "code",
   "execution_count": 43,
   "metadata": {},
   "outputs": [],
   "source": [
    "top_ten_movies.drop_duplicates(subset =\"count\", \n",
    "                     keep=\"last\", inplace = True) "
   ]
  },
  {
   "cell_type": "code",
   "execution_count": 44,
   "metadata": {},
   "outputs": [
    {
     "name": "stdout",
     "output_type": "stream",
     "text": [
      "       productId  count\n",
      "2680  B0000TB04G    279\n",
      "3066  B0006989TE    357\n",
      "3246  B0009NMSUI    268\n",
      "3336  B000AMWIVM    282\n",
      "3804  B000HT3Q0A    271\n",
      "3927  B000ICLRIE    221\n",
      "3980  B000J10EQU    391\n",
      "4193  B000N6UERU    242\n",
      "4234  B000NTHT6G    185\n",
      "4259  B000O76T7M    277\n",
      "4463  B000TCSWA4    261\n",
      "4466  B000TGJ7ZY    174\n",
      "4937  B0016RDEH2    350\n",
      "4945  B0017H5EAQ    258\n",
      "4959  B00186E254    256\n",
      "5054  B001BN4WMW    228\n",
      "5176  B001EL6EH2    265\n",
      "5187  B001F4UHFI    152\n",
      "5191  B001F6PZVM    310\n",
      "5292  B001IA2PTK    383\n",
      "5314  B001JNNDCY    246\n",
      "5534  B001UV4XEM    143\n",
      "5569  B001YV502C    229\n",
      "5598  B0024NSG4I    372\n",
      "5600  B0024NSG52    348\n",
      "5638  B00284BNKC    194\n",
      "5652  B0028OA3EY    392\n",
      "5705  B002EDH5W2    280\n",
      "5753  B002KGREJW    252\n",
      "5772  B002M4CEZG    262\n",
      "...          ...    ...\n",
      "6962  B008Y6UPN4    123\n",
      "6964  B008Y6YLBG    110\n",
      "6966  B008Y7DWC4    141\n",
      "6967  B008YI91HS    129\n",
      "6968  B0090XG9US    119\n",
      "6969  B0090XHWVS    307\n",
      "6970  B0090XHWYA    157\n",
      "6971  B0090XJJSC    134\n",
      "6972  B0090XJJT6    406\n",
      "6973  B0090XK9CC    234\n",
      "6974  B0090XLDKY    163\n",
      "6975  B0090XPGVG    238\n",
      "6976  B009329ZF2    111\n",
      "6977  B0093ICOE0    285\n",
      "6979  B00962QYVC    182\n",
      "6982  B009A87Z6U    212\n",
      "6983  B009A87ZKG    150\n",
      "6985  B009AJD5E0    215\n",
      "6986  B009CG8YJW    144\n",
      "6988  B009GN6DT4    130\n",
      "6989  B009HEM65M    106\n",
      "6990  B009JZTQOS    118\n",
      "6991  B009K5257M    109\n",
      "6992  B009L69K1O    120\n",
      "6993  B009LFVV6M    219\n",
      "6994  B009NQKPUW    216\n",
      "6995  B009OMYASS    230\n",
      "6996  B009QW7U3S    101\n",
      "6997  B009RI4372    140\n",
      "6998  B009TTGMB4    154\n",
      "\n",
      "[189 rows x 2 columns]\n"
     ]
    }
   ],
   "source": [
    "print(top_ten_movies)"
   ]
  },
  {
   "cell_type": "code",
   "execution_count": 45,
   "metadata": {},
   "outputs": [],
   "source": [
    "movies_keep=top_ten_movies['productId']"
   ]
  },
  {
   "cell_type": "code",
   "execution_count": 47,
   "metadata": {},
   "outputs": [],
   "source": [
    "new_df= df_new_moview[df_new_moview.productId.isin(movies_keep)]"
   ]
  },
  {
   "cell_type": "code",
   "execution_count": 49,
   "metadata": {},
   "outputs": [
    {
     "data": {
      "text/plain": [
       "(39091, 5)"
      ]
     },
     "execution_count": 49,
     "metadata": {},
     "output_type": "execute_result"
    }
   ],
   "source": [
    "new_df.shape"
   ]
  },
  {
   "cell_type": "code",
   "execution_count": 53,
   "metadata": {},
   "outputs": [
    {
     "data": {
      "text/plain": [
       "userId\n",
       " A100JCBNALJFAW    14\n",
       " A100RFQHFO005W     1\n",
       " A1027EV8A9PV1O     1\n",
       " A102B8D74H64TO     3\n",
       " A102RDJLOHWS0W     2\n",
       " A102YM3H3O003E     2\n",
       " A103EXN5Q7HX6Z     2\n",
       " A103KNDW8GN92L     2\n",
       " A103QX7NUHBOUF     2\n",
       " A103W7ZPKGOCC9     2\n",
       " A105YVLAZNYQUU     6\n",
       " A105ZJZTVLUC8Q     1\n",
       " A106016KSI0YQ     10\n",
       " A106K1RIUF902A     1\n",
       " A107ZX1O8JZCN5     1\n",
       " A10872FHIJAKKD     4\n",
       " A1089V1E6BFW39     3\n",
       " A108A421PC6MH3     5\n",
       " A109LWN9DUGPDP     8\n",
       " A10A503ML6J308     1\n",
       " A10BT85QEKBZNZ     3\n",
       " A10C2SBALDLKU9     4\n",
       " A10C3IAZUXZ705     2\n",
       " A10C5CJK1YKGV0    10\n",
       " A10CJINP7KBR4W     9\n",
       " A10CNESX5YEO1B     1\n",
       " A10D3I4NV0H6E5     1\n",
       " A10DB0H2NZF11E    19\n",
       " A10DQWWRKGQ6FY     1\n",
       " A10E3F50DIUJEE     7\n",
       "                   ..\n",
       " AZIZ8DF9DBFTD      6\n",
       " AZJHU77G4SDCJ      1\n",
       " AZKXH0J59TK11      2\n",
       " AZLC3D46UHOAK      1\n",
       " AZMOM619PTO5B      2\n",
       " AZMZB6YUWIBGV      1\n",
       " AZN28ZLXYIJDE      2\n",
       " AZNFKXDOLCLE9      7\n",
       " AZNQDDC78PRFL      2\n",
       " AZOO52O4MU7KX      1\n",
       " AZOW89D0NXMUT      6\n",
       " AZQ4FW0OW5VF4      1\n",
       " AZQ6PYDEJQJEF      2\n",
       " AZQ7O73EAS3VI      9\n",
       " AZQQVI9RHJYH6      1\n",
       " AZR02UVFP8EQB      1\n",
       " AZRJH4JFB59VC      1\n",
       " AZRW9KDV2X8E8      1\n",
       " AZSN1TO0JI87B     22\n",
       " AZTDHDUTVOSCC     11\n",
       " AZUBX0AYYNTFF      1\n",
       " AZV6OGQRNDLOT      2\n",
       " AZV6Q51FY9NQ3      2\n",
       " AZVCNOOQK36DH      2\n",
       " AZWB1G3RO89IA      2\n",
       " AZXGPM8EKSHE9      9\n",
       " AZXHK8IO25FL6      2\n",
       " AZXTPGNAB366A      6\n",
       " AZY1OM4M0YXXI      1\n",
       " AZZL3XXUJVJ68      1\n",
       "Name: userId, Length: 10299, dtype: int64"
      ]
     },
     "execution_count": 53,
     "metadata": {},
     "output_type": "execute_result"
    }
   ],
   "source": [
    "new_df.groupby('userId')['userId'].count()"
   ]
  },
  {
   "cell_type": "code",
   "execution_count": 50,
   "metadata": {},
   "outputs": [],
   "source": [
    "new_df=pd.DataFrame(data=new_df)"
   ]
  },
  {
   "cell_type": "code",
   "execution_count": 51,
   "metadata": {},
   "outputs": [],
   "source": [
    "new_df.to_csv(\"temp_movies.csv\")"
   ]
  },
  {
   "cell_type": "code",
   "execution_count": 24,
   "metadata": {},
   "outputs": [],
   "source": [
    "top_ten_movies=top_ten_movies.rename(index={0: \"productId\", 1: \"Count\"})"
   ]
  },
  {
   "cell_type": "code",
   "execution_count": 46,
   "metadata": {},
   "outputs": [
    {
     "name": "stdout",
     "output_type": "stream",
     "text": [
      "2680    B0000TB04G\n",
      "3066    B0006989TE\n",
      "3246    B0009NMSUI\n",
      "3336    B000AMWIVM\n",
      "3804    B000HT3Q0A\n",
      "3927    B000ICLRIE\n",
      "3980    B000J10EQU\n",
      "4193    B000N6UERU\n",
      "4234    B000NTHT6G\n",
      "4259    B000O76T7M\n",
      "4463    B000TCSWA4\n",
      "4466    B000TGJ7ZY\n",
      "4937    B0016RDEH2\n",
      "4945    B0017H5EAQ\n",
      "4959    B00186E254\n",
      "5054    B001BN4WMW\n",
      "5176    B001EL6EH2\n",
      "5187    B001F4UHFI\n",
      "5191    B001F6PZVM\n",
      "5292    B001IA2PTK\n",
      "5314    B001JNNDCY\n",
      "5534    B001UV4XEM\n",
      "5569    B001YV502C\n",
      "5598    B0024NSG4I\n",
      "5600    B0024NSG52\n",
      "5638    B00284BNKC\n",
      "5652    B0028OA3EY\n",
      "5705    B002EDH5W2\n",
      "5753    B002KGREJW\n",
      "5772    B002M4CEZG\n",
      "           ...    \n",
      "6962    B008Y6UPN4\n",
      "6964    B008Y6YLBG\n",
      "6966    B008Y7DWC4\n",
      "6967    B008YI91HS\n",
      "6968    B0090XG9US\n",
      "6969    B0090XHWVS\n",
      "6970    B0090XHWYA\n",
      "6971    B0090XJJSC\n",
      "6972    B0090XJJT6\n",
      "6973    B0090XK9CC\n",
      "6974    B0090XLDKY\n",
      "6975    B0090XPGVG\n",
      "6976    B009329ZF2\n",
      "6977    B0093ICOE0\n",
      "6979    B00962QYVC\n",
      "6982    B009A87Z6U\n",
      "6983    B009A87ZKG\n",
      "6985    B009AJD5E0\n",
      "6986    B009CG8YJW\n",
      "6988    B009GN6DT4\n",
      "6989    B009HEM65M\n",
      "6990    B009JZTQOS\n",
      "6991    B009K5257M\n",
      "6992    B009L69K1O\n",
      "6993    B009LFVV6M\n",
      "6994    B009NQKPUW\n",
      "6995    B009OMYASS\n",
      "6996    B009QW7U3S\n",
      "6997    B009RI4372\n",
      "6998    B009TTGMB4\n",
      "Name: productId, Length: 189, dtype: object\n"
     ]
    }
   ],
   "source": [
    "print(movies_keep)"
   ]
  },
  {
   "cell_type": "code",
   "execution_count": 25,
   "metadata": {},
   "outputs": [
    {
     "name": "stdout",
     "output_type": "stream",
     "text": [
      "productId\n",
      "076780192X    161\n",
      "0767802446    109\n",
      "0767802470    114\n",
      "0767802489    114\n",
      "0767802519    118\n",
      "0767802527    118\n",
      "0767802624    109\n",
      "0767802659    135\n",
      "0767805267    201\n",
      "0767805690    121\n",
      "0767805712    121\n",
      "0767811038    135\n",
      "0767811100    101\n",
      "0767811712    101\n",
      "0767811720    101\n",
      "0767812778    180\n",
      "0767817443    146\n",
      "0767817451    146\n",
      "0767817478    146\n",
      "0767817974    126\n",
      "0767824571    126\n",
      "0767825411    146\n",
      "0767827023    126\n",
      "0767827031    161\n",
      "0767830520    154\n",
      "0767830539    154\n",
      "0767830547    154\n",
      "0767834720    144\n",
      "0767834739    144\n",
      "0767835263    109\n",
      "             ... \n",
      "B0090XHWVS    307\n",
      "B0090XHWYA    157\n",
      "B0090XJJSC    134\n",
      "B0090XJJT6    406\n",
      "B0090XK9CC    234\n",
      "B0090XLDKY    163\n",
      "B0090XPGVG    238\n",
      "B009329ZF2    111\n",
      "B0093ICOE0    285\n",
      "B0095D4I8S    154\n",
      "B00962QYVC    182\n",
      "B009653J0S    118\n",
      "B0097GUQPW    150\n",
      "B009A87Z6U    212\n",
      "B009A87ZKG    150\n",
      "B009AGRE5O    109\n",
      "B009AJD5E0    215\n",
      "B009CG8YJW    144\n",
      "B009GMFSXC    101\n",
      "B009GN6DT4    130\n",
      "B009HEM65M    106\n",
      "B009JZTQOS    118\n",
      "B009K5257M    109\n",
      "B009L69K1O    120\n",
      "B009LFVV6M    219\n",
      "B009NQKPUW    216\n",
      "B009OMYASS    230\n",
      "B009QW7U3S    101\n",
      "B009RI4372    140\n",
      "B009TTGMB4    154\n",
      "Name: productId, Length: 6999, dtype: int64\n"
     ]
    }
   ],
   "source": [
    "print(top_ten_movies)"
   ]
  },
  {
   "cell_type": "code",
   "execution_count": 30,
   "metadata": {},
   "outputs": [
    {
     "ename": "IndexingError",
     "evalue": "Too many indexers",
     "output_type": "error",
     "traceback": [
      "\u001b[0;31m---------------------------------------------------------------------------\u001b[0m",
      "\u001b[0;31mIndexingError\u001b[0m                             Traceback (most recent call last)",
      "\u001b[0;32m<ipython-input-30-264aa43dcc62>\u001b[0m in \u001b[0;36m<module>\u001b[0;34m\u001b[0m\n\u001b[0;32m----> 1\u001b[0;31m \u001b[0mtop_ten_movies\u001b[0m\u001b[0;34m.\u001b[0m\u001b[0miloc\u001b[0m\u001b[0;34m[\u001b[0m\u001b[0;34m:\u001b[0m\u001b[0;34m,\u001b[0m\u001b[0;36m0\u001b[0m\u001b[0;34m]\u001b[0m\u001b[0;34m\u001b[0m\u001b[0;34m\u001b[0m\u001b[0m\n\u001b[0m",
      "\u001b[0;32m/anaconda3/lib/python3.7/site-packages/pandas/core/indexing.py\u001b[0m in \u001b[0;36m__getitem__\u001b[0;34m(self, key)\u001b[0m\n\u001b[1;32m   1470\u001b[0m             \u001b[0;32mexcept\u001b[0m \u001b[0;34m(\u001b[0m\u001b[0mKeyError\u001b[0m\u001b[0;34m,\u001b[0m \u001b[0mIndexError\u001b[0m\u001b[0;34m)\u001b[0m\u001b[0;34m:\u001b[0m\u001b[0;34m\u001b[0m\u001b[0;34m\u001b[0m\u001b[0m\n\u001b[1;32m   1471\u001b[0m                 \u001b[0;32mpass\u001b[0m\u001b[0;34m\u001b[0m\u001b[0;34m\u001b[0m\u001b[0m\n\u001b[0;32m-> 1472\u001b[0;31m             \u001b[0;32mreturn\u001b[0m \u001b[0mself\u001b[0m\u001b[0;34m.\u001b[0m\u001b[0m_getitem_tuple\u001b[0m\u001b[0;34m(\u001b[0m\u001b[0mkey\u001b[0m\u001b[0;34m)\u001b[0m\u001b[0;34m\u001b[0m\u001b[0;34m\u001b[0m\u001b[0m\n\u001b[0m\u001b[1;32m   1473\u001b[0m         \u001b[0;32melse\u001b[0m\u001b[0;34m:\u001b[0m\u001b[0;34m\u001b[0m\u001b[0;34m\u001b[0m\u001b[0m\n\u001b[1;32m   1474\u001b[0m             \u001b[0;31m# we by definition only have the 0th axis\u001b[0m\u001b[0;34m\u001b[0m\u001b[0;34m\u001b[0m\u001b[0;34m\u001b[0m\u001b[0m\n",
      "\u001b[0;32m/anaconda3/lib/python3.7/site-packages/pandas/core/indexing.py\u001b[0m in \u001b[0;36m_getitem_tuple\u001b[0;34m(self, tup)\u001b[0m\n\u001b[1;32m   2011\u001b[0m     \u001b[0;32mdef\u001b[0m \u001b[0m_getitem_tuple\u001b[0m\u001b[0;34m(\u001b[0m\u001b[0mself\u001b[0m\u001b[0;34m,\u001b[0m \u001b[0mtup\u001b[0m\u001b[0;34m)\u001b[0m\u001b[0;34m:\u001b[0m\u001b[0;34m\u001b[0m\u001b[0;34m\u001b[0m\u001b[0m\n\u001b[1;32m   2012\u001b[0m \u001b[0;34m\u001b[0m\u001b[0m\n\u001b[0;32m-> 2013\u001b[0;31m         \u001b[0mself\u001b[0m\u001b[0;34m.\u001b[0m\u001b[0m_has_valid_tuple\u001b[0m\u001b[0;34m(\u001b[0m\u001b[0mtup\u001b[0m\u001b[0;34m)\u001b[0m\u001b[0;34m\u001b[0m\u001b[0;34m\u001b[0m\u001b[0m\n\u001b[0m\u001b[1;32m   2014\u001b[0m         \u001b[0;32mtry\u001b[0m\u001b[0;34m:\u001b[0m\u001b[0;34m\u001b[0m\u001b[0;34m\u001b[0m\u001b[0m\n\u001b[1;32m   2015\u001b[0m             \u001b[0;32mreturn\u001b[0m \u001b[0mself\u001b[0m\u001b[0;34m.\u001b[0m\u001b[0m_getitem_lowerdim\u001b[0m\u001b[0;34m(\u001b[0m\u001b[0mtup\u001b[0m\u001b[0;34m)\u001b[0m\u001b[0;34m\u001b[0m\u001b[0;34m\u001b[0m\u001b[0m\n",
      "\u001b[0;32m/anaconda3/lib/python3.7/site-packages/pandas/core/indexing.py\u001b[0m in \u001b[0;36m_has_valid_tuple\u001b[0;34m(self, key)\u001b[0m\n\u001b[1;32m    218\u001b[0m         \u001b[0;32mfor\u001b[0m \u001b[0mi\u001b[0m\u001b[0;34m,\u001b[0m \u001b[0mk\u001b[0m \u001b[0;32min\u001b[0m \u001b[0menumerate\u001b[0m\u001b[0;34m(\u001b[0m\u001b[0mkey\u001b[0m\u001b[0;34m)\u001b[0m\u001b[0;34m:\u001b[0m\u001b[0;34m\u001b[0m\u001b[0;34m\u001b[0m\u001b[0m\n\u001b[1;32m    219\u001b[0m             \u001b[0;32mif\u001b[0m \u001b[0mi\u001b[0m \u001b[0;34m>=\u001b[0m \u001b[0mself\u001b[0m\u001b[0;34m.\u001b[0m\u001b[0mobj\u001b[0m\u001b[0;34m.\u001b[0m\u001b[0mndim\u001b[0m\u001b[0;34m:\u001b[0m\u001b[0;34m\u001b[0m\u001b[0;34m\u001b[0m\u001b[0m\n\u001b[0;32m--> 220\u001b[0;31m                 \u001b[0;32mraise\u001b[0m \u001b[0mIndexingError\u001b[0m\u001b[0;34m(\u001b[0m\u001b[0;34m'Too many indexers'\u001b[0m\u001b[0;34m)\u001b[0m\u001b[0;34m\u001b[0m\u001b[0;34m\u001b[0m\u001b[0m\n\u001b[0m\u001b[1;32m    221\u001b[0m             \u001b[0;32mtry\u001b[0m\u001b[0;34m:\u001b[0m\u001b[0;34m\u001b[0m\u001b[0;34m\u001b[0m\u001b[0m\n\u001b[1;32m    222\u001b[0m                 \u001b[0mself\u001b[0m\u001b[0;34m.\u001b[0m\u001b[0m_validate_key\u001b[0m\u001b[0;34m(\u001b[0m\u001b[0mk\u001b[0m\u001b[0;34m,\u001b[0m \u001b[0mi\u001b[0m\u001b[0;34m)\u001b[0m\u001b[0;34m\u001b[0m\u001b[0;34m\u001b[0m\u001b[0m\n",
      "\u001b[0;31mIndexingError\u001b[0m: Too many indexers"
     ]
    }
   ],
   "source": []
  },
  {
   "cell_type": "code",
   "execution_count": 33,
   "metadata": {},
   "outputs": [],
   "source": [
    "top_ten_movies.drop_duplicates(subset =\"count\", \n",
    "                     keep = False, inplace = True) "
   ]
  },
  {
   "cell_type": "code",
   "execution_count": 35,
   "metadata": {},
   "outputs": [
    {
     "name": "stdout",
     "output_type": "stream",
     "text": [
      "13\n"
     ]
    }
   ],
   "source": [
    "print(len(top_ten_movies))"
   ]
  },
  {
   "cell_type": "code",
   "execution_count": 7,
   "metadata": {},
   "outputs": [
    {
     "name": "stdout",
     "output_type": "stream",
     "text": [
      "userId\n",
      " A16CZRQL23NOIW    10793\n",
      " A3LZGLA88K0LA0    10304\n",
      " ANCOMAI0I7LVG      9790\n",
      " A2NJO6YE954DBH     9713\n",
      " ABO2ZI2Y5DQ9T      8020\n",
      " A35ZK3M8L9JUPX     7695\n",
      " A39CX0EE4BZCZC     7659\n",
      " A10ODC971MDHV8     7548\n",
      " A328S9RN3U5M68     7448\n",
      " AJKWF4W7QD4NS      7144\n",
      " A1X054KUYG5V       6741\n",
      " A1ER6IYOMM8VCT     6703\n",
      " AIMR915K4YCN       6684\n",
      " A2EDZH51XHFA9B     6558\n",
      " A1GGOC9PVDXW7Z     6406\n",
      " A2B73CL3QSYWLB     6345\n",
      " A19ZXK9HHVRV1X     6216\n",
      " A20EEWWSFMZ1PN     6145\n",
      " A3UDYY6L2NH3JS     6134\n",
      " A1D2C0WDCSHUWZ     6032\n",
      " AWG2O9C42XW5G      5848\n",
      " A3KF4IP2MUS8QQ     5791\n",
      " A1L43KWWR05PCS     5745\n",
      " A2PV6GK1HV54Y9     5388\n",
      " AQP1VPK16SVWM      5172\n",
      " A3MV1KKHX51FYT     5056\n",
      " A370Z6I5GBWU44     4861\n",
      " AER15RIMV8E6D      4765\n",
      " A1GHUN5HXMHZ89     4545\n",
      " A220FJEQNGMSRN     4433\n",
      "                   ...  \n",
      " A34D06JL7LC6MU     3108\n",
      " A152C8GYY25HAH     3100\n",
      " A3Q1FVRV0CRYTH     3094\n",
      " A6VXZ1EEPRTLV      3060\n",
      " A2AOZQ3WTNVVOK     3056\n",
      " A2A6NH6DPE0VXR     3045\n",
      " A2B3Z2QHW3V35S     3025\n",
      " A11PTCZ2FM2547     3016\n",
      " A18758S1PUYIDT     2971\n",
      " A22RY8N8CNDF3A     2957\n",
      " A1TW9ZGRDQQZ2Y     2938\n",
      " A319SKSB556033     2936\n",
      " A2CW9IQAPFEYLM     2934\n",
      " AHABFECTNE15I      2914\n",
      " A2GPEV42IO41CI     2905\n",
      " A1VCLTAGM5RLND     2806\n",
      " A3S98L5B1SR9P1     2798\n",
      " AUTBHG6070SL4      2780\n",
      " A3FL6CIO8QIJ2F     2756\n",
      " A1KP0IVWU0RQ0A     2747\n",
      " AP3B615GM191G      2706\n",
      " ABN5K7K1TM1QA      2690\n",
      " A1PASRZ81DY9C      2663\n",
      " A1POFVVXUZR3IQ     2656\n",
      " A13IKSGDYNBNQS     2651\n",
      " A2V3P1XE33NYC3     2555\n",
      " A2198FZZMTJ38H     2554\n",
      " A12X2J7AVZ04IQ     2550\n",
      " A1J2931UBBJPXM     2548\n",
      " AIFXFHO2N9WJB      2542\n",
      "Name: userId, Length: 100, dtype: int64\n"
     ]
    }
   ],
   "source": [
    "print(top_reviewers)"
   ]
  },
  {
   "cell_type": "code",
   "execution_count": null,
   "metadata": {},
   "outputs": [],
   "source": []
  },
  {
   "cell_type": "code",
   "execution_count": 62,
   "metadata": {},
   "outputs": [],
   "source": [
    "top_ten_movies=df.groupby('productId')['productId'].count().nlargest(100)"
   ]
  },
  {
   "cell_type": "code",
   "execution_count": null,
   "metadata": {},
   "outputs": [],
   "source": []
  },
  {
   "cell_type": "code",
   "execution_count": 63,
   "metadata": {},
   "outputs": [
    {
     "name": "stdout",
     "output_type": "stream",
     "text": [
      "productId\n",
      "B002QZ1RS6    957\n",
      "B007FQDPL8    956\n",
      "B00005JPS8    925\n",
      "B001C08RHA    925\n",
      "B001FD5KJM    925\n",
      "B001GAPC1K    925\n",
      "B001I1NGHY    925\n",
      "B001KZG99A    925\n",
      "B001FZ9AAU    924\n",
      "B001HUHBE0    924\n",
      "B004JMSIRC    924\n",
      "B000H7I6CU    904\n",
      "7883685635    902\n",
      "B00005JNS0    902\n",
      "B000ENV5WK    902\n",
      "B000H5U832    902\n",
      "B000V1Y43W    902\n",
      "B002LW9ITY    902\n",
      "B0049J3QF4    902\n",
      "B004I654WQ    902\n",
      "B004OBQDJ8    902\n",
      "B005ZMUQCK    902\n",
      "B000S6LS66    886\n",
      "B000W494SI    886\n",
      "B000W4B0Z8    886\n",
      "B001DWNUE2    886\n",
      "B008UBYTRG    886\n",
      "B0027BOL4G    876\n",
      "B002LBKDYE    876\n",
      "B002UZ5CHO    876\n",
      "             ... \n",
      "B004WMKSH2    832\n",
      "B004WO6BPS    832\n",
      "B004WO774M    832\n",
      "B004WQ1LLA    832\n",
      "B004WX8HFG    832\n",
      "B0064ORVCQ    832\n",
      "B006AM4UUS    832\n",
      "B006FXJVHY    832\n",
      "B008UZ7MUI    832\n",
      "B001BYLFFS    830\n",
      "B001D2WUAC    830\n",
      "B0032CNOK6    830\n",
      "B00005JNTX    829\n",
      "B0009PBNFW    829\n",
      "B0009VCSXW    829\n",
      "B000A1C68S    829\n",
      "B000ARIS52    829\n",
      "B000BCKFWK    829\n",
      "B000BU0B6W    829\n",
      "B000ML0YTE    829\n",
      "B000ML11RI    829\n",
      "B000ML18KS    829\n",
      "B000ML4VKC    829\n",
      "B001R4KQDE    829\n",
      "B004AH59TG    829\n",
      "B004SIP9Z6    829\n",
      "B004SIPA0A    829\n",
      "B004SIPA4G    829\n",
      "B0065AVS0K    829\n",
      "B0065AVWGU    829\n",
      "Name: productId, Length: 100, dtype: int64\n"
     ]
    }
   ],
   "source": [
    "print(top_ten_movies)"
   ]
  },
  {
   "cell_type": "code",
   "execution_count": 59,
   "metadata": {},
   "outputs": [
    {
     "data": {
      "text/plain": [
       "<matplotlib.axes._subplots.AxesSubplot at 0x28951a9e8>"
      ]
     },
     "execution_count": 59,
     "metadata": {},
     "output_type": "execute_result"
    },
    {
     "data": {
      "image/png": "[encoded data removed]",
      "text/plain": [
       "<Figure size 432x288 with 1 Axes>"
      ]
     },
     "metadata": {
      "needs_background": "light"
     },
     "output_type": "display_data"
    }
   ],
   "source": [
    "top_ten_movies.plot.bar(x='productId',rot=0)"
   ]
  },
  {
   "cell_type": "code",
   "execution_count": 64,
   "metadata": {},
   "outputs": [],
   "source": [
    "Five_movies=['B000H7I6CU','B004SIPA0A','B004WMKSH2', 'B001I1NGHY', 'B002LBKDYE']"
   ]
  },
  {
   "cell_type": "code",
   "execution_count": 65,
   "metadata": {},
   "outputs": [],
   "source": [
    "new_df= df[df.productId.isin(Five_movies)]"
   ]
  },
  {
   "cell_type": "code",
   "execution_count": 66,
   "metadata": {},
   "outputs": [
    {
     "data": {
      "text/plain": [
       "(4366, 5)"
      ]
     },
     "execution_count": 66,
     "metadata": {},
     "output_type": "execute_result"
    }
   ],
   "source": [
    "new_df.shape"
   ]
  },
  {
   "cell_type": "code",
   "execution_count": 67,
   "metadata": {},
   "outputs": [],
   "source": [
    "new_df=pd.DataFrame(data=new_df)"
   ]
  },
  {
   "cell_type": "code",
   "execution_count": 68,
   "metadata": {},
   "outputs": [
    {
     "data": {
      "text/html": [
       "<div>\n",
       "<style scoped>\n",
       "    .dataframe tbody tr th:only-of-type {\n",
       "        vertical-align: middle;\n",
       "    }\n",
       "\n",
       "    .dataframe tbody tr th {\n",
       "        vertical-align: top;\n",
       "    }\n",
       "\n",
       "    .dataframe thead th {\n",
       "        text-align: right;\n",
       "    }\n",
       "</style>\n",
       "<table border=\"1\" class=\"dataframe\">\n",
       "  <thead>\n",
       "    <tr style=\"text-align: right;\">\n",
       "      <th></th>\n",
       "      <th>productId</th>\n",
       "      <th>userId</th>\n",
       "      <th>score</th>\n",
       "      <th>summary</th>\n",
       "      <th>review</th>\n",
       "    </tr>\n",
       "  </thead>\n",
       "  <tbody>\n",
       "    <tr>\n",
       "      <th>111469</th>\n",
       "      <td>B002LBKDYE</td>\n",
       "      <td>A1D3RZRRITKB75</td>\n",
       "      <td>5.0</td>\n",
       "      <td>If you eat you need to watch it.</td>\n",
       "      <td>Seriously ----watch this before you take that ...</td>\n",
       "    </tr>\n",
       "    <tr>\n",
       "      <th>111470</th>\n",
       "      <td>B002LBKDYE</td>\n",
       "      <td>A24Y3JBTJD5R1K</td>\n",
       "      <td>5.0</td>\n",
       "      <td>For those who eat food!</td>\n",
       "      <td>I don't know that my eating habits changed, bu...</td>\n",
       "    </tr>\n",
       "    <tr>\n",
       "      <th>111471</th>\n",
       "      <td>B002LBKDYE</td>\n",
       "      <td>ABND7UR0H37JW</td>\n",
       "      <td>5.0</td>\n",
       "      <td>if you're a parent, don't miss this</td>\n",
       "      <td>Well worth the time, this engrossing and enlig...</td>\n",
       "    </tr>\n",
       "    <tr>\n",
       "      <th>111472</th>\n",
       "      <td>B002LBKDYE</td>\n",
       "      <td>A3EK4NS9CMXC7W</td>\n",
       "      <td>5.0</td>\n",
       "      <td>I'm not an activist, but I do want to live a ...</td>\n",
       "      <td>When movies like this come out I am often hesi...</td>\n",
       "    </tr>\n",
       "    <tr>\n",
       "      <th>111473</th>\n",
       "      <td>B002LBKDYE</td>\n",
       "      <td>A1LIDERT7U0NN8</td>\n",
       "      <td>5.0</td>\n",
       "      <td>Well Worth Your Time</td>\n",
       "      <td>I am always hesitant to watch certain document...</td>\n",
       "    </tr>\n",
       "  </tbody>\n",
       "</table>\n",
       "</div>"
      ],
      "text/plain": [
       "         productId           userId  score  \\\n",
       "111469  B002LBKDYE   A1D3RZRRITKB75    5.0   \n",
       "111470  B002LBKDYE   A24Y3JBTJD5R1K    5.0   \n",
       "111471  B002LBKDYE    ABND7UR0H37JW    5.0   \n",
       "111472  B002LBKDYE   A3EK4NS9CMXC7W    5.0   \n",
       "111473  B002LBKDYE   A1LIDERT7U0NN8    5.0   \n",
       "\n",
       "                                                  summary  \\\n",
       "111469                   If you eat you need to watch it.   \n",
       "111470                            For those who eat food!   \n",
       "111471                if you're a parent, don't miss this   \n",
       "111472   I'm not an activist, but I do want to live a ...   \n",
       "111473                               Well Worth Your Time   \n",
       "\n",
       "                                                   review  \n",
       "111469  Seriously ----watch this before you take that ...  \n",
       "111470  I don't know that my eating habits changed, bu...  \n",
       "111471  Well worth the time, this engrossing and enlig...  \n",
       "111472  When movies like this come out I am often hesi...  \n",
       "111473  I am always hesitant to watch certain document...  "
      ]
     },
     "execution_count": 68,
     "metadata": {},
     "output_type": "execute_result"
    }
   ],
   "source": [
    "new_df.head()"
   ]
  },
  {
   "cell_type": "code",
   "execution_count": 89,
   "metadata": {},
   "outputs": [],
   "source": [
    "dictionary_movie = {'B000H7I6CU':'Cars','B004SIPA0A':'Sin City','B004WMKSH2':'Harry Potter 7', 'B001I1NGHY':'Iron Man', 'B002LBKDYE':'Food, Inc'}"
   ]
  },
  {
   "cell_type": "code",
   "execution_count": 90,
   "metadata": {},
   "outputs": [],
   "source": [
    "new_df['movie_title'] = new_df['productId'].map(dictionary_movie)"
   ]
  },
  {
   "cell_type": "code",
   "execution_count": 91,
   "metadata": {},
   "outputs": [],
   "source": [
    "new_df.to_csv(\"five_movies.csv\")"
   ]
  },
  {
   "cell_type": "code",
   "execution_count": 92,
   "metadata": {},
   "outputs": [
    {
     "data": {
      "text/plain": [
       "<matplotlib.axes._subplots.AxesSubplot at 0x28997d0b8>"
      ]
     },
     "execution_count": 92,
     "metadata": {},
     "output_type": "execute_result"
    },
    {
     "data": {
      "image/png": "[encoded data removed]",
      "text/plain": [
       "<Figure size 432x288 with 1 Axes>"
      ]
     },
     "metadata": {
      "needs_background": "light"
     },
     "output_type": "display_data"
    }
   ],
   "source": [
    "temp=new_df.groupby('movie_title')['movie_title'].count()\n",
    "temp.plot.bar(x='movie_title',rot=0)"
   ]
  },
  {
   "cell_type": "code",
   "execution_count": 93,
   "metadata": {},
   "outputs": [
    {
     "data": {
      "text/plain": [
       "<matplotlib.axes._subplots.AxesSubplot at 0x289d1acf8>"
      ]
     },
     "execution_count": 93,
     "metadata": {},
     "output_type": "execute_result"
    },
    {
     "data": {
      "image/png": "[encoded data removed]",
      "text/plain": [
       "<Figure size 432x288 with 1 Axes>"
      ]
     },
     "metadata": {
      "needs_background": "light"
     },
     "output_type": "display_data"
    }
   ],
   "source": [
    "temp=new_df.groupby('movie_title')['score'].mean()\n",
    "temp.plot.bar(x='movie_title',rot=0)"
   ]
  },
  {
   "cell_type": "code",
   "execution_count": 108,
   "metadata": {},
   "outputs": [
    {
     "data": {
      "text/plain": [
       "<matplotlib.axes._subplots.AxesSubplot at 0x289f8d668>"
      ]
     },
     "execution_count": 108,
     "metadata": {},
     "output_type": "execute_result"
    },
    {
     "data": {
      "image/png": "[encoded data removed]",
      "text/plain": [
       "<Figure size 432x288 with 1 Axes>"
      ]
     },
     "metadata": {
      "needs_background": "light"
     },
     "output_type": "display_data"
    }
   ],
   "source": [
    "temp=new_df[new_df['movie_title']=='Harry Potter 7'].groupby('score')['score'].count()\n",
    "temp.plot.bar(x='score',rot=0, title='Harry Potter and the Deathly Hallows: Part 1')\n",
    "\n"
   ]
  },
  {
   "cell_type": "code",
   "execution_count": 100,
   "metadata": {},
   "outputs": [
    {
     "name": "stdout",
     "output_type": "stream",
     "text": [
      "score\n",
      "1.0     98\n",
      "2.0     76\n",
      "3.0     83\n",
      "4.0    143\n",
      "5.0    432\n",
      "Name: score, dtype: int64\n"
     ]
    }
   ],
   "source": [
    "print(temp)"
   ]
  },
  {
   "cell_type": "code",
   "execution_count": null,
   "metadata": {},
   "outputs": [],
   "source": [
    "df.groupby('productId').productId"
   ]
  },
  {
   "cell_type": "code",
   "execution_count": 42,
   "metadata": {},
   "outputs": [],
   "source": [
    "new_df.to_csv(\"iron_man.csv\")"
   ]
  },
  {
   "cell_type": "code",
   "execution_count": null,
   "metadata": {},
   "outputs": [],
   "source": [
    "new_df"
   ]
  },
  {
   "cell_type": "code",
   "execution_count": 9,
   "metadata": {},
   "outputs": [],
   "source": [
    "df.to_csv(\"output.csv\")"
   ]
  },
  {
   "cell_type": "code",
   "execution_count": null,
   "metadata": {},
   "outputs": [],
   "source": [
    "temp=df.groupby('userId')['score'].count()\n",
    "temp.plot.bar(x='userId',rot=0)"
   ]
  },
  {
   "cell_type": "code",
   "execution_count": 240,
   "metadata": {},
   "outputs": [
    {
     "name": "stdout",
     "output_type": "stream",
     "text": [
      "productId\n",
      "0001I55P6    4.650000\n",
      "0009S4IO2    4.692308\n",
      "000GRUN4A    2.600000\n",
      "000W95OY6    2.746269\n",
      "002KYIAL0    3.827586\n",
      "003A3PGF8    4.500000\n",
      "003E74KRK    5.000000\n",
      "003F32YGC    4.857143\n",
      "003FZW7VC    5.000000\n",
      "003S1UNZA    3.634146\n",
      "003S1UNZU    4.557895\n",
      "004CZOZGY    5.000000\n",
      "004IN21VQ    4.250000\n",
      "304026668    3.000000\n",
      "304952198    3.666667\n",
      "305839670    4.500000\n",
      "59668464X    5.000000\n",
      "Name: score, dtype: float64\n"
     ]
    },
    {
     "data": {
      "text/plain": [
       "<matplotlib.axes._subplots.AxesSubplot at 0x123b80278>"
      ]
     },
     "execution_count": 240,
     "metadata": {},
     "output_type": "execute_result"
    },
    {
     "data": {
      "image/png": "[encoded data removed]",
      "text/plain": [
       "<Figure size 432x288 with 1 Axes>"
      ]
     },
     "metadata": {
      "needs_background": "light"
     },
     "output_type": "display_data"
    }
   ],
   "source": [
    "temp=df.groupby('productId')['score'].mean()\n",
    "print(temp)\n",
    "temp.plot.bar(x='productId',rot=0)"
   ]
  },
  {
   "cell_type": "code",
   "execution_count": 237,
   "metadata": {},
   "outputs": [
    {
     "data": {
      "text/plain": [
       "<matplotlib.axes._subplots.AxesSubplot at 0x123af3a58>"
      ]
     },
     "execution_count": 237,
     "metadata": {},
     "output_type": "execute_result"
    },
    {
     "data": {
      "image/png": "[encoded data removed]",
      "text/plain": [
       "<Figure size 432x288 with 1 Axes>"
      ]
     },
     "metadata": {
      "needs_background": "light"
     },
     "output_type": "display_data"
    }
   ],
   "source": [
    "temp=df.groupby('productId')['score'].count()\n",
    "temp.plot.bar(x='productId',rot=0)"
   ]
  },
  {
   "cell_type": "code",
   "execution_count": 67,
   "metadata": {},
   "outputs": [
    {
     "name": "stdout",
     "output_type": "stream",
     "text": [
      "Line 1: product/productId: B003AI2VGA\n",
      "Line 2: review/userId: A141HP4LYPWMSR\n",
      "Line 3: review/profileName: Brian E. Erland \"Rainbow Sphinx\"\n",
      "Line 4: review/helpfulness: 7/7\n",
      "Line 5: review/score: 3.0\n",
      "Line 6: review/time: 1182729600\n",
      "Line 7: review/summary: \"There Is So Much Darkness Now ~ Come For The Miracle\"\n",
      "Line 8: review/text: Synopsis: On the daily trek from Juarez, Mexico to El Paso, Texas an ever increasing number of female workers are found raped and murdered in the surrounding desert. Investigative reporter Karina Danes (Minnie Driver) arrives from Los Angeles to pursue the story and angers both the local police and the factory owners who employee the undocumented aliens with her pointed questions and relentless quest for the truth.<br /><br />Her story goes nationwide when a young girl named Mariela (Ana Claudia Talancon) survives a vicious attack and walks out of the desert crediting the Blessed Virgin for her rescue. Her story is further enhanced when the \"Wounds of Christ\" (stigmata) appear in her palms. She also claims to have received a message of hope for the Virgin Mary and soon a fanatical movement forms around her to fight against the evil that holds such a stranglehold on the area.<br /><br />Critique: Possessing a lifelong fascination with such esoteric matters as Catholic mysticism, miracles and the mysterious appearance of the stigmata, I was immediately attracted to the '05 DVD release `Virgin of Juarez'. The film offers a rather unique storyline blending current socio-political concerns, the constant flow of Mexican migrant workers back and forth across the U.S./Mexican border and the traditional Catholic beliefs of the Hispanic population. I must say I was quite surprised by the unexpected route taken by the plot and the means and methods by which the heavenly message unfolds.<br /><br />`Virgin of Juarez' is not a film that you would care to watch over and over again, but it was interesting enough to merit at least one viewing. Minnie Driver delivers a solid performance and Ana Claudia Talancon is perfect as the fragile and innocent visionary Mariela. Also starring Esai Morales and Angus Macfadyen (Braveheart).\n"
     ]
    }
   ],
   "source": [
    "filepath = \"temp.txt\"\n",
    "with open(filepath) as fp:\n",
    "   line = fp.readline()\n",
    "   cnt = 1\n",
    "   while line:\n",
    "       print(\"Line {}: {}\".format(cnt, line.strip()))\n",
    "       line = fp.readline()\n",
    "       cnt += 1"
   ]
  },
  {
   "cell_type": "code",
   "execution_count": null,
   "metadata": {},
   "outputs": [],
   "source": []
  },
  {
   "cell_type": "code",
   "execution_count": 113,
   "metadata": {},
   "outputs": [
    {
     "name": "stdout",
     "output_type": "stream",
     "text": [
      "\n",
      "\n"
     ]
    }
   ],
   "source": [
    "with open(\"temp.txt\") as f:\n",
    "    content = f.readline()\n",
    "    print(content)"
   ]
  },
  {
   "cell_type": "code",
   "execution_count": 103,
   "metadata": {},
   "outputs": [
    {
     "ename": "OSError",
     "evalue": "[Errno 22] Invalid argument",
     "output_type": "error",
     "traceback": [
      "\u001b[0;31m---------------------------------------------------------------------------\u001b[0m",
      "\u001b[0;31mOSError\u001b[0m                                   Traceback (most recent call last)",
      "\u001b[0;32m<ipython-input-103-19692df3fdd9>\u001b[0m in \u001b[0;36m<module>\u001b[0;34m\u001b[0m\n\u001b[1;32m      1\u001b[0m \u001b[0mf\u001b[0m \u001b[0;34m=\u001b[0m \u001b[0mopen\u001b[0m\u001b[0;34m(\u001b[0m\u001b[0;34m\"movies.txt\"\u001b[0m\u001b[0;34m,\u001b[0m \u001b[0;34m\"r\"\u001b[0m\u001b[0;34m)\u001b[0m\u001b[0;34m\u001b[0m\u001b[0;34m\u001b[0m\u001b[0m\n\u001b[0;32m----> 2\u001b[0;31m \u001b[0mcontent\u001b[0m \u001b[0;34m=\u001b[0m \u001b[0mf\u001b[0m\u001b[0;34m.\u001b[0m\u001b[0mread\u001b[0m\u001b[0;34m(\u001b[0m\u001b[0;34m)\u001b[0m\u001b[0;34m\u001b[0m\u001b[0;34m\u001b[0m\u001b[0m\n\u001b[0m\u001b[1;32m      3\u001b[0m \u001b[0mprint\u001b[0m\u001b[0;34m(\u001b[0m\u001b[0mcontent\u001b[0m\u001b[0;34m)\u001b[0m\u001b[0;34m\u001b[0m\u001b[0;34m\u001b[0m\u001b[0m\n\u001b[1;32m      4\u001b[0m \u001b[0msplitcontent\u001b[0m \u001b[0;34m=\u001b[0m \u001b[0mcontent\u001b[0m\u001b[0;34m.\u001b[0m\u001b[0msplitlines\u001b[0m\u001b[0;34m(\u001b[0m\u001b[0;34m)\u001b[0m\u001b[0;34m\u001b[0m\u001b[0;34m\u001b[0m\u001b[0m\n\u001b[1;32m      5\u001b[0m \u001b[0mprint\u001b[0m\u001b[0;34m(\u001b[0m\u001b[0mlen\u001b[0m\u001b[0;34m(\u001b[0m\u001b[0msplitcontent\u001b[0m\u001b[0;34m)\u001b[0m\u001b[0;34m)\u001b[0m\u001b[0;34m\u001b[0m\u001b[0;34m\u001b[0m\u001b[0m\n",
      "\u001b[0;31mOSError\u001b[0m: [Errno 22] Invalid argument"
     ]
    }
   ],
   "source": [
    "f = open(\"movies.txt\", \"r\")\n",
    "content = f.read()\n",
    "print(content)\n",
    "splitcontent = content.splitlines()\n",
    "print(len(splitcontent))"
   ]
  },
  {
   "cell_type": "code",
   "execution_count": null,
   "metadata": {},
   "outputs": [],
   "source": []
  },
  {
   "cell_type": "code",
   "execution_count": 20,
   "metadata": {},
   "outputs": [],
   "source": [
    "f = open('movies.txt')\n",
    "for line in f:\n",
    "    print(line)\n",
    "f.close()"
   ]
  },
  {
   "cell_type": "code",
   "execution_count": 35,
   "metadata": {},
   "outputs": [
    {
     "ename": "OSError",
     "evalue": "temp.txt not found.",
     "output_type": "error",
     "traceback": [
      "\u001b[0;31m---------------------------------------------------------------------------\u001b[0m",
      "\u001b[0;31mOSError\u001b[0m                                   Traceback (most recent call last)",
      "\u001b[0;32m<ipython-input-35-9705c39e11cc>\u001b[0m in \u001b[0;36m<module>\u001b[0;34m\u001b[0m\n\u001b[1;32m      1\u001b[0m \u001b[0;32mimport\u001b[0m \u001b[0mnumpy\u001b[0m \u001b[0;32mas\u001b[0m \u001b[0mnp\u001b[0m\u001b[0;34m\u001b[0m\u001b[0;34m\u001b[0m\u001b[0m\n\u001b[1;32m      2\u001b[0m \u001b[0;34m\u001b[0m\u001b[0m\n\u001b[0;32m----> 3\u001b[0;31m \u001b[0mwordset\u001b[0m \u001b[0;34m=\u001b[0m \u001b[0mnp\u001b[0m\u001b[0;34m.\u001b[0m\u001b[0mgenfromtxt\u001b[0m\u001b[0;34m(\u001b[0m\u001b[0mfname\u001b[0m\u001b[0;34m=\u001b[0m\u001b[0;34m'temp.txt'\u001b[0m\u001b[0;34m)\u001b[0m\u001b[0;34m\u001b[0m\u001b[0;34m\u001b[0m\u001b[0m\n\u001b[0m",
      "\u001b[0;32m/anaconda3/lib/python3.7/site-packages/numpy/lib/npyio.py\u001b[0m in \u001b[0;36mgenfromtxt\u001b[0;34m(fname, dtype, comments, delimiter, skip_header, skip_footer, converters, missing_values, filling_values, usecols, names, excludelist, deletechars, replace_space, autostrip, case_sensitive, defaultfmt, unpack, usemask, loose, invalid_raise, max_rows, encoding)\u001b[0m\n\u001b[1;32m   1698\u001b[0m             \u001b[0mfname\u001b[0m \u001b[0;34m=\u001b[0m \u001b[0mstr\u001b[0m\u001b[0;34m(\u001b[0m\u001b[0mfname\u001b[0m\u001b[0;34m)\u001b[0m\u001b[0;34m\u001b[0m\u001b[0;34m\u001b[0m\u001b[0m\n\u001b[1;32m   1699\u001b[0m         \u001b[0;32mif\u001b[0m \u001b[0misinstance\u001b[0m\u001b[0;34m(\u001b[0m\u001b[0mfname\u001b[0m\u001b[0;34m,\u001b[0m \u001b[0mbasestring\u001b[0m\u001b[0;34m)\u001b[0m\u001b[0;34m:\u001b[0m\u001b[0;34m\u001b[0m\u001b[0;34m\u001b[0m\u001b[0m\n\u001b[0;32m-> 1700\u001b[0;31m             \u001b[0mfhd\u001b[0m \u001b[0;34m=\u001b[0m \u001b[0miter\u001b[0m\u001b[0;34m(\u001b[0m\u001b[0mnp\u001b[0m\u001b[0;34m.\u001b[0m\u001b[0mlib\u001b[0m\u001b[0;34m.\u001b[0m\u001b[0m_datasource\u001b[0m\u001b[0;34m.\u001b[0m\u001b[0mopen\u001b[0m\u001b[0;34m(\u001b[0m\u001b[0mfname\u001b[0m\u001b[0;34m,\u001b[0m \u001b[0;34m'rt'\u001b[0m\u001b[0;34m,\u001b[0m \u001b[0mencoding\u001b[0m\u001b[0;34m=\u001b[0m\u001b[0mencoding\u001b[0m\u001b[0;34m)\u001b[0m\u001b[0;34m)\u001b[0m\u001b[0;34m\u001b[0m\u001b[0;34m\u001b[0m\u001b[0m\n\u001b[0m\u001b[1;32m   1701\u001b[0m             \u001b[0mown_fhd\u001b[0m \u001b[0;34m=\u001b[0m \u001b[0;32mTrue\u001b[0m\u001b[0;34m\u001b[0m\u001b[0;34m\u001b[0m\u001b[0m\n\u001b[1;32m   1702\u001b[0m         \u001b[0;32melse\u001b[0m\u001b[0;34m:\u001b[0m\u001b[0;34m\u001b[0m\u001b[0;34m\u001b[0m\u001b[0m\n",
      "\u001b[0;32m/anaconda3/lib/python3.7/site-packages/numpy/lib/_datasource.py\u001b[0m in \u001b[0;36mopen\u001b[0;34m(path, mode, destpath, encoding, newline)\u001b[0m\n\u001b[1;32m    260\u001b[0m \u001b[0;34m\u001b[0m\u001b[0m\n\u001b[1;32m    261\u001b[0m     \u001b[0mds\u001b[0m \u001b[0;34m=\u001b[0m \u001b[0mDataSource\u001b[0m\u001b[0;34m(\u001b[0m\u001b[0mdestpath\u001b[0m\u001b[0;34m)\u001b[0m\u001b[0;34m\u001b[0m\u001b[0;34m\u001b[0m\u001b[0m\n\u001b[0;32m--> 262\u001b[0;31m     \u001b[0;32mreturn\u001b[0m \u001b[0mds\u001b[0m\u001b[0;34m.\u001b[0m\u001b[0mopen\u001b[0m\u001b[0;34m(\u001b[0m\u001b[0mpath\u001b[0m\u001b[0;34m,\u001b[0m \u001b[0mmode\u001b[0m\u001b[0;34m,\u001b[0m \u001b[0mencoding\u001b[0m\u001b[0;34m=\u001b[0m\u001b[0mencoding\u001b[0m\u001b[0;34m,\u001b[0m \u001b[0mnewline\u001b[0m\u001b[0;34m=\u001b[0m\u001b[0mnewline\u001b[0m\u001b[0;34m)\u001b[0m\u001b[0;34m\u001b[0m\u001b[0;34m\u001b[0m\u001b[0m\n\u001b[0m\u001b[1;32m    263\u001b[0m \u001b[0;34m\u001b[0m\u001b[0m\n\u001b[1;32m    264\u001b[0m \u001b[0;34m\u001b[0m\u001b[0m\n",
      "\u001b[0;32m/anaconda3/lib/python3.7/site-packages/numpy/lib/_datasource.py\u001b[0m in \u001b[0;36mopen\u001b[0;34m(self, path, mode, encoding, newline)\u001b[0m\n\u001b[1;32m    616\u001b[0m                                       encoding=encoding, newline=newline)\n\u001b[1;32m    617\u001b[0m         \u001b[0;32melse\u001b[0m\u001b[0;34m:\u001b[0m\u001b[0;34m\u001b[0m\u001b[0;34m\u001b[0m\u001b[0m\n\u001b[0;32m--> 618\u001b[0;31m             \u001b[0;32mraise\u001b[0m \u001b[0mIOError\u001b[0m\u001b[0;34m(\u001b[0m\u001b[0;34m\"%s not found.\"\u001b[0m \u001b[0;34m%\u001b[0m \u001b[0mpath\u001b[0m\u001b[0;34m)\u001b[0m\u001b[0;34m\u001b[0m\u001b[0;34m\u001b[0m\u001b[0m\n\u001b[0m\u001b[1;32m    619\u001b[0m \u001b[0;34m\u001b[0m\u001b[0m\n\u001b[1;32m    620\u001b[0m \u001b[0;34m\u001b[0m\u001b[0m\n",
      "\u001b[0;31mOSError\u001b[0m: temp.txt not found."
     ]
    }
   ],
   "source": [
    "import numpy as np\n",
    "\n",
    "wordset = np.genfromtxt(fname='temp.txt')"
   ]
  },
  {
   "cell_type": "code",
   "execution_count": 24,
   "metadata": {},
   "outputs": [
    {
     "ename": "ValueError",
     "evalue": "only single character unicode strings can be converted to Py_UCS4, got length 0",
     "output_type": "error",
     "traceback": [
      "\u001b[0;31m---------------------------------------------------------------------------\u001b[0m",
      "\u001b[0;31mValueError\u001b[0m                                Traceback (most recent call last)",
      "\u001b[0;32m<ipython-input-24-8980d02037e1>\u001b[0m in \u001b[0;36m<module>\u001b[0;34m\u001b[0m\n\u001b[1;32m      1\u001b[0m \u001b[0;32mimport\u001b[0m \u001b[0mpandas\u001b[0m \u001b[0;32mas\u001b[0m \u001b[0mpd\u001b[0m\u001b[0;34m\u001b[0m\u001b[0;34m\u001b[0m\u001b[0m\n\u001b[0;32m----> 2\u001b[0;31m \u001b[0mdata\u001b[0m \u001b[0;34m=\u001b[0m \u001b[0mpd\u001b[0m\u001b[0;34m.\u001b[0m\u001b[0mread_csv\u001b[0m\u001b[0;34m(\u001b[0m\u001b[0;34m'movies.txt'\u001b[0m\u001b[0;34m,\u001b[0m \u001b[0msep\u001b[0m\u001b[0;34m=\u001b[0m\u001b[0;34m\"\"\u001b[0m\u001b[0;34m,\u001b[0m \u001b[0mheader\u001b[0m\u001b[0;34m=\u001b[0m\u001b[0;32mNone\u001b[0m\u001b[0;34m)\u001b[0m\u001b[0;34m\u001b[0m\u001b[0;34m\u001b[0m\u001b[0m\n\u001b[0m\u001b[1;32m      3\u001b[0m \u001b[0;31m#data.columns = [\"a\", \"b\", \"c\", \"etc.\"]\u001b[0m\u001b[0;34m\u001b[0m\u001b[0;34m\u001b[0m\u001b[0;34m\u001b[0m\u001b[0m\n",
      "\u001b[0;32m/anaconda3/lib/python3.7/site-packages/pandas/io/parsers.py\u001b[0m in \u001b[0;36mparser_f\u001b[0;34m(filepath_or_buffer, sep, delimiter, header, names, index_col, usecols, squeeze, prefix, mangle_dupe_cols, dtype, engine, converters, true_values, false_values, skipinitialspace, skiprows, nrows, na_values, keep_default_na, na_filter, verbose, skip_blank_lines, parse_dates, infer_datetime_format, keep_date_col, date_parser, dayfirst, iterator, chunksize, compression, thousands, decimal, lineterminator, quotechar, quoting, escapechar, comment, encoding, dialect, tupleize_cols, error_bad_lines, warn_bad_lines, skipfooter, doublequote, delim_whitespace, low_memory, memory_map, float_precision)\u001b[0m\n\u001b[1;32m    676\u001b[0m                     skip_blank_lines=skip_blank_lines)\n\u001b[1;32m    677\u001b[0m \u001b[0;34m\u001b[0m\u001b[0m\n\u001b[0;32m--> 678\u001b[0;31m         \u001b[0;32mreturn\u001b[0m \u001b[0m_read\u001b[0m\u001b[0;34m(\u001b[0m\u001b[0mfilepath_or_buffer\u001b[0m\u001b[0;34m,\u001b[0m \u001b[0mkwds\u001b[0m\u001b[0;34m)\u001b[0m\u001b[0;34m\u001b[0m\u001b[0;34m\u001b[0m\u001b[0m\n\u001b[0m\u001b[1;32m    679\u001b[0m \u001b[0;34m\u001b[0m\u001b[0m\n\u001b[1;32m    680\u001b[0m     \u001b[0mparser_f\u001b[0m\u001b[0;34m.\u001b[0m\u001b[0m__name__\u001b[0m \u001b[0;34m=\u001b[0m \u001b[0mname\u001b[0m\u001b[0;34m\u001b[0m\u001b[0;34m\u001b[0m\u001b[0m\n",
      "\u001b[0;32m/anaconda3/lib/python3.7/site-packages/pandas/io/parsers.py\u001b[0m in \u001b[0;36m_read\u001b[0;34m(filepath_or_buffer, kwds)\u001b[0m\n\u001b[1;32m    438\u001b[0m \u001b[0;34m\u001b[0m\u001b[0m\n\u001b[1;32m    439\u001b[0m     \u001b[0;31m# Create the parser.\u001b[0m\u001b[0;34m\u001b[0m\u001b[0;34m\u001b[0m\u001b[0;34m\u001b[0m\u001b[0m\n\u001b[0;32m--> 440\u001b[0;31m     \u001b[0mparser\u001b[0m \u001b[0;34m=\u001b[0m \u001b[0mTextFileReader\u001b[0m\u001b[0;34m(\u001b[0m\u001b[0mfilepath_or_buffer\u001b[0m\u001b[0;34m,\u001b[0m \u001b[0;34m**\u001b[0m\u001b[0mkwds\u001b[0m\u001b[0;34m)\u001b[0m\u001b[0;34m\u001b[0m\u001b[0;34m\u001b[0m\u001b[0m\n\u001b[0m\u001b[1;32m    441\u001b[0m \u001b[0;34m\u001b[0m\u001b[0m\n\u001b[1;32m    442\u001b[0m     \u001b[0;32mif\u001b[0m \u001b[0mchunksize\u001b[0m \u001b[0;32mor\u001b[0m \u001b[0miterator\u001b[0m\u001b[0;34m:\u001b[0m\u001b[0;34m\u001b[0m\u001b[0;34m\u001b[0m\u001b[0m\n",
      "\u001b[0;32m/anaconda3/lib/python3.7/site-packages/pandas/io/parsers.py\u001b[0m in \u001b[0;36m__init__\u001b[0;34m(self, f, engine, **kwds)\u001b[0m\n\u001b[1;32m    785\u001b[0m             \u001b[0mself\u001b[0m\u001b[0;34m.\u001b[0m\u001b[0moptions\u001b[0m\u001b[0;34m[\u001b[0m\u001b[0;34m'has_index_names'\u001b[0m\u001b[0;34m]\u001b[0m \u001b[0;34m=\u001b[0m \u001b[0mkwds\u001b[0m\u001b[0;34m[\u001b[0m\u001b[0;34m'has_index_names'\u001b[0m\u001b[0;34m]\u001b[0m\u001b[0;34m\u001b[0m\u001b[0;34m\u001b[0m\u001b[0m\n\u001b[1;32m    786\u001b[0m \u001b[0;34m\u001b[0m\u001b[0m\n\u001b[0;32m--> 787\u001b[0;31m         \u001b[0mself\u001b[0m\u001b[0;34m.\u001b[0m\u001b[0m_make_engine\u001b[0m\u001b[0;34m(\u001b[0m\u001b[0mself\u001b[0m\u001b[0;34m.\u001b[0m\u001b[0mengine\u001b[0m\u001b[0;34m)\u001b[0m\u001b[0;34m\u001b[0m\u001b[0;34m\u001b[0m\u001b[0m\n\u001b[0m\u001b[1;32m    788\u001b[0m \u001b[0;34m\u001b[0m\u001b[0m\n\u001b[1;32m    789\u001b[0m     \u001b[0;32mdef\u001b[0m \u001b[0mclose\u001b[0m\u001b[0;34m(\u001b[0m\u001b[0mself\u001b[0m\u001b[0;34m)\u001b[0m\u001b[0;34m:\u001b[0m\u001b[0;34m\u001b[0m\u001b[0;34m\u001b[0m\u001b[0m\n",
      "\u001b[0;32m/anaconda3/lib/python3.7/site-packages/pandas/io/parsers.py\u001b[0m in \u001b[0;36m_make_engine\u001b[0;34m(self, engine)\u001b[0m\n\u001b[1;32m   1012\u001b[0m     \u001b[0;32mdef\u001b[0m \u001b[0m_make_engine\u001b[0m\u001b[0;34m(\u001b[0m\u001b[0mself\u001b[0m\u001b[0;34m,\u001b[0m \u001b[0mengine\u001b[0m\u001b[0;34m=\u001b[0m\u001b[0;34m'c'\u001b[0m\u001b[0;34m)\u001b[0m\u001b[0;34m:\u001b[0m\u001b[0;34m\u001b[0m\u001b[0;34m\u001b[0m\u001b[0m\n\u001b[1;32m   1013\u001b[0m         \u001b[0;32mif\u001b[0m \u001b[0mengine\u001b[0m \u001b[0;34m==\u001b[0m \u001b[0;34m'c'\u001b[0m\u001b[0;34m:\u001b[0m\u001b[0;34m\u001b[0m\u001b[0;34m\u001b[0m\u001b[0m\n\u001b[0;32m-> 1014\u001b[0;31m             \u001b[0mself\u001b[0m\u001b[0;34m.\u001b[0m\u001b[0m_engine\u001b[0m \u001b[0;34m=\u001b[0m \u001b[0mCParserWrapper\u001b[0m\u001b[0;34m(\u001b[0m\u001b[0mself\u001b[0m\u001b[0;34m.\u001b[0m\u001b[0mf\u001b[0m\u001b[0;34m,\u001b[0m \u001b[0;34m**\u001b[0m\u001b[0mself\u001b[0m\u001b[0;34m.\u001b[0m\u001b[0moptions\u001b[0m\u001b[0;34m)\u001b[0m\u001b[0;34m\u001b[0m\u001b[0;34m\u001b[0m\u001b[0m\n\u001b[0m\u001b[1;32m   1015\u001b[0m         \u001b[0;32melse\u001b[0m\u001b[0;34m:\u001b[0m\u001b[0;34m\u001b[0m\u001b[0;34m\u001b[0m\u001b[0m\n\u001b[1;32m   1016\u001b[0m             \u001b[0;32mif\u001b[0m \u001b[0mengine\u001b[0m \u001b[0;34m==\u001b[0m \u001b[0;34m'python'\u001b[0m\u001b[0;34m:\u001b[0m\u001b[0;34m\u001b[0m\u001b[0;34m\u001b[0m\u001b[0m\n",
      "\u001b[0;32m/anaconda3/lib/python3.7/site-packages/pandas/io/parsers.py\u001b[0m in \u001b[0;36m__init__\u001b[0;34m(self, src, **kwds)\u001b[0m\n\u001b[1;32m   1706\u001b[0m         \u001b[0mkwds\u001b[0m\u001b[0;34m[\u001b[0m\u001b[0;34m'usecols'\u001b[0m\u001b[0;34m]\u001b[0m \u001b[0;34m=\u001b[0m \u001b[0mself\u001b[0m\u001b[0;34m.\u001b[0m\u001b[0musecols\u001b[0m\u001b[0;34m\u001b[0m\u001b[0;34m\u001b[0m\u001b[0m\n\u001b[1;32m   1707\u001b[0m \u001b[0;34m\u001b[0m\u001b[0m\n\u001b[0;32m-> 1708\u001b[0;31m         \u001b[0mself\u001b[0m\u001b[0;34m.\u001b[0m\u001b[0m_reader\u001b[0m \u001b[0;34m=\u001b[0m \u001b[0mparsers\u001b[0m\u001b[0;34m.\u001b[0m\u001b[0mTextReader\u001b[0m\u001b[0;34m(\u001b[0m\u001b[0msrc\u001b[0m\u001b[0;34m,\u001b[0m \u001b[0;34m**\u001b[0m\u001b[0mkwds\u001b[0m\u001b[0;34m)\u001b[0m\u001b[0;34m\u001b[0m\u001b[0;34m\u001b[0m\u001b[0m\n\u001b[0m\u001b[1;32m   1709\u001b[0m \u001b[0;34m\u001b[0m\u001b[0m\n\u001b[1;32m   1710\u001b[0m         \u001b[0mpassed_names\u001b[0m \u001b[0;34m=\u001b[0m \u001b[0mself\u001b[0m\u001b[0;34m.\u001b[0m\u001b[0mnames\u001b[0m \u001b[0;32mis\u001b[0m \u001b[0;32mNone\u001b[0m\u001b[0;34m\u001b[0m\u001b[0;34m\u001b[0m\u001b[0m\n",
      "\u001b[0;32mpandas/_libs/parsers.pyx\u001b[0m in \u001b[0;36mpandas._libs.parsers.TextReader.__cinit__\u001b[0;34m()\u001b[0m\n",
      "\u001b[0;31mValueError\u001b[0m: only single character unicode strings can be converted to Py_UCS4, got length 0"
     ]
    }
   ],
   "source": [
    "i\n",
    "data = pd.read_csv('movies.txt', sep=\"\", header=None)\n",
    "#data.columns = [\"a\", \"b\", \"c\", \"etc.\"]\n"
   ]
  },
  {
   "cell_type": "code",
   "execution_count": 26,
   "metadata": {},
   "outputs": [
    {
     "ename": "EmptyDataError",
     "evalue": "No columns to parse from file",
     "output_type": "error",
     "traceback": [
      "\u001b[0;31m---------------------------------------------------------------------------\u001b[0m",
      "\u001b[0;31mEmptyDataError\u001b[0m                            Traceback (most recent call last)",
      "\u001b[0;32m<ipython-input-26-03fea54b801c>\u001b[0m in \u001b[0;36m<module>\u001b[0;34m\u001b[0m\n\u001b[0;32m----> 1\u001b[0;31m \u001b[0mdf\u001b[0m\u001b[0;34m=\u001b[0m\u001b[0mpd\u001b[0m\u001b[0;34m.\u001b[0m\u001b[0mread_table\u001b[0m\u001b[0;34m(\u001b[0m\u001b[0;34m'movies.txt'\u001b[0m\u001b[0;34m,\u001b[0m\u001b[0mheader\u001b[0m\u001b[0;34m=\u001b[0m\u001b[0;32mNone\u001b[0m\u001b[0;34m)\u001b[0m\u001b[0;34m\u001b[0m\u001b[0;34m\u001b[0m\u001b[0m\n\u001b[0m",
      "\u001b[0;32m/anaconda3/lib/python3.7/site-packages/pandas/io/parsers.py\u001b[0m in \u001b[0;36mparser_f\u001b[0;34m(filepath_or_buffer, sep, delimiter, header, names, index_col, usecols, squeeze, prefix, mangle_dupe_cols, dtype, engine, converters, true_values, false_values, skipinitialspace, skiprows, nrows, na_values, keep_default_na, na_filter, verbose, skip_blank_lines, parse_dates, infer_datetime_format, keep_date_col, date_parser, dayfirst, iterator, chunksize, compression, thousands, decimal, lineterminator, quotechar, quoting, escapechar, comment, encoding, dialect, tupleize_cols, error_bad_lines, warn_bad_lines, skipfooter, doublequote, delim_whitespace, low_memory, memory_map, float_precision)\u001b[0m\n\u001b[1;32m    676\u001b[0m                     skip_blank_lines=skip_blank_lines)\n\u001b[1;32m    677\u001b[0m \u001b[0;34m\u001b[0m\u001b[0m\n\u001b[0;32m--> 678\u001b[0;31m         \u001b[0;32mreturn\u001b[0m \u001b[0m_read\u001b[0m\u001b[0;34m(\u001b[0m\u001b[0mfilepath_or_buffer\u001b[0m\u001b[0;34m,\u001b[0m \u001b[0mkwds\u001b[0m\u001b[0;34m)\u001b[0m\u001b[0;34m\u001b[0m\u001b[0;34m\u001b[0m\u001b[0m\n\u001b[0m\u001b[1;32m    679\u001b[0m \u001b[0;34m\u001b[0m\u001b[0m\n\u001b[1;32m    680\u001b[0m     \u001b[0mparser_f\u001b[0m\u001b[0;34m.\u001b[0m\u001b[0m__name__\u001b[0m \u001b[0;34m=\u001b[0m \u001b[0mname\u001b[0m\u001b[0;34m\u001b[0m\u001b[0;34m\u001b[0m\u001b[0m\n",
      "\u001b[0;32m/anaconda3/lib/python3.7/site-packages/pandas/io/parsers.py\u001b[0m in \u001b[0;36m_read\u001b[0;34m(filepath_or_buffer, kwds)\u001b[0m\n\u001b[1;32m    438\u001b[0m \u001b[0;34m\u001b[0m\u001b[0m\n\u001b[1;32m    439\u001b[0m     \u001b[0;31m# Create the parser.\u001b[0m\u001b[0;34m\u001b[0m\u001b[0;34m\u001b[0m\u001b[0;34m\u001b[0m\u001b[0m\n\u001b[0;32m--> 440\u001b[0;31m     \u001b[0mparser\u001b[0m \u001b[0;34m=\u001b[0m \u001b[0mTextFileReader\u001b[0m\u001b[0;34m(\u001b[0m\u001b[0mfilepath_or_buffer\u001b[0m\u001b[0;34m,\u001b[0m \u001b[0;34m**\u001b[0m\u001b[0mkwds\u001b[0m\u001b[0;34m)\u001b[0m\u001b[0;34m\u001b[0m\u001b[0;34m\u001b[0m\u001b[0m\n\u001b[0m\u001b[1;32m    441\u001b[0m \u001b[0;34m\u001b[0m\u001b[0m\n\u001b[1;32m    442\u001b[0m     \u001b[0;32mif\u001b[0m \u001b[0mchunksize\u001b[0m \u001b[0;32mor\u001b[0m \u001b[0miterator\u001b[0m\u001b[0;34m:\u001b[0m\u001b[0;34m\u001b[0m\u001b[0;34m\u001b[0m\u001b[0m\n",
      "\u001b[0;32m/anaconda3/lib/python3.7/site-packages/pandas/io/parsers.py\u001b[0m in \u001b[0;36m__init__\u001b[0;34m(self, f, engine, **kwds)\u001b[0m\n\u001b[1;32m    785\u001b[0m             \u001b[0mself\u001b[0m\u001b[0;34m.\u001b[0m\u001b[0moptions\u001b[0m\u001b[0;34m[\u001b[0m\u001b[0;34m'has_index_names'\u001b[0m\u001b[0;34m]\u001b[0m \u001b[0;34m=\u001b[0m \u001b[0mkwds\u001b[0m\u001b[0;34m[\u001b[0m\u001b[0;34m'has_index_names'\u001b[0m\u001b[0;34m]\u001b[0m\u001b[0;34m\u001b[0m\u001b[0;34m\u001b[0m\u001b[0m\n\u001b[1;32m    786\u001b[0m \u001b[0;34m\u001b[0m\u001b[0m\n\u001b[0;32m--> 787\u001b[0;31m         \u001b[0mself\u001b[0m\u001b[0;34m.\u001b[0m\u001b[0m_make_engine\u001b[0m\u001b[0;34m(\u001b[0m\u001b[0mself\u001b[0m\u001b[0;34m.\u001b[0m\u001b[0mengine\u001b[0m\u001b[0;34m)\u001b[0m\u001b[0;34m\u001b[0m\u001b[0;34m\u001b[0m\u001b[0m\n\u001b[0m\u001b[1;32m    788\u001b[0m \u001b[0;34m\u001b[0m\u001b[0m\n\u001b[1;32m    789\u001b[0m     \u001b[0;32mdef\u001b[0m \u001b[0mclose\u001b[0m\u001b[0;34m(\u001b[0m\u001b[0mself\u001b[0m\u001b[0;34m)\u001b[0m\u001b[0;34m:\u001b[0m\u001b[0;34m\u001b[0m\u001b[0;34m\u001b[0m\u001b[0m\n",
      "\u001b[0;32m/anaconda3/lib/python3.7/site-packages/pandas/io/parsers.py\u001b[0m in \u001b[0;36m_make_engine\u001b[0;34m(self, engine)\u001b[0m\n\u001b[1;32m   1012\u001b[0m     \u001b[0;32mdef\u001b[0m \u001b[0m_make_engine\u001b[0m\u001b[0;34m(\u001b[0m\u001b[0mself\u001b[0m\u001b[0;34m,\u001b[0m \u001b[0mengine\u001b[0m\u001b[0;34m=\u001b[0m\u001b[0;34m'c'\u001b[0m\u001b[0;34m)\u001b[0m\u001b[0;34m:\u001b[0m\u001b[0;34m\u001b[0m\u001b[0;34m\u001b[0m\u001b[0m\n\u001b[1;32m   1013\u001b[0m         \u001b[0;32mif\u001b[0m \u001b[0mengine\u001b[0m \u001b[0;34m==\u001b[0m \u001b[0;34m'c'\u001b[0m\u001b[0;34m:\u001b[0m\u001b[0;34m\u001b[0m\u001b[0;34m\u001b[0m\u001b[0m\n\u001b[0;32m-> 1014\u001b[0;31m             \u001b[0mself\u001b[0m\u001b[0;34m.\u001b[0m\u001b[0m_engine\u001b[0m \u001b[0;34m=\u001b[0m \u001b[0mCParserWrapper\u001b[0m\u001b[0;34m(\u001b[0m\u001b[0mself\u001b[0m\u001b[0;34m.\u001b[0m\u001b[0mf\u001b[0m\u001b[0;34m,\u001b[0m \u001b[0;34m**\u001b[0m\u001b[0mself\u001b[0m\u001b[0;34m.\u001b[0m\u001b[0moptions\u001b[0m\u001b[0;34m)\u001b[0m\u001b[0;34m\u001b[0m\u001b[0;34m\u001b[0m\u001b[0m\n\u001b[0m\u001b[1;32m   1015\u001b[0m         \u001b[0;32melse\u001b[0m\u001b[0;34m:\u001b[0m\u001b[0;34m\u001b[0m\u001b[0;34m\u001b[0m\u001b[0m\n\u001b[1;32m   1016\u001b[0m             \u001b[0;32mif\u001b[0m \u001b[0mengine\u001b[0m \u001b[0;34m==\u001b[0m \u001b[0;34m'python'\u001b[0m\u001b[0;34m:\u001b[0m\u001b[0;34m\u001b[0m\u001b[0;34m\u001b[0m\u001b[0m\n",
      "\u001b[0;32m/anaconda3/lib/python3.7/site-packages/pandas/io/parsers.py\u001b[0m in \u001b[0;36m__init__\u001b[0;34m(self, src, **kwds)\u001b[0m\n\u001b[1;32m   1706\u001b[0m         \u001b[0mkwds\u001b[0m\u001b[0;34m[\u001b[0m\u001b[0;34m'usecols'\u001b[0m\u001b[0;34m]\u001b[0m \u001b[0;34m=\u001b[0m \u001b[0mself\u001b[0m\u001b[0;34m.\u001b[0m\u001b[0musecols\u001b[0m\u001b[0;34m\u001b[0m\u001b[0;34m\u001b[0m\u001b[0m\n\u001b[1;32m   1707\u001b[0m \u001b[0;34m\u001b[0m\u001b[0m\n\u001b[0;32m-> 1708\u001b[0;31m         \u001b[0mself\u001b[0m\u001b[0;34m.\u001b[0m\u001b[0m_reader\u001b[0m \u001b[0;34m=\u001b[0m \u001b[0mparsers\u001b[0m\u001b[0;34m.\u001b[0m\u001b[0mTextReader\u001b[0m\u001b[0;34m(\u001b[0m\u001b[0msrc\u001b[0m\u001b[0;34m,\u001b[0m \u001b[0;34m**\u001b[0m\u001b[0mkwds\u001b[0m\u001b[0;34m)\u001b[0m\u001b[0;34m\u001b[0m\u001b[0;34m\u001b[0m\u001b[0m\n\u001b[0m\u001b[1;32m   1709\u001b[0m \u001b[0;34m\u001b[0m\u001b[0m\n\u001b[1;32m   1710\u001b[0m         \u001b[0mpassed_names\u001b[0m \u001b[0;34m=\u001b[0m \u001b[0mself\u001b[0m\u001b[0;34m.\u001b[0m\u001b[0mnames\u001b[0m \u001b[0;32mis\u001b[0m \u001b[0;32mNone\u001b[0m\u001b[0;34m\u001b[0m\u001b[0;34m\u001b[0m\u001b[0m\n",
      "\u001b[0;32mpandas/_libs/parsers.pyx\u001b[0m in \u001b[0;36mpandas._libs.parsers.TextReader.__cinit__\u001b[0;34m()\u001b[0m\n",
      "\u001b[0;31mEmptyDataError\u001b[0m: No columns to parse from file"
     ]
    }
   ],
   "source": [
    "df=pd.read_table('movies.txt',header=None)"
   ]
  },
  {
   "cell_type": "code",
   "execution_count": 25,
   "metadata": {},
   "outputs": [
    {
     "ename": "EmptyDataError",
     "evalue": "No rows from which to infer column width",
     "output_type": "error",
     "traceback": [
      "\u001b[0;31m---------------------------------------------------------------------------\u001b[0m",
      "\u001b[0;31mEmptyDataError\u001b[0m                            Traceback (most recent call last)",
      "\u001b[0;32m<ipython-input-25-b34a5d8f39fa>\u001b[0m in \u001b[0;36m<module>\u001b[0;34m\u001b[0m\n\u001b[0;32m----> 1\u001b[0;31m \u001b[0mmovie\u001b[0m\u001b[0;34m=\u001b[0m\u001b[0mpd\u001b[0m\u001b[0;34m.\u001b[0m\u001b[0mread_fwf\u001b[0m\u001b[0;34m(\u001b[0m\u001b[0;34m'movies.txt'\u001b[0m\u001b[0;34m)\u001b[0m\u001b[0;34m\u001b[0m\u001b[0;34m\u001b[0m\u001b[0m\n\u001b[0m",
      "\u001b[0;32m/anaconda3/lib/python3.7/site-packages/pandas/io/parsers.py\u001b[0m in \u001b[0;36mread_fwf\u001b[0;34m(filepath_or_buffer, colspecs, widths, **kwds)\u001b[0m\n\u001b[1;32m    708\u001b[0m     \u001b[0mkwds\u001b[0m\u001b[0;34m[\u001b[0m\u001b[0;34m'colspecs'\u001b[0m\u001b[0;34m]\u001b[0m \u001b[0;34m=\u001b[0m \u001b[0mcolspecs\u001b[0m\u001b[0;34m\u001b[0m\u001b[0;34m\u001b[0m\u001b[0m\n\u001b[1;32m    709\u001b[0m     \u001b[0mkwds\u001b[0m\u001b[0;34m[\u001b[0m\u001b[0;34m'engine'\u001b[0m\u001b[0;34m]\u001b[0m \u001b[0;34m=\u001b[0m \u001b[0;34m'python-fwf'\u001b[0m\u001b[0;34m\u001b[0m\u001b[0;34m\u001b[0m\u001b[0m\n\u001b[0;32m--> 710\u001b[0;31m     \u001b[0;32mreturn\u001b[0m \u001b[0m_read\u001b[0m\u001b[0;34m(\u001b[0m\u001b[0mfilepath_or_buffer\u001b[0m\u001b[0;34m,\u001b[0m \u001b[0mkwds\u001b[0m\u001b[0;34m)\u001b[0m\u001b[0;34m\u001b[0m\u001b[0;34m\u001b[0m\u001b[0m\n\u001b[0m\u001b[1;32m    711\u001b[0m \u001b[0;34m\u001b[0m\u001b[0m\n\u001b[1;32m    712\u001b[0m \u001b[0;34m\u001b[0m\u001b[0m\n",
      "\u001b[0;32m/anaconda3/lib/python3.7/site-packages/pandas/io/parsers.py\u001b[0m in \u001b[0;36m_read\u001b[0;34m(filepath_or_buffer, kwds)\u001b[0m\n\u001b[1;32m    438\u001b[0m \u001b[0;34m\u001b[0m\u001b[0m\n\u001b[1;32m    439\u001b[0m     \u001b[0;31m# Create the parser.\u001b[0m\u001b[0;34m\u001b[0m\u001b[0;34m\u001b[0m\u001b[0;34m\u001b[0m\u001b[0m\n\u001b[0;32m--> 440\u001b[0;31m     \u001b[0mparser\u001b[0m \u001b[0;34m=\u001b[0m \u001b[0mTextFileReader\u001b[0m\u001b[0;34m(\u001b[0m\u001b[0mfilepath_or_buffer\u001b[0m\u001b[0;34m,\u001b[0m \u001b[0;34m**\u001b[0m\u001b[0mkwds\u001b[0m\u001b[0;34m)\u001b[0m\u001b[0;34m\u001b[0m\u001b[0;34m\u001b[0m\u001b[0m\n\u001b[0m\u001b[1;32m    441\u001b[0m \u001b[0;34m\u001b[0m\u001b[0m\n\u001b[1;32m    442\u001b[0m     \u001b[0;32mif\u001b[0m \u001b[0mchunksize\u001b[0m \u001b[0;32mor\u001b[0m \u001b[0miterator\u001b[0m\u001b[0;34m:\u001b[0m\u001b[0;34m\u001b[0m\u001b[0;34m\u001b[0m\u001b[0m\n",
      "\u001b[0;32m/anaconda3/lib/python3.7/site-packages/pandas/io/parsers.py\u001b[0m in \u001b[0;36m__init__\u001b[0;34m(self, f, engine, **kwds)\u001b[0m\n\u001b[1;32m    785\u001b[0m             \u001b[0mself\u001b[0m\u001b[0;34m.\u001b[0m\u001b[0moptions\u001b[0m\u001b[0;34m[\u001b[0m\u001b[0;34m'has_index_names'\u001b[0m\u001b[0;34m]\u001b[0m \u001b[0;34m=\u001b[0m \u001b[0mkwds\u001b[0m\u001b[0;34m[\u001b[0m\u001b[0;34m'has_index_names'\u001b[0m\u001b[0;34m]\u001b[0m\u001b[0;34m\u001b[0m\u001b[0;34m\u001b[0m\u001b[0m\n\u001b[1;32m    786\u001b[0m \u001b[0;34m\u001b[0m\u001b[0m\n\u001b[0;32m--> 787\u001b[0;31m         \u001b[0mself\u001b[0m\u001b[0;34m.\u001b[0m\u001b[0m_make_engine\u001b[0m\u001b[0;34m(\u001b[0m\u001b[0mself\u001b[0m\u001b[0;34m.\u001b[0m\u001b[0mengine\u001b[0m\u001b[0;34m)\u001b[0m\u001b[0;34m\u001b[0m\u001b[0;34m\u001b[0m\u001b[0m\n\u001b[0m\u001b[1;32m    788\u001b[0m \u001b[0;34m\u001b[0m\u001b[0m\n\u001b[1;32m    789\u001b[0m     \u001b[0;32mdef\u001b[0m \u001b[0mclose\u001b[0m\u001b[0;34m(\u001b[0m\u001b[0mself\u001b[0m\u001b[0;34m)\u001b[0m\u001b[0;34m:\u001b[0m\u001b[0;34m\u001b[0m\u001b[0;34m\u001b[0m\u001b[0m\n",
      "\u001b[0;32m/anaconda3/lib/python3.7/site-packages/pandas/io/parsers.py\u001b[0m in \u001b[0;36m_make_engine\u001b[0;34m(self, engine)\u001b[0m\n\u001b[1;32m   1022\u001b[0m                                  ' \"c\", \"python\", or' ' \"python-fwf\")'.format(\n\u001b[1;32m   1023\u001b[0m                                      engine=engine))\n\u001b[0;32m-> 1024\u001b[0;31m             \u001b[0mself\u001b[0m\u001b[0;34m.\u001b[0m\u001b[0m_engine\u001b[0m \u001b[0;34m=\u001b[0m \u001b[0mklass\u001b[0m\u001b[0;34m(\u001b[0m\u001b[0mself\u001b[0m\u001b[0;34m.\u001b[0m\u001b[0mf\u001b[0m\u001b[0;34m,\u001b[0m \u001b[0;34m**\u001b[0m\u001b[0mself\u001b[0m\u001b[0;34m.\u001b[0m\u001b[0moptions\u001b[0m\u001b[0;34m)\u001b[0m\u001b[0;34m\u001b[0m\u001b[0;34m\u001b[0m\u001b[0m\n\u001b[0m\u001b[1;32m   1025\u001b[0m \u001b[0;34m\u001b[0m\u001b[0m\n\u001b[1;32m   1026\u001b[0m     \u001b[0;32mdef\u001b[0m \u001b[0m_failover_to_python\u001b[0m\u001b[0;34m(\u001b[0m\u001b[0mself\u001b[0m\u001b[0;34m)\u001b[0m\u001b[0;34m:\u001b[0m\u001b[0;34m\u001b[0m\u001b[0;34m\u001b[0m\u001b[0m\n",
      "\u001b[0;32m/anaconda3/lib/python3.7/site-packages/pandas/io/parsers.py\u001b[0m in \u001b[0;36m__init__\u001b[0;34m(self, f, **kwds)\u001b[0m\n\u001b[1;32m   3443\u001b[0m         \u001b[0;31m# Support iterators, convert to a list.\u001b[0m\u001b[0;34m\u001b[0m\u001b[0;34m\u001b[0m\u001b[0;34m\u001b[0m\u001b[0m\n\u001b[1;32m   3444\u001b[0m         \u001b[0mself\u001b[0m\u001b[0;34m.\u001b[0m\u001b[0mcolspecs\u001b[0m \u001b[0;34m=\u001b[0m \u001b[0mkwds\u001b[0m\u001b[0;34m.\u001b[0m\u001b[0mpop\u001b[0m\u001b[0;34m(\u001b[0m\u001b[0;34m'colspecs'\u001b[0m\u001b[0;34m)\u001b[0m\u001b[0;34m\u001b[0m\u001b[0;34m\u001b[0m\u001b[0m\n\u001b[0;32m-> 3445\u001b[0;31m         \u001b[0mPythonParser\u001b[0m\u001b[0;34m.\u001b[0m\u001b[0m__init__\u001b[0m\u001b[0;34m(\u001b[0m\u001b[0mself\u001b[0m\u001b[0;34m,\u001b[0m \u001b[0mf\u001b[0m\u001b[0;34m,\u001b[0m \u001b[0;34m**\u001b[0m\u001b[0mkwds\u001b[0m\u001b[0;34m)\u001b[0m\u001b[0;34m\u001b[0m\u001b[0;34m\u001b[0m\u001b[0m\n\u001b[0m\u001b[1;32m   3446\u001b[0m \u001b[0;34m\u001b[0m\u001b[0m\n\u001b[1;32m   3447\u001b[0m     \u001b[0;32mdef\u001b[0m \u001b[0m_make_reader\u001b[0m\u001b[0;34m(\u001b[0m\u001b[0mself\u001b[0m\u001b[0;34m,\u001b[0m \u001b[0mf\u001b[0m\u001b[0;34m)\u001b[0m\u001b[0;34m:\u001b[0m\u001b[0;34m\u001b[0m\u001b[0;34m\u001b[0m\u001b[0m\n",
      "\u001b[0;32m/anaconda3/lib/python3.7/site-packages/pandas/io/parsers.py\u001b[0m in \u001b[0;36m__init__\u001b[0;34m(self, f, **kwds)\u001b[0m\n\u001b[1;32m   2080\u001b[0m         \u001b[0;31m# Set self.data to something that can read lines.\u001b[0m\u001b[0;34m\u001b[0m\u001b[0;34m\u001b[0m\u001b[0;34m\u001b[0m\u001b[0m\n\u001b[1;32m   2081\u001b[0m         \u001b[0;32mif\u001b[0m \u001b[0mhasattr\u001b[0m\u001b[0;34m(\u001b[0m\u001b[0mf\u001b[0m\u001b[0;34m,\u001b[0m \u001b[0;34m'readline'\u001b[0m\u001b[0;34m)\u001b[0m\u001b[0;34m:\u001b[0m\u001b[0;34m\u001b[0m\u001b[0;34m\u001b[0m\u001b[0m\n\u001b[0;32m-> 2082\u001b[0;31m             \u001b[0mself\u001b[0m\u001b[0;34m.\u001b[0m\u001b[0m_make_reader\u001b[0m\u001b[0;34m(\u001b[0m\u001b[0mf\u001b[0m\u001b[0;34m)\u001b[0m\u001b[0;34m\u001b[0m\u001b[0;34m\u001b[0m\u001b[0m\n\u001b[0m\u001b[1;32m   2083\u001b[0m         \u001b[0;32melse\u001b[0m\u001b[0;34m:\u001b[0m\u001b[0;34m\u001b[0m\u001b[0;34m\u001b[0m\u001b[0m\n\u001b[1;32m   2084\u001b[0m             \u001b[0mself\u001b[0m\u001b[0;34m.\u001b[0m\u001b[0mdata\u001b[0m \u001b[0;34m=\u001b[0m \u001b[0mf\u001b[0m\u001b[0;34m\u001b[0m\u001b[0;34m\u001b[0m\u001b[0m\n",
      "\u001b[0;32m/anaconda3/lib/python3.7/site-packages/pandas/io/parsers.py\u001b[0m in \u001b[0;36m_make_reader\u001b[0;34m(self, f)\u001b[0m\n\u001b[1;32m   3447\u001b[0m     \u001b[0;32mdef\u001b[0m \u001b[0m_make_reader\u001b[0m\u001b[0;34m(\u001b[0m\u001b[0mself\u001b[0m\u001b[0;34m,\u001b[0m \u001b[0mf\u001b[0m\u001b[0;34m)\u001b[0m\u001b[0;34m:\u001b[0m\u001b[0;34m\u001b[0m\u001b[0;34m\u001b[0m\u001b[0m\n\u001b[1;32m   3448\u001b[0m         self.data = FixedWidthReader(f, self.colspecs, self.delimiter,\n\u001b[0;32m-> 3449\u001b[0;31m                                      self.comment, self.skiprows)\n\u001b[0m",
      "\u001b[0;32m/anaconda3/lib/python3.7/site-packages/pandas/io/parsers.py\u001b[0m in \u001b[0;36m__init__\u001b[0;34m(self, f, colspecs, delimiter, comment, skiprows)\u001b[0m\n\u001b[1;32m   3347\u001b[0m         \u001b[0mself\u001b[0m\u001b[0;34m.\u001b[0m\u001b[0mcomment\u001b[0m \u001b[0;34m=\u001b[0m \u001b[0mcomment\u001b[0m\u001b[0;34m\u001b[0m\u001b[0;34m\u001b[0m\u001b[0m\n\u001b[1;32m   3348\u001b[0m         \u001b[0;32mif\u001b[0m \u001b[0mcolspecs\u001b[0m \u001b[0;34m==\u001b[0m \u001b[0;34m'infer'\u001b[0m\u001b[0;34m:\u001b[0m\u001b[0;34m\u001b[0m\u001b[0;34m\u001b[0m\u001b[0m\n\u001b[0;32m-> 3349\u001b[0;31m             \u001b[0mself\u001b[0m\u001b[0;34m.\u001b[0m\u001b[0mcolspecs\u001b[0m \u001b[0;34m=\u001b[0m \u001b[0mself\u001b[0m\u001b[0;34m.\u001b[0m\u001b[0mdetect_colspecs\u001b[0m\u001b[0;34m(\u001b[0m\u001b[0mskiprows\u001b[0m\u001b[0;34m=\u001b[0m\u001b[0mskiprows\u001b[0m\u001b[0;34m)\u001b[0m\u001b[0;34m\u001b[0m\u001b[0;34m\u001b[0m\u001b[0m\n\u001b[0m\u001b[1;32m   3350\u001b[0m         \u001b[0;32melse\u001b[0m\u001b[0;34m:\u001b[0m\u001b[0;34m\u001b[0m\u001b[0;34m\u001b[0m\u001b[0m\n\u001b[1;32m   3351\u001b[0m             \u001b[0mself\u001b[0m\u001b[0;34m.\u001b[0m\u001b[0mcolspecs\u001b[0m \u001b[0;34m=\u001b[0m \u001b[0mcolspecs\u001b[0m\u001b[0;34m\u001b[0m\u001b[0;34m\u001b[0m\u001b[0m\n",
      "\u001b[0;32m/anaconda3/lib/python3.7/site-packages/pandas/io/parsers.py\u001b[0m in \u001b[0;36mdetect_colspecs\u001b[0;34m(self, n, skiprows)\u001b[0m\n\u001b[1;32m   3406\u001b[0m         \u001b[0mrows\u001b[0m \u001b[0;34m=\u001b[0m \u001b[0mself\u001b[0m\u001b[0;34m.\u001b[0m\u001b[0mget_rows\u001b[0m\u001b[0;34m(\u001b[0m\u001b[0mn\u001b[0m\u001b[0;34m,\u001b[0m \u001b[0mskiprows\u001b[0m\u001b[0;34m)\u001b[0m\u001b[0;34m\u001b[0m\u001b[0;34m\u001b[0m\u001b[0m\n\u001b[1;32m   3407\u001b[0m         \u001b[0;32mif\u001b[0m \u001b[0;32mnot\u001b[0m \u001b[0mrows\u001b[0m\u001b[0;34m:\u001b[0m\u001b[0;34m\u001b[0m\u001b[0;34m\u001b[0m\u001b[0m\n\u001b[0;32m-> 3408\u001b[0;31m             \u001b[0;32mraise\u001b[0m \u001b[0mEmptyDataError\u001b[0m\u001b[0;34m(\u001b[0m\u001b[0;34m\"No rows from which to infer column width\"\u001b[0m\u001b[0;34m)\u001b[0m\u001b[0;34m\u001b[0m\u001b[0;34m\u001b[0m\u001b[0m\n\u001b[0m\u001b[1;32m   3409\u001b[0m         \u001b[0mmax_len\u001b[0m \u001b[0;34m=\u001b[0m \u001b[0mmax\u001b[0m\u001b[0;34m(\u001b[0m\u001b[0mmap\u001b[0m\u001b[0;34m(\u001b[0m\u001b[0mlen\u001b[0m\u001b[0;34m,\u001b[0m \u001b[0mrows\u001b[0m\u001b[0;34m)\u001b[0m\u001b[0;34m)\u001b[0m\u001b[0;34m\u001b[0m\u001b[0;34m\u001b[0m\u001b[0m\n\u001b[1;32m   3410\u001b[0m         \u001b[0mmask\u001b[0m \u001b[0;34m=\u001b[0m \u001b[0mnp\u001b[0m\u001b[0;34m.\u001b[0m\u001b[0mzeros\u001b[0m\u001b[0;34m(\u001b[0m\u001b[0mmax_len\u001b[0m \u001b[0;34m+\u001b[0m \u001b[0;36m1\u001b[0m\u001b[0;34m,\u001b[0m \u001b[0mdtype\u001b[0m\u001b[0;34m=\u001b[0m\u001b[0mint\u001b[0m\u001b[0;34m)\u001b[0m\u001b[0;34m\u001b[0m\u001b[0;34m\u001b[0m\u001b[0m\n",
      "\u001b[0;31mEmptyDataError\u001b[0m: No rows from which to infer column width"
     ]
    }
   ],
   "source": [
    "movie=pd.read_fwf('movies.txt')"
   ]
  },
  {
   "cell_type": "code",
   "execution_count": 27,
   "metadata": {},
   "outputs": [
    {
     "ename": "NameError",
     "evalue": "name 'json' is not defined",
     "output_type": "error",
     "traceback": [
      "\u001b[0;31m---------------------------------------------------------------------------\u001b[0m",
      "\u001b[0;31mNameError\u001b[0m                                 Traceback (most recent call last)",
      "\u001b[0;32m<ipython-input-27-9be87187158b>\u001b[0m in \u001b[0;36m<module>\u001b[0;34m\u001b[0m\n\u001b[1;32m      1\u001b[0m \u001b[0;32mwith\u001b[0m \u001b[0mopen\u001b[0m\u001b[0;34m(\u001b[0m\u001b[0;34m'movies.json'\u001b[0m\u001b[0;34m,\u001b[0m \u001b[0;34m'w'\u001b[0m\u001b[0;34m)\u001b[0m \u001b[0;32mas\u001b[0m \u001b[0mjson_file\u001b[0m\u001b[0;34m:\u001b[0m\u001b[0;34m\u001b[0m\u001b[0;34m\u001b[0m\u001b[0m\n\u001b[0;32m----> 2\u001b[0;31m     \u001b[0mjson\u001b[0m\u001b[0;34m.\u001b[0m\u001b[0mdump\u001b[0m\u001b[0;34m(\u001b[0m\u001b[0;34m'movies.txt'\u001b[0m\u001b[0;34m,\u001b[0m \u001b[0mjson_file\u001b[0m\u001b[0;34m)\u001b[0m\u001b[0;34m\u001b[0m\u001b[0;34m\u001b[0m\u001b[0m\n\u001b[0m",
      "\u001b[0;31mNameError\u001b[0m: name 'json' is not defined"
     ]
    }
   ],
   "source": [
    "with open('movies.json', 'w') as json_file:\n",
    "    json.dump('movies.txt', json_file)"
   ]
  },
  {
   "cell_type": "code",
   "execution_count": 28,
   "metadata": {},
   "outputs": [
    {
     "ename": "ModuleNotFoundError",
     "evalue": "No module named 'simplejson'",
     "output_type": "error",
     "traceback": [
      "\u001b[0;31m---------------------------------------------------------------------------\u001b[0m",
      "\u001b[0;31mModuleNotFoundError\u001b[0m                       Traceback (most recent call last)",
      "\u001b[0;32m<ipython-input-28-283b9fce4d7e>\u001b[0m in \u001b[0;36m<module>\u001b[0;34m\u001b[0m\n\u001b[1;32m      1\u001b[0m \u001b[0;32mimport\u001b[0m \u001b[0mgzip\u001b[0m\u001b[0;34m\u001b[0m\u001b[0;34m\u001b[0m\u001b[0m\n\u001b[0;32m----> 2\u001b[0;31m \u001b[0;32mimport\u001b[0m \u001b[0msimplejson\u001b[0m\u001b[0;34m\u001b[0m\u001b[0;34m\u001b[0m\u001b[0m\n\u001b[0m\u001b[1;32m      3\u001b[0m \u001b[0;32mfrom\u001b[0m \u001b[0mtqdm\u001b[0m \u001b[0;32mimport\u001b[0m \u001b[0mtqdm\u001b[0m\u001b[0;34m\u001b[0m\u001b[0;34m\u001b[0m\u001b[0m\n\u001b[1;32m      4\u001b[0m \u001b[0;32mfrom\u001b[0m \u001b[0mutils\u001b[0m \u001b[0;32mimport\u001b[0m \u001b[0mget_line_number\u001b[0m\u001b[0;34m\u001b[0m\u001b[0;34m\u001b[0m\u001b[0m\n\u001b[1;32m      5\u001b[0m \u001b[0;34m\u001b[0m\u001b[0m\n",
      "\u001b[0;31mModuleNotFoundError\u001b[0m: No module named 'simplejson'"
     ]
    }
   ],
   "source": [
    "import gzip\n",
    "import simplejson\n",
    "from tqdm import tqdm\n",
    "from utils import get_line_number\n",
    "\n",
    "def parse(filename, total):\n",
    "  f = gzip.open(filename, 'r')\n",
    "  entry = {}\n",
    "  for l in tqdm(f, total=total):\n",
    "    l = l.strip()\n",
    "    colonPos = l.find(':')\n",
    "    if colonPos == -1:\n",
    "      yield entry\n",
    "      entry = {}\n",
    "      continue\n",
    "    eName = l[:colonPos]\n",
    "    rest = l[colonPos+2:]\n",
    "    entry[eName] = unicode(rest, errors='ignore')\n",
    "  yield entry\n",
    "\n",
    "\n",
    "if __name__ == '__main__':\n",
    "  file_path = \"data/movies.txt.gz\"\n",
    "  line_num = get_line_number(file_path)\n",
    "\n",
    "  for e in parse(file_path, total=line_num):\n",
    "    print(simplejson.dumps(e))"
   ]
  },
  {
   "cell_type": "code",
   "execution_count": 29,
   "metadata": {},
   "outputs": [
    {
     "ename": "JSONDecodeError",
     "evalue": "Expecting value: line 1 column 1 (char 0)",
     "output_type": "error",
     "traceback": [
      "\u001b[0;31m---------------------------------------------------------------------------\u001b[0m",
      "\u001b[0;31mJSONDecodeError\u001b[0m                           Traceback (most recent call last)",
      "\u001b[0;32m<ipython-input-29-9ebf2a60ae1a>\u001b[0m in \u001b[0;36m<module>\u001b[0;34m\u001b[0m\n\u001b[1;32m      1\u001b[0m \u001b[0;32mimport\u001b[0m \u001b[0mjson\u001b[0m\u001b[0;34m\u001b[0m\u001b[0;34m\u001b[0m\u001b[0m\n\u001b[1;32m      2\u001b[0m \u001b[0;32mwith\u001b[0m \u001b[0mopen\u001b[0m\u001b[0;34m(\u001b[0m\u001b[0;34m\"movies.txt\"\u001b[0m\u001b[0;34m,\u001b[0m \u001b[0;34m\"rb\"\u001b[0m\u001b[0;34m)\u001b[0m \u001b[0;32mas\u001b[0m \u001b[0mfin\u001b[0m\u001b[0;34m:\u001b[0m\u001b[0;34m\u001b[0m\u001b[0;34m\u001b[0m\u001b[0m\n\u001b[0;32m----> 3\u001b[0;31m     \u001b[0mcontent\u001b[0m \u001b[0;34m=\u001b[0m \u001b[0mjson\u001b[0m\u001b[0;34m.\u001b[0m\u001b[0mload\u001b[0m\u001b[0;34m(\u001b[0m\u001b[0mfin\u001b[0m\u001b[0;34m)\u001b[0m\u001b[0;34m\u001b[0m\u001b[0;34m\u001b[0m\u001b[0m\n\u001b[0m\u001b[1;32m      4\u001b[0m \u001b[0;32mwith\u001b[0m \u001b[0mopen\u001b[0m\u001b[0;34m(\u001b[0m\u001b[0;34m\"stringJson.txt\"\u001b[0m\u001b[0;34m,\u001b[0m \u001b[0;34m\"wb\"\u001b[0m\u001b[0;34m)\u001b[0m \u001b[0;32mas\u001b[0m \u001b[0mfout\u001b[0m\u001b[0;34m:\u001b[0m\u001b[0;34m\u001b[0m\u001b[0;34m\u001b[0m\u001b[0m\n\u001b[1;32m      5\u001b[0m     \u001b[0mjson\u001b[0m\u001b[0;34m.\u001b[0m\u001b[0mdump\u001b[0m\u001b[0;34m(\u001b[0m\u001b[0mcontent\u001b[0m\u001b[0;34m,\u001b[0m \u001b[0mfout\u001b[0m\u001b[0;34m,\u001b[0m \u001b[0mindent\u001b[0m\u001b[0;34m=\u001b[0m\u001b[0;36m1\u001b[0m\u001b[0;34m)\u001b[0m\u001b[0;34m\u001b[0m\u001b[0;34m\u001b[0m\u001b[0m\n",
      "\u001b[0;32m/anaconda3/lib/python3.7/json/__init__.py\u001b[0m in \u001b[0;36mload\u001b[0;34m(fp, cls, object_hook, parse_float, parse_int, parse_constant, object_pairs_hook, **kw)\u001b[0m\n\u001b[1;32m    294\u001b[0m         \u001b[0mcls\u001b[0m\u001b[0;34m=\u001b[0m\u001b[0mcls\u001b[0m\u001b[0;34m,\u001b[0m \u001b[0mobject_hook\u001b[0m\u001b[0;34m=\u001b[0m\u001b[0mobject_hook\u001b[0m\u001b[0;34m,\u001b[0m\u001b[0;34m\u001b[0m\u001b[0;34m\u001b[0m\u001b[0m\n\u001b[1;32m    295\u001b[0m         \u001b[0mparse_float\u001b[0m\u001b[0;34m=\u001b[0m\u001b[0mparse_float\u001b[0m\u001b[0;34m,\u001b[0m \u001b[0mparse_int\u001b[0m\u001b[0;34m=\u001b[0m\u001b[0mparse_int\u001b[0m\u001b[0;34m,\u001b[0m\u001b[0;34m\u001b[0m\u001b[0;34m\u001b[0m\u001b[0m\n\u001b[0;32m--> 296\u001b[0;31m         parse_constant=parse_constant, object_pairs_hook=object_pairs_hook, **kw)\n\u001b[0m\u001b[1;32m    297\u001b[0m \u001b[0;34m\u001b[0m\u001b[0m\n\u001b[1;32m    298\u001b[0m \u001b[0;34m\u001b[0m\u001b[0m\n",
      "\u001b[0;32m/anaconda3/lib/python3.7/json/__init__.py\u001b[0m in \u001b[0;36mloads\u001b[0;34m(s, encoding, cls, object_hook, parse_float, parse_int, parse_constant, object_pairs_hook, **kw)\u001b[0m\n\u001b[1;32m    346\u001b[0m             \u001b[0mparse_int\u001b[0m \u001b[0;32mis\u001b[0m \u001b[0;32mNone\u001b[0m \u001b[0;32mand\u001b[0m \u001b[0mparse_float\u001b[0m \u001b[0;32mis\u001b[0m \u001b[0;32mNone\u001b[0m \u001b[0;32mand\u001b[0m\u001b[0;34m\u001b[0m\u001b[0;34m\u001b[0m\u001b[0m\n\u001b[1;32m    347\u001b[0m             parse_constant is None and object_pairs_hook is None and not kw):\n\u001b[0;32m--> 348\u001b[0;31m         \u001b[0;32mreturn\u001b[0m \u001b[0m_default_decoder\u001b[0m\u001b[0;34m.\u001b[0m\u001b[0mdecode\u001b[0m\u001b[0;34m(\u001b[0m\u001b[0ms\u001b[0m\u001b[0;34m)\u001b[0m\u001b[0;34m\u001b[0m\u001b[0;34m\u001b[0m\u001b[0m\n\u001b[0m\u001b[1;32m    349\u001b[0m     \u001b[0;32mif\u001b[0m \u001b[0mcls\u001b[0m \u001b[0;32mis\u001b[0m \u001b[0;32mNone\u001b[0m\u001b[0;34m:\u001b[0m\u001b[0;34m\u001b[0m\u001b[0;34m\u001b[0m\u001b[0m\n\u001b[1;32m    350\u001b[0m         \u001b[0mcls\u001b[0m \u001b[0;34m=\u001b[0m \u001b[0mJSONDecoder\u001b[0m\u001b[0;34m\u001b[0m\u001b[0;34m\u001b[0m\u001b[0m\n",
      "\u001b[0;32m/anaconda3/lib/python3.7/json/decoder.py\u001b[0m in \u001b[0;36mdecode\u001b[0;34m(self, s, _w)\u001b[0m\n\u001b[1;32m    335\u001b[0m \u001b[0;34m\u001b[0m\u001b[0m\n\u001b[1;32m    336\u001b[0m         \"\"\"\n\u001b[0;32m--> 337\u001b[0;31m         \u001b[0mobj\u001b[0m\u001b[0;34m,\u001b[0m \u001b[0mend\u001b[0m \u001b[0;34m=\u001b[0m \u001b[0mself\u001b[0m\u001b[0;34m.\u001b[0m\u001b[0mraw_decode\u001b[0m\u001b[0;34m(\u001b[0m\u001b[0ms\u001b[0m\u001b[0;34m,\u001b[0m \u001b[0midx\u001b[0m\u001b[0;34m=\u001b[0m\u001b[0m_w\u001b[0m\u001b[0;34m(\u001b[0m\u001b[0ms\u001b[0m\u001b[0;34m,\u001b[0m \u001b[0;36m0\u001b[0m\u001b[0;34m)\u001b[0m\u001b[0;34m.\u001b[0m\u001b[0mend\u001b[0m\u001b[0;34m(\u001b[0m\u001b[0;34m)\u001b[0m\u001b[0;34m)\u001b[0m\u001b[0;34m\u001b[0m\u001b[0;34m\u001b[0m\u001b[0m\n\u001b[0m\u001b[1;32m    338\u001b[0m         \u001b[0mend\u001b[0m \u001b[0;34m=\u001b[0m \u001b[0m_w\u001b[0m\u001b[0;34m(\u001b[0m\u001b[0ms\u001b[0m\u001b[0;34m,\u001b[0m \u001b[0mend\u001b[0m\u001b[0;34m)\u001b[0m\u001b[0;34m.\u001b[0m\u001b[0mend\u001b[0m\u001b[0;34m(\u001b[0m\u001b[0;34m)\u001b[0m\u001b[0;34m\u001b[0m\u001b[0;34m\u001b[0m\u001b[0m\n\u001b[1;32m    339\u001b[0m         \u001b[0;32mif\u001b[0m \u001b[0mend\u001b[0m \u001b[0;34m!=\u001b[0m \u001b[0mlen\u001b[0m\u001b[0;34m(\u001b[0m\u001b[0ms\u001b[0m\u001b[0;34m)\u001b[0m\u001b[0;34m:\u001b[0m\u001b[0;34m\u001b[0m\u001b[0;34m\u001b[0m\u001b[0m\n",
      "\u001b[0;32m/anaconda3/lib/python3.7/json/decoder.py\u001b[0m in \u001b[0;36mraw_decode\u001b[0;34m(self, s, idx)\u001b[0m\n\u001b[1;32m    353\u001b[0m             \u001b[0mobj\u001b[0m\u001b[0;34m,\u001b[0m \u001b[0mend\u001b[0m \u001b[0;34m=\u001b[0m \u001b[0mself\u001b[0m\u001b[0;34m.\u001b[0m\u001b[0mscan_once\u001b[0m\u001b[0;34m(\u001b[0m\u001b[0ms\u001b[0m\u001b[0;34m,\u001b[0m \u001b[0midx\u001b[0m\u001b[0;34m)\u001b[0m\u001b[0;34m\u001b[0m\u001b[0;34m\u001b[0m\u001b[0m\n\u001b[1;32m    354\u001b[0m         \u001b[0;32mexcept\u001b[0m \u001b[0mStopIteration\u001b[0m \u001b[0;32mas\u001b[0m \u001b[0merr\u001b[0m\u001b[0;34m:\u001b[0m\u001b[0;34m\u001b[0m\u001b[0;34m\u001b[0m\u001b[0m\n\u001b[0;32m--> 355\u001b[0;31m             \u001b[0;32mraise\u001b[0m \u001b[0mJSONDecodeError\u001b[0m\u001b[0;34m(\u001b[0m\u001b[0;34m\"Expecting value\"\u001b[0m\u001b[0;34m,\u001b[0m \u001b[0ms\u001b[0m\u001b[0;34m,\u001b[0m \u001b[0merr\u001b[0m\u001b[0;34m.\u001b[0m\u001b[0mvalue\u001b[0m\u001b[0;34m)\u001b[0m \u001b[0;32mfrom\u001b[0m \u001b[0;32mNone\u001b[0m\u001b[0;34m\u001b[0m\u001b[0;34m\u001b[0m\u001b[0m\n\u001b[0m\u001b[1;32m    356\u001b[0m         \u001b[0;32mreturn\u001b[0m \u001b[0mobj\u001b[0m\u001b[0;34m,\u001b[0m \u001b[0mend\u001b[0m\u001b[0;34m\u001b[0m\u001b[0;34m\u001b[0m\u001b[0m\n",
      "\u001b[0;31mJSONDecodeError\u001b[0m: Expecting value: line 1 column 1 (char 0)"
     ]
    }
   ],
   "source": [
    "import json\n",
    "with open(\"movies.txt\", \"rb\") as fin:\n",
    "    content = json.load(fin)\n",
    "with open(\"stringJson.txt\", \"wb\") as fout:\n",
    "    json.dump(content, fout, indent=1)"
   ]
  },
  {
   "cell_type": "code",
   "execution_count": null,
   "metadata": {},
   "outputs": [],
   "source": []
  },
  {
   "cell_type": "code",
   "execution_count": null,
   "metadata": {
    "collapsed": true
   },
   "outputs": [],
   "source": []
  }
 ],
 "metadata": {
  "kernelspec": {
   "display_name": "Python 3",
   "language": "python",
   "name": "python3"
  }
 },
 "nbformat": 4,
 "nbformat_minor": 2
}
