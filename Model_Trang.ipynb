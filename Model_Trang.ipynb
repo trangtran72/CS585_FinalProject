{
 "cells": [
  {
   "cell_type": "code",
   "execution_count": 5,
   "metadata": {},
   "outputs": [
    {
     "name": "stderr",
     "output_type": "stream",
     "text": [
      "[nltk_data] Downloading package stopwords to\n",
      "[nltk_data]     /Users/mm12574/nltk_data...\n",
      "[nltk_data]   Package stopwords is already up-to-date!\n",
      "[nltk_data] Downloading package punkt to /Users/mm12574/nltk_data...\n",
      "[nltk_data]   Package punkt is already up-to-date!\n"
     ]
    }
   ],
   "source": [
    "import pandas as pd\n",
    "import re\n",
    "import numpy as np\n",
    "import matplotlib.pyplot as plt\n",
    "import nltk\n",
    "from nltk.corpus import stopwords\n",
    "from nltk.stem import PorterStemmer\n",
    "nltk.download('stopwords')\n",
    "nltk.download('punkt')\n",
    "from nltk.tokenize import RegexpTokenizer\n",
    "from nltk.corpus import stopwords\n",
    "from nltk import word_tokenize\n",
    "import string\n",
    "from sklearn.feature_extraction.text import TfidfVectorizer\n",
    "from sklearn.pipeline import Pipeline\n",
    "from sklearn.metrics import classification_report, confusion_matrix\n",
    "from sklearn.model_selection import train_test_split\n",
    "from sklearn.feature_selection import SelectKBest, chi2\n",
    "from sklearn.ensemble import RandomForestClassifier\n",
    "from sklearn import *\n",
    "import pickle\n",
    "%matplotlib inline"
   ]
  },
  {
   "cell_type": "code",
   "execution_count": 11,
   "metadata": {},
   "outputs": [],
   "source": [
    "df = pd.read_csv('five_movies.csv',index_col=0)"
   ]
  },
  {
   "cell_type": "code",
   "execution_count": 12,
   "metadata": {},
   "outputs": [
    {
     "data": {
      "text/html": [
       "<div>\n",
       "<style scoped>\n",
       "    .dataframe tbody tr th:only-of-type {\n",
       "        vertical-align: middle;\n",
       "    }\n",
       "\n",
       "    .dataframe tbody tr th {\n",
       "        vertical-align: top;\n",
       "    }\n",
       "\n",
       "    .dataframe thead th {\n",
       "        text-align: right;\n",
       "    }\n",
       "</style>\n",
       "<table border=\"1\" class=\"dataframe\">\n",
       "  <thead>\n",
       "    <tr style=\"text-align: right;\">\n",
       "      <th></th>\n",
       "      <th>productId</th>\n",
       "      <th>userId</th>\n",
       "      <th>score</th>\n",
       "      <th>summary</th>\n",
       "      <th>review</th>\n",
       "      <th>movie_title</th>\n",
       "    </tr>\n",
       "  </thead>\n",
       "  <tbody>\n",
       "    <tr>\n",
       "      <th>111469</th>\n",
       "      <td>B002LBKDYE</td>\n",
       "      <td>A1D3RZRRITKB75</td>\n",
       "      <td>5.0</td>\n",
       "      <td>If you eat you need to watch it.</td>\n",
       "      <td>Seriously ----watch this before you take that ...</td>\n",
       "      <td>Food, Inc</td>\n",
       "    </tr>\n",
       "    <tr>\n",
       "      <th>111470</th>\n",
       "      <td>B002LBKDYE</td>\n",
       "      <td>A24Y3JBTJD5R1K</td>\n",
       "      <td>5.0</td>\n",
       "      <td>For those who eat food!</td>\n",
       "      <td>I don't know that my eating habits changed, bu...</td>\n",
       "      <td>Food, Inc</td>\n",
       "    </tr>\n",
       "    <tr>\n",
       "      <th>111471</th>\n",
       "      <td>B002LBKDYE</td>\n",
       "      <td>ABND7UR0H37JW</td>\n",
       "      <td>5.0</td>\n",
       "      <td>if you're a parent, don't miss this</td>\n",
       "      <td>Well worth the time, this engrossing and enlig...</td>\n",
       "      <td>Food, Inc</td>\n",
       "    </tr>\n",
       "    <tr>\n",
       "      <th>111472</th>\n",
       "      <td>B002LBKDYE</td>\n",
       "      <td>A3EK4NS9CMXC7W</td>\n",
       "      <td>5.0</td>\n",
       "      <td>I'm not an activist, but I do want to live a ...</td>\n",
       "      <td>When movies like this come out I am often hesi...</td>\n",
       "      <td>Food, Inc</td>\n",
       "    </tr>\n",
       "    <tr>\n",
       "      <th>111473</th>\n",
       "      <td>B002LBKDYE</td>\n",
       "      <td>A1LIDERT7U0NN8</td>\n",
       "      <td>5.0</td>\n",
       "      <td>Well Worth Your Time</td>\n",
       "      <td>I am always hesitant to watch certain document...</td>\n",
       "      <td>Food, Inc</td>\n",
       "    </tr>\n",
       "  </tbody>\n",
       "</table>\n",
       "</div>"
      ],
      "text/plain": [
       "         productId           userId  score  \\\n",
       "111469  B002LBKDYE   A1D3RZRRITKB75    5.0   \n",
       "111470  B002LBKDYE   A24Y3JBTJD5R1K    5.0   \n",
       "111471  B002LBKDYE    ABND7UR0H37JW    5.0   \n",
       "111472  B002LBKDYE   A3EK4NS9CMXC7W    5.0   \n",
       "111473  B002LBKDYE   A1LIDERT7U0NN8    5.0   \n",
       "\n",
       "                                                  summary  \\\n",
       "111469                   If you eat you need to watch it.   \n",
       "111470                            For those who eat food!   \n",
       "111471                if you're a parent, don't miss this   \n",
       "111472   I'm not an activist, but I do want to live a ...   \n",
       "111473                               Well Worth Your Time   \n",
       "\n",
       "                                                   review movie_title  \n",
       "111469  Seriously ----watch this before you take that ...   Food, Inc  \n",
       "111470  I don't know that my eating habits changed, bu...   Food, Inc  \n",
       "111471  Well worth the time, this engrossing and enlig...   Food, Inc  \n",
       "111472  When movies like this come out I am often hesi...   Food, Inc  \n",
       "111473  I am always hesitant to watch certain document...   Food, Inc  "
      ]
     },
     "execution_count": 12,
     "metadata": {},
     "output_type": "execute_result"
    }
   ],
   "source": [
    "df.head()"
   ]
  },
  {
   "cell_type": "code",
   "execution_count": 8,
   "metadata": {},
   "outputs": [
    {
     "data": {
      "text/plain": [
       "(4366, 6)"
      ]
     },
     "execution_count": 8,
     "metadata": {},
     "output_type": "execute_result"
    }
   ],
   "source": [
    "df.shape"
   ]
  },
  {
   "cell_type": "code",
   "execution_count": 24,
   "metadata": {},
   "outputs": [],
   "source": [
    "iron_man['is_duplicate'] = iron_man.review.duplicated(keep='first')"
   ]
  },
  {
   "cell_type": "code",
   "execution_count": 25,
   "metadata": {},
   "outputs": [
    {
     "data": {
      "text/html": [
       "<div>\n",
       "<style scoped>\n",
       "    .dataframe tbody tr th:only-of-type {\n",
       "        vertical-align: middle;\n",
       "    }\n",
       "\n",
       "    .dataframe tbody tr th {\n",
       "        vertical-align: top;\n",
       "    }\n",
       "\n",
       "    .dataframe thead th {\n",
       "        text-align: right;\n",
       "    }\n",
       "</style>\n",
       "<table border=\"1\" class=\"dataframe\">\n",
       "  <thead>\n",
       "    <tr style=\"text-align: right;\">\n",
       "      <th></th>\n",
       "      <th>productId</th>\n",
       "      <th>userId</th>\n",
       "      <th>score</th>\n",
       "      <th>summary</th>\n",
       "      <th>review</th>\n",
       "      <th>is_duplicate</th>\n",
       "    </tr>\n",
       "  </thead>\n",
       "  <tbody>\n",
       "    <tr>\n",
       "      <th>517024</th>\n",
       "      <td>B001FZ9AAU</td>\n",
       "      <td>A10RMS4T6P76M4</td>\n",
       "      <td>5.0</td>\n",
       "      <td>Excellent, action packed, and fun!</td>\n",
       "      <td>I really enjoyed this movie.  Robert Downey Jr...</td>\n",
       "      <td>False</td>\n",
       "    </tr>\n",
       "    <tr>\n",
       "      <th>517025</th>\n",
       "      <td>B001FZ9AAU</td>\n",
       "      <td>A2JEONEOLE4FD2</td>\n",
       "      <td>5.0</td>\n",
       "      <td>Ironman proves there are heroes beyond Spidey...</td>\n",
       "      <td>This is a great entertainer done very well. Bu...</td>\n",
       "      <td>False</td>\n",
       "    </tr>\n",
       "    <tr>\n",
       "      <th>517026</th>\n",
       "      <td>B001FZ9AAU</td>\n",
       "      <td>A3LH77PBDFEO3F</td>\n",
       "      <td>5.0</td>\n",
       "      <td>Guilty Pleasue of a movie!</td>\n",
       "      <td>I have never been a comic book guy, and super ...</td>\n",
       "      <td>False</td>\n",
       "    </tr>\n",
       "    <tr>\n",
       "      <th>517027</th>\n",
       "      <td>B001FZ9AAU</td>\n",
       "      <td>A6BRC4D9NZJFK</td>\n",
       "      <td>5.0</td>\n",
       "      <td>highly recommended</td>\n",
       "      <td>how can you not love this movie&lt;br /&gt;excellent...</td>\n",
       "      <td>False</td>\n",
       "    </tr>\n",
       "    <tr>\n",
       "      <th>517028</th>\n",
       "      <td>B001FZ9AAU</td>\n",
       "      <td>A2C62X7R904NKM</td>\n",
       "      <td>4.0</td>\n",
       "      <td>Robert Downey Jr. actually does it as a super...</td>\n",
       "      <td>I think that movie makers have to wait till th...</td>\n",
       "      <td>False</td>\n",
       "    </tr>\n",
       "  </tbody>\n",
       "</table>\n",
       "</div>"
      ],
      "text/plain": [
       "         productId           userId  score  \\\n",
       "517024  B001FZ9AAU   A10RMS4T6P76M4    5.0   \n",
       "517025  B001FZ9AAU   A2JEONEOLE4FD2    5.0   \n",
       "517026  B001FZ9AAU   A3LH77PBDFEO3F    5.0   \n",
       "517027  B001FZ9AAU    A6BRC4D9NZJFK    5.0   \n",
       "517028  B001FZ9AAU   A2C62X7R904NKM    4.0   \n",
       "\n",
       "                                                  summary  \\\n",
       "517024                 Excellent, action packed, and fun!   \n",
       "517025   Ironman proves there are heroes beyond Spidey...   \n",
       "517026                         Guilty Pleasue of a movie!   \n",
       "517027                                 highly recommended   \n",
       "517028   Robert Downey Jr. actually does it as a super...   \n",
       "\n",
       "                                                   review  is_duplicate  \n",
       "517024  I really enjoyed this movie.  Robert Downey Jr...         False  \n",
       "517025  This is a great entertainer done very well. Bu...         False  \n",
       "517026  I have never been a comic book guy, and super ...         False  \n",
       "517027  how can you not love this movie<br />excellent...         False  \n",
       "517028  I think that movie makers have to wait till th...         False  "
      ]
     },
     "execution_count": 25,
     "metadata": {},
     "output_type": "execute_result"
    }
   ],
   "source": [
    "iron_man.head()"
   ]
  },
  {
   "cell_type": "code",
   "execution_count": 26,
   "metadata": {},
   "outputs": [
    {
     "data": {
      "text/plain": [
       "True     7398\n",
       "False     924\n",
       "Name: is_duplicate, dtype: int64"
      ]
     },
     "execution_count": 26,
     "metadata": {},
     "output_type": "execute_result"
    }
   ],
   "source": [
    "iron_man.is_duplicate.value_counts()"
   ]
  },
  {
   "cell_type": "code",
   "execution_count": 27,
   "metadata": {},
   "outputs": [],
   "source": [
    "iron_man = iron_man[iron_man.is_duplicate == False]"
   ]
  },
  {
   "cell_type": "code",
   "execution_count": 28,
   "metadata": {},
   "outputs": [
    {
     "data": {
      "text/plain": [
       "(924, 6)"
      ]
     },
     "execution_count": 28,
     "metadata": {},
     "output_type": "execute_result"
    }
   ],
   "source": [
    "iron_man.shape"
   ]
  },
  {
   "cell_type": "code",
   "execution_count": 13,
   "metadata": {},
   "outputs": [
    {
     "data": {
      "image/png": "[encoded data removed]",
      "text/plain": [
       "<Figure size 432x288 with 1 Axes>"
      ]
     },
     "metadata": {
      "needs_background": "light"
     },
     "output_type": "display_data"
    }
   ],
   "source": [
    "df.groupby('score').review.count().plot.bar(ylim=0)\n",
    "plt.show()\n"
   ]
  },
  {
   "cell_type": "code",
   "execution_count": 14,
   "metadata": {},
   "outputs": [],
   "source": [
    "stop_words = stopwords.words('english') + list(string.punctuation)\n",
    "stemmer = PorterStemmer()\n",
    "df['cleaned'] = df['review'].apply(lambda x: \" \".join([stemmer.stem(i) for i in re.sub(\"[^a-zA-Z]\", \" \", x).split() if i not in stop_words]).lower())"
   ]
  },
  {
   "cell_type": "code",
   "execution_count": 15,
   "metadata": {},
   "outputs": [
    {
     "data": {
      "text/html": [
       "<div>\n",
       "<style scoped>\n",
       "    .dataframe tbody tr th:only-of-type {\n",
       "        vertical-align: middle;\n",
       "    }\n",
       "\n",
       "    .dataframe tbody tr th {\n",
       "        vertical-align: top;\n",
       "    }\n",
       "\n",
       "    .dataframe thead th {\n",
       "        text-align: right;\n",
       "    }\n",
       "</style>\n",
       "<table border=\"1\" class=\"dataframe\">\n",
       "  <thead>\n",
       "    <tr style=\"text-align: right;\">\n",
       "      <th></th>\n",
       "      <th>productId</th>\n",
       "      <th>userId</th>\n",
       "      <th>score</th>\n",
       "      <th>summary</th>\n",
       "      <th>review</th>\n",
       "      <th>movie_title</th>\n",
       "      <th>cleaned</th>\n",
       "    </tr>\n",
       "  </thead>\n",
       "  <tbody>\n",
       "    <tr>\n",
       "      <th>111469</th>\n",
       "      <td>B002LBKDYE</td>\n",
       "      <td>A1D3RZRRITKB75</td>\n",
       "      <td>5.0</td>\n",
       "      <td>If you eat you need to watch it.</td>\n",
       "      <td>Seriously ----watch this before you take that ...</td>\n",
       "      <td>Food, Inc</td>\n",
       "      <td>serious watch take next bite br do realli want...</td>\n",
       "    </tr>\n",
       "    <tr>\n",
       "      <th>111470</th>\n",
       "      <td>B002LBKDYE</td>\n",
       "      <td>A24Y3JBTJD5R1K</td>\n",
       "      <td>5.0</td>\n",
       "      <td>For those who eat food!</td>\n",
       "      <td>I don't know that my eating habits changed, bu...</td>\n",
       "      <td>Food, Inc</td>\n",
       "      <td>i know eat habit chang i defiantli becam infor...</td>\n",
       "    </tr>\n",
       "    <tr>\n",
       "      <th>111471</th>\n",
       "      <td>B002LBKDYE</td>\n",
       "      <td>ABND7UR0H37JW</td>\n",
       "      <td>5.0</td>\n",
       "      <td>if you're a parent, don't miss this</td>\n",
       "      <td>Well worth the time, this engrossing and enlig...</td>\n",
       "      <td>Food, Inc</td>\n",
       "      <td>well worth time engross enlighten film open ey...</td>\n",
       "    </tr>\n",
       "    <tr>\n",
       "      <th>111472</th>\n",
       "      <td>B002LBKDYE</td>\n",
       "      <td>A3EK4NS9CMXC7W</td>\n",
       "      <td>5.0</td>\n",
       "      <td>I'm not an activist, but I do want to live a ...</td>\n",
       "      <td>When movies like this come out I am often hesi...</td>\n",
       "      <td>Food, Inc</td>\n",
       "      <td>when movi like come i often hesit watch i acti...</td>\n",
       "    </tr>\n",
       "    <tr>\n",
       "      <th>111473</th>\n",
       "      <td>B002LBKDYE</td>\n",
       "      <td>A1LIDERT7U0NN8</td>\n",
       "      <td>5.0</td>\n",
       "      <td>Well Worth Your Time</td>\n",
       "      <td>I am always hesitant to watch certain document...</td>\n",
       "      <td>Food, Inc</td>\n",
       "      <td>i alway hesit watch certain documentari mani m...</td>\n",
       "    </tr>\n",
       "  </tbody>\n",
       "</table>\n",
       "</div>"
      ],
      "text/plain": [
       "         productId           userId  score  \\\n",
       "111469  B002LBKDYE   A1D3RZRRITKB75    5.0   \n",
       "111470  B002LBKDYE   A24Y3JBTJD5R1K    5.0   \n",
       "111471  B002LBKDYE    ABND7UR0H37JW    5.0   \n",
       "111472  B002LBKDYE   A3EK4NS9CMXC7W    5.0   \n",
       "111473  B002LBKDYE   A1LIDERT7U0NN8    5.0   \n",
       "\n",
       "                                                  summary  \\\n",
       "111469                   If you eat you need to watch it.   \n",
       "111470                            For those who eat food!   \n",
       "111471                if you're a parent, don't miss this   \n",
       "111472   I'm not an activist, but I do want to live a ...   \n",
       "111473                               Well Worth Your Time   \n",
       "\n",
       "                                                   review movie_title  \\\n",
       "111469  Seriously ----watch this before you take that ...   Food, Inc   \n",
       "111470  I don't know that my eating habits changed, bu...   Food, Inc   \n",
       "111471  Well worth the time, this engrossing and enlig...   Food, Inc   \n",
       "111472  When movies like this come out I am often hesi...   Food, Inc   \n",
       "111473  I am always hesitant to watch certain document...   Food, Inc   \n",
       "\n",
       "                                                  cleaned  \n",
       "111469  serious watch take next bite br do realli want...  \n",
       "111470  i know eat habit chang i defiantli becam infor...  \n",
       "111471  well worth time engross enlighten film open ey...  \n",
       "111472  when movi like come i often hesit watch i acti...  \n",
       "111473  i alway hesit watch certain documentari mani m...  "
      ]
     },
     "execution_count": 15,
     "metadata": {},
     "output_type": "execute_result"
    }
   ],
   "source": [
    "df.head()"
   ]
  },
  {
   "cell_type": "code",
   "execution_count": 24,
   "metadata": {},
   "outputs": [
    {
     "data": {
      "text/plain": [
       "111469    serious watch take next bite br do realli want...\n",
       "111470    i know eat habit chang i defiantli becam infor...\n",
       "111471    well worth time engross enlighten film open ey...\n",
       "111472    when movi like come i often hesit watch i acti...\n",
       "111473    i alway hesit watch certain documentari mani m...\n",
       "Name: cleaned, dtype: object"
      ]
     },
     "execution_count": 24,
     "metadata": {},
     "output_type": "execute_result"
    }
   ],
   "source": [
    "df['cleaned'].head()"
   ]
  },
  {
   "cell_type": "code",
   "execution_count": 25,
   "metadata": {},
   "outputs": [
    {
     "data": {
      "text/plain": [
       "(4366, 20349)"
      ]
     },
     "execution_count": 25,
     "metadata": {},
     "output_type": "execute_result"
    }
   ],
   "source": [
    "vectorizer = TfidfVectorizer(min_df= 3, stop_words=\"english\", sublinear_tf=True, norm='l2', ngram_range=(1, 2))\n",
    "final_features = vectorizer.fit_transform(df['cleaned']).toarray()\n",
    "final_features.shape"
   ]
  },
  {
   "cell_type": "code",
   "execution_count": 27,
   "metadata": {},
   "outputs": [],
   "source": [
    "#first we split our dataset into testing and training set:\n",
    "# this block is to split the dataset into training and testing set \n",
    "X = df['cleaned']\n",
    "Y = df['score']\n",
    "X_train, X_test, y_train, y_test = train_test_split(X, Y, test_size=0.25)"
   ]
  },
  {
   "cell_type": "code",
   "execution_count": 28,
   "metadata": {},
   "outputs": [
    {
     "data": {
      "text/plain": [
       "4028380    iron man jon favreau br br wait jon favreau di...\n",
       "111930     thi video requir view school it tell sad truth...\n",
       "4942673    the kid love harri potter grown so cours see f...\n",
       "809556     that son would love kid and let face film seem...\n",
       "4027943    thi must watch theatr iron man qualiti made ex...\n",
       "Name: cleaned, dtype: object"
      ]
     },
     "execution_count": 28,
     "metadata": {},
     "output_type": "execute_result"
    }
   ],
   "source": [
    "X_train.head()"
   ]
  },
  {
   "cell_type": "code",
   "execution_count": 29,
   "metadata": {},
   "outputs": [
    {
     "data": {
      "text/plain": [
       "809555     i order car dvd year old grandson favorit movi...\n",
       "809341     thi must collect i even like movi much i think...\n",
       "111469     serious watch take next bite br do realli want...\n",
       "4028369    i realli love movi big fight end robert downey...\n",
       "809638     what great movi children adult alik thi one ev...\n",
       "Name: cleaned, dtype: object"
      ]
     },
     "execution_count": 29,
     "metadata": {},
     "output_type": "execute_result"
    }
   ],
   "source": [
    "X_test.head()"
   ]
  },
  {
   "cell_type": "code",
   "execution_count": 30,
   "metadata": {},
   "outputs": [
    {
     "data": {
      "text/plain": [
       "4028380    4.0\n",
       "111930     5.0\n",
       "4942673    5.0\n",
       "809556     4.0\n",
       "4027943    5.0\n",
       "Name: score, dtype: float64"
      ]
     },
     "execution_count": 30,
     "metadata": {},
     "output_type": "execute_result"
    }
   ],
   "source": [
    "y_train.head()"
   ]
  },
  {
   "cell_type": "code",
   "execution_count": 31,
   "metadata": {},
   "outputs": [
    {
     "data": {
      "text/plain": [
       "809555     3.0\n",
       "809341     5.0\n",
       "111469     5.0\n",
       "4028369    4.0\n",
       "809638     5.0\n",
       "Name: score, dtype: float64"
      ]
     },
     "execution_count": 31,
     "metadata": {},
     "output_type": "execute_result"
    }
   ],
   "source": [
    "y_test.head()"
   ]
  },
  {
   "cell_type": "code",
   "execution_count": 32,
   "metadata": {},
   "outputs": [],
   "source": [
    "# instead of doing these steps one at a time, we can use a pipeline to complete them all at once\n",
    "pipeline = Pipeline([('vect', vectorizer),\n",
    "                     ('chi',  SelectKBest(chi2, k=1200)),\n",
    "                     ('clf', RandomForestClassifier())])"
   ]
  },
  {
   "cell_type": "code",
   "execution_count": 33,
   "metadata": {},
   "outputs": [
    {
     "name": "stderr",
     "output_type": "stream",
     "text": [
      "/usr/local/lib/python3.7/site-packages/sklearn/ensemble/forest.py:245: FutureWarning: The default value of n_estimators will change from 10 in version 0.20 to 100 in 0.22.\n",
      "  \"10 in version 0.20 to 100 in 0.22.\", FutureWarning)\n"
     ]
    }
   ],
   "source": [
    "# fitting our model and save it in a pickle for later use\n",
    "model = pipeline.fit(X_train, y_train)\n",
    "with open('RandomForest.pickle', 'wb') as f:\n",
    "    pickle.dump(model, f)\n",
    "ytest = np.array(y_test)"
   ]
  },
  {
   "cell_type": "code",
   "execution_count": 34,
   "metadata": {},
   "outputs": [
    {
     "data": {
      "text/plain": [
       "array([3., 5., 5., 4., 5., 4., 5., 3., 4., 4., 5., 5., 5., 5., 5., 5., 3.,\n",
       "       4., 5., 5., 5., 5., 5., 5., 5., 5., 1., 5., 5., 3., 5., 5., 5., 5.,\n",
       "       4., 5., 3., 1., 1., 4., 4., 5., 4., 5., 4., 4., 4., 5., 3., 5.])"
      ]
     },
     "execution_count": 34,
     "metadata": {},
     "output_type": "execute_result"
    }
   ],
   "source": [
    "ytest[:50]"
   ]
  },
  {
   "cell_type": "code",
   "execution_count": 35,
   "metadata": {},
   "outputs": [
    {
     "name": "stdout",
     "output_type": "stream",
     "text": [
      "              precision    recall  f1-score   support\n",
      "\n",
      "         1.0       0.67      0.18      0.29        76\n",
      "         2.0       0.00      0.00      0.00        41\n",
      "         3.0       0.38      0.05      0.08        65\n",
      "         4.0       0.26      0.13      0.17       198\n",
      "         5.0       0.69      0.94      0.79       712\n",
      "\n",
      "    accuracy                           0.65      1092\n",
      "   macro avg       0.40      0.26      0.27      1092\n",
      "weighted avg       0.57      0.65      0.57      1092\n",
      "\n"
     ]
    }
   ],
   "source": [
    "# confusion matrix and classification report(precision, recall, F1-score)\n",
    "print(classification_report(ytest, model.predict(X_test)))"
   ]
  },
  {
   "cell_type": "code",
   "execution_count": 66,
   "metadata": {},
   "outputs": [
    {
     "name": "stdout",
     "output_type": "stream",
     "text": [
      "[[  2   0   0   0   7]\n",
      " [  0   0   0   1   5]\n",
      " [  0   0   0   2  10]\n",
      " [  0   0   0   8  48]\n",
      " [  0   0   0  13 135]]\n"
     ]
    }
   ],
   "source": [
    "print(confusion_matrix(ytest, model.predict(X_test)))"
   ]
  },
  {
   "cell_type": "code",
   "execution_count": null,
   "metadata": {},
   "outputs": [],
   "source": []
  }
 ],
 "metadata": {
  "kernelspec": {
   "display_name": "Python 3",
   "language": "python",
   "name": "python3"
  },
  "language_info": {
   "codemirror_mode": {
    "name": "ipython",
    "version": 3
   },
   "file_extension": ".py",
   "mimetype": "text/x-python",
   "name": "python",
   "nbconvert_exporter": "python",
   "pygments_lexer": "ipython3",
   "version": "3.7.4"
  }
 },
 "nbformat": 4,
 "nbformat_minor": 2
}
