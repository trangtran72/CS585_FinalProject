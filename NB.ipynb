{
 "cells": [
  {
   "cell_type": "code",
   "execution_count": 32,
   "metadata": {},
   "outputs": [
    {
     "ename": "NameError",
     "evalue": "name 'nltk' is not defined",
     "output_type": "error",
     "traceback": [
      "\u001b[0;31m---------------------------------------------------------------------------\u001b[0m",
      "\u001b[0;31mNameError\u001b[0m                                 Traceback (most recent call last)",
      "\u001b[0;32m<ipython-input-32-4cc0efa03ed7>\u001b[0m in \u001b[0;36m<module>\u001b[0;34m\u001b[0m\n\u001b[1;32m      4\u001b[0m \u001b[0;32mimport\u001b[0m \u001b[0mmatplotlib\u001b[0m\u001b[0;34m.\u001b[0m\u001b[0mpyplot\u001b[0m \u001b[0;32mas\u001b[0m \u001b[0mplt\u001b[0m\u001b[0;34m\u001b[0m\u001b[0;34m\u001b[0m\u001b[0m\n\u001b[1;32m      5\u001b[0m \u001b[0;32mfrom\u001b[0m \u001b[0mnltk\u001b[0m\u001b[0;34m.\u001b[0m\u001b[0mcorpus\u001b[0m \u001b[0;32mimport\u001b[0m \u001b[0mstopwords\u001b[0m\u001b[0;34m\u001b[0m\u001b[0;34m\u001b[0m\u001b[0m\n\u001b[0;32m----> 6\u001b[0;31m \u001b[0mnltk\u001b[0m\u001b[0;34m.\u001b[0m\u001b[0mdownload\u001b[0m\u001b[0;34m(\u001b[0m\u001b[0;34m'stopwords'\u001b[0m\u001b[0;34m)\u001b[0m\u001b[0;34m\u001b[0m\u001b[0;34m\u001b[0m\u001b[0m\n\u001b[0m\u001b[1;32m      7\u001b[0m \u001b[0;32mfrom\u001b[0m \u001b[0mnltk\u001b[0m\u001b[0;34m.\u001b[0m\u001b[0mstem\u001b[0m \u001b[0;32mimport\u001b[0m \u001b[0mPorterStemmer\u001b[0m\u001b[0;34m\u001b[0m\u001b[0;34m\u001b[0m\u001b[0m\n\u001b[1;32m      8\u001b[0m \u001b[0;32mfrom\u001b[0m \u001b[0msklearn\u001b[0m\u001b[0;34m.\u001b[0m\u001b[0mfeature_extraction\u001b[0m\u001b[0;34m.\u001b[0m\u001b[0mtext\u001b[0m \u001b[0;32mimport\u001b[0m \u001b[0mTfidfVectorizer\u001b[0m\u001b[0;34m\u001b[0m\u001b[0;34m\u001b[0m\u001b[0m\n",
      "\u001b[0;31mNameError\u001b[0m: name 'nltk' is not defined"
     ]
    }
   ],
   "source": [
    "import pandas as pd\n",
    "import re\n",
    "import numpy as np\n",
    "import matplotlib.pyplot as plt\n",
    "from nltk.corpus import stopwords\n",
    "from nltk.stem import PorterStemmer\n",
    "from sklearn.feature_extraction.text import TfidfVectorizer\n",
    "from sklearn.pipeline import Pipeline\n",
    "from sklearn.metrics import classification_report, confusion_matrix\n",
    "from sklearn.model_selection import train_test_split\n",
    "from sklearn.feature_selection import SelectKBest, chi2\n",
    "from sklearn.ensemble import RandomForestClassifier\n",
    "import pickle\n",
    "%matplotlib inline"
   ]
  },
  {
   "cell_type": "code",
   "execution_count": 15,
   "metadata": {},
   "outputs": [],
   "source": [
    "iron_man = pd.read_csv('iron_man.csv',index_col=0)"
   ]
  },
  {
   "cell_type": "code",
   "execution_count": 16,
   "metadata": {},
   "outputs": [
    {
     "data": {
      "text/html": [
       "<div>\n",
       "<style scoped>\n",
       "    .dataframe tbody tr th:only-of-type {\n",
       "        vertical-align: middle;\n",
       "    }\n",
       "\n",
       "    .dataframe tbody tr th {\n",
       "        vertical-align: top;\n",
       "    }\n",
       "\n",
       "    .dataframe thead th {\n",
       "        text-align: right;\n",
       "    }\n",
       "</style>\n",
       "<table border=\"1\" class=\"dataframe\">\n",
       "  <thead>\n",
       "    <tr style=\"text-align: right;\">\n",
       "      <th></th>\n",
       "      <th>productId</th>\n",
       "      <th>userId</th>\n",
       "      <th>score</th>\n",
       "      <th>summary</th>\n",
       "      <th>review</th>\n",
       "    </tr>\n",
       "  </thead>\n",
       "  <tbody>\n",
       "    <tr>\n",
       "      <th>517024</th>\n",
       "      <td>B001FZ9AAU</td>\n",
       "      <td>A10RMS4T6P76M4</td>\n",
       "      <td>5.0</td>\n",
       "      <td>Excellent, action packed, and fun!</td>\n",
       "      <td>I really enjoyed this movie.  Robert Downey Jr...</td>\n",
       "    </tr>\n",
       "    <tr>\n",
       "      <th>517025</th>\n",
       "      <td>B001FZ9AAU</td>\n",
       "      <td>A2JEONEOLE4FD2</td>\n",
       "      <td>5.0</td>\n",
       "      <td>Ironman proves there are heroes beyond Spidey...</td>\n",
       "      <td>This is a great entertainer done very well. Bu...</td>\n",
       "    </tr>\n",
       "    <tr>\n",
       "      <th>517026</th>\n",
       "      <td>B001FZ9AAU</td>\n",
       "      <td>A3LH77PBDFEO3F</td>\n",
       "      <td>5.0</td>\n",
       "      <td>Guilty Pleasue of a movie!</td>\n",
       "      <td>I have never been a comic book guy, and super ...</td>\n",
       "    </tr>\n",
       "    <tr>\n",
       "      <th>517027</th>\n",
       "      <td>B001FZ9AAU</td>\n",
       "      <td>A6BRC4D9NZJFK</td>\n",
       "      <td>5.0</td>\n",
       "      <td>highly recommended</td>\n",
       "      <td>how can you not love this movie&lt;br /&gt;excellent...</td>\n",
       "    </tr>\n",
       "    <tr>\n",
       "      <th>517028</th>\n",
       "      <td>B001FZ9AAU</td>\n",
       "      <td>A2C62X7R904NKM</td>\n",
       "      <td>4.0</td>\n",
       "      <td>Robert Downey Jr. actually does it as a super...</td>\n",
       "      <td>I think that movie makers have to wait till th...</td>\n",
       "    </tr>\n",
       "  </tbody>\n",
       "</table>\n",
       "</div>"
      ],
      "text/plain": [
       "         productId           userId  score  \\\n",
       "517024  B001FZ9AAU   A10RMS4T6P76M4    5.0   \n",
       "517025  B001FZ9AAU   A2JEONEOLE4FD2    5.0   \n",
       "517026  B001FZ9AAU   A3LH77PBDFEO3F    5.0   \n",
       "517027  B001FZ9AAU    A6BRC4D9NZJFK    5.0   \n",
       "517028  B001FZ9AAU   A2C62X7R904NKM    4.0   \n",
       "\n",
       "                                                  summary  \\\n",
       "517024                 Excellent, action packed, and fun!   \n",
       "517025   Ironman proves there are heroes beyond Spidey...   \n",
       "517026                         Guilty Pleasue of a movie!   \n",
       "517027                                 highly recommended   \n",
       "517028   Robert Downey Jr. actually does it as a super...   \n",
       "\n",
       "                                                   review  \n",
       "517024  I really enjoyed this movie.  Robert Downey Jr...  \n",
       "517025  This is a great entertainer done very well. Bu...  \n",
       "517026  I have never been a comic book guy, and super ...  \n",
       "517027  how can you not love this movie<br />excellent...  \n",
       "517028  I think that movie makers have to wait till th...  "
      ]
     },
     "execution_count": 16,
     "metadata": {},
     "output_type": "execute_result"
    }
   ],
   "source": [
    "iron_man.head()"
   ]
  },
  {
   "cell_type": "code",
   "execution_count": 17,
   "metadata": {},
   "outputs": [
    {
     "data": {
      "text/plain": [
       "(8322, 5)"
      ]
     },
     "execution_count": 17,
     "metadata": {},
     "output_type": "execute_result"
    }
   ],
   "source": [
    "iron_man.shape"
   ]
  },
  {
   "cell_type": "code",
   "execution_count": 24,
   "metadata": {},
   "outputs": [],
   "source": [
    "iron_man['is_duplicate'] = iron_man.review.duplicated(keep='first')"
   ]
  },
  {
   "cell_type": "code",
   "execution_count": 25,
   "metadata": {},
   "outputs": [
    {
     "data": {
      "text/html": [
       "<div>\n",
       "<style scoped>\n",
       "    .dataframe tbody tr th:only-of-type {\n",
       "        vertical-align: middle;\n",
       "    }\n",
       "\n",
       "    .dataframe tbody tr th {\n",
       "        vertical-align: top;\n",
       "    }\n",
       "\n",
       "    .dataframe thead th {\n",
       "        text-align: right;\n",
       "    }\n",
       "</style>\n",
       "<table border=\"1\" class=\"dataframe\">\n",
       "  <thead>\n",
       "    <tr style=\"text-align: right;\">\n",
       "      <th></th>\n",
       "      <th>productId</th>\n",
       "      <th>userId</th>\n",
       "      <th>score</th>\n",
       "      <th>summary</th>\n",
       "      <th>review</th>\n",
       "      <th>is_duplicate</th>\n",
       "    </tr>\n",
       "  </thead>\n",
       "  <tbody>\n",
       "    <tr>\n",
       "      <th>517024</th>\n",
       "      <td>B001FZ9AAU</td>\n",
       "      <td>A10RMS4T6P76M4</td>\n",
       "      <td>5.0</td>\n",
       "      <td>Excellent, action packed, and fun!</td>\n",
       "      <td>I really enjoyed this movie.  Robert Downey Jr...</td>\n",
       "      <td>False</td>\n",
       "    </tr>\n",
       "    <tr>\n",
       "      <th>517025</th>\n",
       "      <td>B001FZ9AAU</td>\n",
       "      <td>A2JEONEOLE4FD2</td>\n",
       "      <td>5.0</td>\n",
       "      <td>Ironman proves there are heroes beyond Spidey...</td>\n",
       "      <td>This is a great entertainer done very well. Bu...</td>\n",
       "      <td>False</td>\n",
       "    </tr>\n",
       "    <tr>\n",
       "      <th>517026</th>\n",
       "      <td>B001FZ9AAU</td>\n",
       "      <td>A3LH77PBDFEO3F</td>\n",
       "      <td>5.0</td>\n",
       "      <td>Guilty Pleasue of a movie!</td>\n",
       "      <td>I have never been a comic book guy, and super ...</td>\n",
       "      <td>False</td>\n",
       "    </tr>\n",
       "    <tr>\n",
       "      <th>517027</th>\n",
       "      <td>B001FZ9AAU</td>\n",
       "      <td>A6BRC4D9NZJFK</td>\n",
       "      <td>5.0</td>\n",
       "      <td>highly recommended</td>\n",
       "      <td>how can you not love this movie&lt;br /&gt;excellent...</td>\n",
       "      <td>False</td>\n",
       "    </tr>\n",
       "    <tr>\n",
       "      <th>517028</th>\n",
       "      <td>B001FZ9AAU</td>\n",
       "      <td>A2C62X7R904NKM</td>\n",
       "      <td>4.0</td>\n",
       "      <td>Robert Downey Jr. actually does it as a super...</td>\n",
       "      <td>I think that movie makers have to wait till th...</td>\n",
       "      <td>False</td>\n",
       "    </tr>\n",
       "  </tbody>\n",
       "</table>\n",
       "</div>"
      ],
      "text/plain": [
       "         productId           userId  score  \\\n",
       "517024  B001FZ9AAU   A10RMS4T6P76M4    5.0   \n",
       "517025  B001FZ9AAU   A2JEONEOLE4FD2    5.0   \n",
       "517026  B001FZ9AAU   A3LH77PBDFEO3F    5.0   \n",
       "517027  B001FZ9AAU    A6BRC4D9NZJFK    5.0   \n",
       "517028  B001FZ9AAU   A2C62X7R904NKM    4.0   \n",
       "\n",
       "                                                  summary  \\\n",
       "517024                 Excellent, action packed, and fun!   \n",
       "517025   Ironman proves there are heroes beyond Spidey...   \n",
       "517026                         Guilty Pleasue of a movie!   \n",
       "517027                                 highly recommended   \n",
       "517028   Robert Downey Jr. actually does it as a super...   \n",
       "\n",
       "                                                   review  is_duplicate  \n",
       "517024  I really enjoyed this movie.  Robert Downey Jr...         False  \n",
       "517025  This is a great entertainer done very well. Bu...         False  \n",
       "517026  I have never been a comic book guy, and super ...         False  \n",
       "517027  how can you not love this movie<br />excellent...         False  \n",
       "517028  I think that movie makers have to wait till th...         False  "
      ]
     },
     "execution_count": 25,
     "metadata": {},
     "output_type": "execute_result"
    }
   ],
   "source": [
    "iron_man.head()"
   ]
  },
  {
   "cell_type": "code",
   "execution_count": 26,
   "metadata": {},
   "outputs": [
    {
     "data": {
      "text/plain": [
       "True     7398\n",
       "False     924\n",
       "Name: is_duplicate, dtype: int64"
      ]
     },
     "execution_count": 26,
     "metadata": {},
     "output_type": "execute_result"
    }
   ],
   "source": [
    "iron_man.is_duplicate.value_counts()"
   ]
  },
  {
   "cell_type": "code",
   "execution_count": 27,
   "metadata": {},
   "outputs": [],
   "source": [
    "iron_man = iron_man[iron_man.is_duplicate == False]"
   ]
  },
  {
   "cell_type": "code",
   "execution_count": 28,
   "metadata": {},
   "outputs": [
    {
     "data": {
      "text/plain": [
       "(924, 6)"
      ]
     },
     "execution_count": 28,
     "metadata": {},
     "output_type": "execute_result"
    }
   ],
   "source": [
    "iron_man.shape"
   ]
  },
  {
   "cell_type": "code",
   "execution_count": 30,
   "metadata": {},
   "outputs": [
    {
     "data": {
      "image/png": "[encoded data removed]",
      "text/plain": [
       "<Figure size 432x288 with 1 Axes>"
      ]
     },
     "metadata": {
      "needs_background": "light"
     },
     "output_type": "display_data"
    }
   ],
   "source": [
    "iron_man.groupby('score').review.count().plot.bar(ylim=0)\n",
    "plt.show()\n"
   ]
  },
  {
   "cell_type": "code",
   "execution_count": 34,
   "metadata": {},
   "outputs": [
    {
     "name": "stderr",
     "output_type": "stream",
     "text": [
      "[nltk_data] Downloading package stopwords to\n",
      "[nltk_data]     /Users/mm40743/nltk_data...\n",
      "[nltk_data]   Unzipping corpora/stopwords.zip.\n"
     ]
    }
   ],
   "source": [
    "import nltk\n",
    "nltk.download('stopwords')\n",
    "stemmer = PorterStemmer()\n",
    "words = stopwords.words(\"english\")\n",
    "iron_man['cleaned'] = iron_man['review'].apply(lambda x: \" \".join([stemmer.stem(i) for i in re.sub(\"[^a-zA-Z]\", \" \", x).split() if i not in words]).lower())"
   ]
  },
  {
   "cell_type": "code",
   "execution_count": 35,
   "metadata": {},
   "outputs": [
    {
     "data": {
      "text/html": [
       "<div>\n",
       "<style scoped>\n",
       "    .dataframe tbody tr th:only-of-type {\n",
       "        vertical-align: middle;\n",
       "    }\n",
       "\n",
       "    .dataframe tbody tr th {\n",
       "        vertical-align: top;\n",
       "    }\n",
       "\n",
       "    .dataframe thead th {\n",
       "        text-align: right;\n",
       "    }\n",
       "</style>\n",
       "<table border=\"1\" class=\"dataframe\">\n",
       "  <thead>\n",
       "    <tr style=\"text-align: right;\">\n",
       "      <th></th>\n",
       "      <th>productId</th>\n",
       "      <th>userId</th>\n",
       "      <th>score</th>\n",
       "      <th>summary</th>\n",
       "      <th>review</th>\n",
       "      <th>is_duplicate</th>\n",
       "      <th>cleaned</th>\n",
       "    </tr>\n",
       "  </thead>\n",
       "  <tbody>\n",
       "    <tr>\n",
       "      <th>517024</th>\n",
       "      <td>B001FZ9AAU</td>\n",
       "      <td>A10RMS4T6P76M4</td>\n",
       "      <td>5.0</td>\n",
       "      <td>Excellent, action packed, and fun!</td>\n",
       "      <td>I really enjoyed this movie.  Robert Downey Jr...</td>\n",
       "      <td>False</td>\n",
       "      <td>i realli enjoy movi robert downey jr realli su...</td>\n",
       "    </tr>\n",
       "    <tr>\n",
       "      <th>517025</th>\n",
       "      <td>B001FZ9AAU</td>\n",
       "      <td>A2JEONEOLE4FD2</td>\n",
       "      <td>5.0</td>\n",
       "      <td>Ironman proves there are heroes beyond Spidey...</td>\n",
       "      <td>This is a great entertainer done very well. Bu...</td>\n",
       "      <td>False</td>\n",
       "      <td>thi great entertain done well but ironman comp...</td>\n",
       "    </tr>\n",
       "    <tr>\n",
       "      <th>517026</th>\n",
       "      <td>B001FZ9AAU</td>\n",
       "      <td>A3LH77PBDFEO3F</td>\n",
       "      <td>5.0</td>\n",
       "      <td>Guilty Pleasue of a movie!</td>\n",
       "      <td>I have never been a comic book guy, and super ...</td>\n",
       "      <td>False</td>\n",
       "      <td>i never comic book guy super hero movi seldom ...</td>\n",
       "    </tr>\n",
       "    <tr>\n",
       "      <th>517027</th>\n",
       "      <td>B001FZ9AAU</td>\n",
       "      <td>A6BRC4D9NZJFK</td>\n",
       "      <td>5.0</td>\n",
       "      <td>highly recommended</td>\n",
       "      <td>how can you not love this movie&lt;br /&gt;excellent...</td>\n",
       "      <td>False</td>\n",
       "      <td>love movi br excel item arriv time perfect condit</td>\n",
       "    </tr>\n",
       "    <tr>\n",
       "      <th>517028</th>\n",
       "      <td>B001FZ9AAU</td>\n",
       "      <td>A2C62X7R904NKM</td>\n",
       "      <td>4.0</td>\n",
       "      <td>Robert Downey Jr. actually does it as a super...</td>\n",
       "      <td>I think that movie makers have to wait till th...</td>\n",
       "      <td>False</td>\n",
       "      <td>i think movi maker wait till technolog produc ...</td>\n",
       "    </tr>\n",
       "  </tbody>\n",
       "</table>\n",
       "</div>"
      ],
      "text/plain": [
       "         productId           userId  score  \\\n",
       "517024  B001FZ9AAU   A10RMS4T6P76M4    5.0   \n",
       "517025  B001FZ9AAU   A2JEONEOLE4FD2    5.0   \n",
       "517026  B001FZ9AAU   A3LH77PBDFEO3F    5.0   \n",
       "517027  B001FZ9AAU    A6BRC4D9NZJFK    5.0   \n",
       "517028  B001FZ9AAU   A2C62X7R904NKM    4.0   \n",
       "\n",
       "                                                  summary  \\\n",
       "517024                 Excellent, action packed, and fun!   \n",
       "517025   Ironman proves there are heroes beyond Spidey...   \n",
       "517026                         Guilty Pleasue of a movie!   \n",
       "517027                                 highly recommended   \n",
       "517028   Robert Downey Jr. actually does it as a super...   \n",
       "\n",
       "                                                   review  is_duplicate  \\\n",
       "517024  I really enjoyed this movie.  Robert Downey Jr...         False   \n",
       "517025  This is a great entertainer done very well. Bu...         False   \n",
       "517026  I have never been a comic book guy, and super ...         False   \n",
       "517027  how can you not love this movie<br />excellent...         False   \n",
       "517028  I think that movie makers have to wait till th...         False   \n",
       "\n",
       "                                                  cleaned  \n",
       "517024  i realli enjoy movi robert downey jr realli su...  \n",
       "517025  thi great entertain done well but ironman comp...  \n",
       "517026  i never comic book guy super hero movi seldom ...  \n",
       "517027  love movi br excel item arriv time perfect condit  \n",
       "517028  i think movi maker wait till technolog produc ...  "
      ]
     },
     "execution_count": 35,
     "metadata": {},
     "output_type": "execute_result"
    }
   ],
   "source": [
    "iron_man.head()"
   ]
  },
  {
   "cell_type": "code",
   "execution_count": 36,
   "metadata": {},
   "outputs": [
    {
     "data": {
      "text/html": [
       "<div>\n",
       "<style scoped>\n",
       "    .dataframe tbody tr th:only-of-type {\n",
       "        vertical-align: middle;\n",
       "    }\n",
       "\n",
       "    .dataframe tbody tr th {\n",
       "        vertical-align: top;\n",
       "    }\n",
       "\n",
       "    .dataframe thead th {\n",
       "        text-align: right;\n",
       "    }\n",
       "</style>\n",
       "<table border=\"1\" class=\"dataframe\">\n",
       "  <thead>\n",
       "    <tr style=\"text-align: right;\">\n",
       "      <th></th>\n",
       "      <th>productId</th>\n",
       "      <th>userId</th>\n",
       "      <th>score</th>\n",
       "      <th>summary</th>\n",
       "      <th>review</th>\n",
       "      <th>is_duplicate</th>\n",
       "      <th>cleaned</th>\n",
       "    </tr>\n",
       "  </thead>\n",
       "  <tbody>\n",
       "    <tr>\n",
       "      <th>517024</th>\n",
       "      <td>B001FZ9AAU</td>\n",
       "      <td>A10RMS4T6P76M4</td>\n",
       "      <td>5.0</td>\n",
       "      <td>Excellent, action packed, and fun!</td>\n",
       "      <td>I really enjoyed this movie.  Robert Downey Jr...</td>\n",
       "      <td>False</td>\n",
       "      <td>i realli enjoy movi robert downey jr realli su...</td>\n",
       "    </tr>\n",
       "    <tr>\n",
       "      <th>517025</th>\n",
       "      <td>B001FZ9AAU</td>\n",
       "      <td>A2JEONEOLE4FD2</td>\n",
       "      <td>5.0</td>\n",
       "      <td>Ironman proves there are heroes beyond Spidey...</td>\n",
       "      <td>This is a great entertainer done very well. Bu...</td>\n",
       "      <td>False</td>\n",
       "      <td>thi great entertain done well but ironman comp...</td>\n",
       "    </tr>\n",
       "  </tbody>\n",
       "</table>\n",
       "</div>"
      ],
      "text/plain": [
       "         productId           userId  score  \\\n",
       "517024  B001FZ9AAU   A10RMS4T6P76M4    5.0   \n",
       "517025  B001FZ9AAU   A2JEONEOLE4FD2    5.0   \n",
       "\n",
       "                                                  summary  \\\n",
       "517024                 Excellent, action packed, and fun!   \n",
       "517025   Ironman proves there are heroes beyond Spidey...   \n",
       "\n",
       "                                                   review  is_duplicate  \\\n",
       "517024  I really enjoyed this movie.  Robert Downey Jr...         False   \n",
       "517025  This is a great entertainer done very well. Bu...         False   \n",
       "\n",
       "                                                  cleaned  \n",
       "517024  i realli enjoy movi robert downey jr realli su...  \n",
       "517025  thi great entertain done well but ironman comp...  "
      ]
     },
     "execution_count": 36,
     "metadata": {},
     "output_type": "execute_result"
    }
   ],
   "source": [
    "iron_man[0:2]"
   ]
  },
  {
   "cell_type": "code",
   "execution_count": 37,
   "metadata": {},
   "outputs": [
    {
     "data": {
      "text/plain": [
       "(924, 5554)"
      ]
     },
     "execution_count": 37,
     "metadata": {},
     "output_type": "execute_result"
    }
   ],
   "source": [
    "vectorizer = TfidfVectorizer(min_df= 3, stop_words=\"english\", sublinear_tf=True, norm='l2', ngram_range=(1, 2))\n",
    "final_features = vectorizer.fit_transform(iron_man['cleaned']).toarray()\n",
    "final_features.shape"
   ]
  },
  {
   "cell_type": "code",
   "execution_count": null,
   "metadata": {},
   "outputs": [],
   "source": []
  },
  {
   "cell_type": "code",
   "execution_count": 57,
   "metadata": {},
   "outputs": [],
   "source": [
    "#first we split our dataset into testing and training set:\n",
    "# this block is to split the dataset into training and testing set \n",
    "X = iron_man['cleaned']\n",
    "Y = iron_man['score']\n",
    "X_train, X_test, y_train, y_test = train_test_split(X, Y, test_size=0.25)"
   ]
  },
  {
   "cell_type": "code",
   "execution_count": 58,
   "metadata": {},
   "outputs": [
    {
     "data": {
      "text/plain": [
       "517106    iron man charact i never histori comic book fa...\n",
       "517711    just i need hero came one nice you better quit...\n",
       "517834    as kid i bought iron man comic dad would dismi...\n",
       "517865    blu ray plu one best super hero movi made make...\n",
       "517788    for rememb buy spiderman cent may made jump ce...\n",
       "Name: cleaned, dtype: object"
      ]
     },
     "execution_count": 58,
     "metadata": {},
     "output_type": "execute_result"
    }
   ],
   "source": [
    "X_train.head()"
   ]
  },
  {
   "cell_type": "code",
   "execution_count": 59,
   "metadata": {},
   "outputs": [
    {
     "data": {
      "text/plain": [
       "517716    jon favreau deliv awesom movi a good comic boo...\n",
       "517915    disc play ps i submit return amazon realli sim...\n",
       "517268    robert downey jr talent actor even though fun ...\n",
       "517418    a great movi beauti render blu ray the extra m...\n",
       "517806    i know i late get movi offer special deal thor...\n",
       "Name: cleaned, dtype: object"
      ]
     },
     "execution_count": 59,
     "metadata": {},
     "output_type": "execute_result"
    }
   ],
   "source": [
    "X_test.head()"
   ]
  },
  {
   "cell_type": "code",
   "execution_count": 60,
   "metadata": {},
   "outputs": [
    {
     "data": {
      "text/plain": [
       "517106    4.0\n",
       "517711    5.0\n",
       "517834    4.0\n",
       "517865    5.0\n",
       "517788    5.0\n",
       "Name: score, dtype: float64"
      ]
     },
     "execution_count": 60,
     "metadata": {},
     "output_type": "execute_result"
    }
   ],
   "source": [
    "y_train.head()"
   ]
  },
  {
   "cell_type": "code",
   "execution_count": 61,
   "metadata": {},
   "outputs": [
    {
     "data": {
      "text/plain": [
       "517716    5.0\n",
       "517915    1.0\n",
       "517268    5.0\n",
       "517418    5.0\n",
       "517806    5.0\n",
       "Name: score, dtype: float64"
      ]
     },
     "execution_count": 61,
     "metadata": {},
     "output_type": "execute_result"
    }
   ],
   "source": [
    "y_test.head()"
   ]
  },
  {
   "cell_type": "code",
   "execution_count": 62,
   "metadata": {},
   "outputs": [],
   "source": [
    "# instead of doing these steps one at a time, we can use a pipeline to complete them all at once\n",
    "pipeline = Pipeline([('vect', vectorizer),\n",
    "                     ('chi',  SelectKBest(chi2, k=1200)),\n",
    "                     ('clf', RandomForestClassifier())])"
   ]
  },
  {
   "cell_type": "code",
   "execution_count": 63,
   "metadata": {},
   "outputs": [
    {
     "name": "stderr",
     "output_type": "stream",
     "text": [
      "/anaconda3/lib/python3.7/site-packages/sklearn/ensemble/forest.py:246: FutureWarning: The default value of n_estimators will change from 10 in version 0.20 to 100 in 0.22.\n",
      "  \"10 in version 0.20 to 100 in 0.22.\", FutureWarning)\n"
     ]
    }
   ],
   "source": [
    "# fitting our model and save it in a pickle for later use\n",
    "model = pipeline.fit(X_train, y_train)\n",
    "with open('RandomForest.pickle', 'wb') as f:\n",
    "    pickle.dump(model, f)\n",
    "ytest = np.array(y_test)"
   ]
  },
  {
   "cell_type": "code",
   "execution_count": 64,
   "metadata": {},
   "outputs": [
    {
     "data": {
      "text/plain": [
       "array([5., 1., 5., 5., 5., 5., 5., 4., 4., 4., 4., 5., 5., 5., 5., 4., 5.,\n",
       "       5., 5., 5., 3., 3., 5., 4., 5., 4., 4., 1., 4., 4., 5., 3., 5., 5.,\n",
       "       3., 1., 4., 4., 5., 5., 3., 5., 4., 5., 5., 5., 4., 5., 4., 5.])"
      ]
     },
     "execution_count": 64,
     "metadata": {},
     "output_type": "execute_result"
    }
   ],
   "source": [
    "ytest[:50]"
   ]
  },
  {
   "cell_type": "code",
   "execution_count": 65,
   "metadata": {},
   "outputs": [
    {
     "name": "stdout",
     "output_type": "stream",
     "text": [
      "              precision    recall  f1-score   support\n",
      "\n",
      "         1.0       1.00      0.22      0.36         9\n",
      "         2.0       0.00      0.00      0.00         6\n",
      "         3.0       0.00      0.00      0.00        12\n",
      "         4.0       0.33      0.14      0.20        56\n",
      "         5.0       0.66      0.91      0.76       148\n",
      "\n",
      "   micro avg       0.63      0.63      0.63       231\n",
      "   macro avg       0.40      0.26      0.27       231\n",
      "weighted avg       0.54      0.63      0.55       231\n",
      "\n"
     ]
    },
    {
     "name": "stderr",
     "output_type": "stream",
     "text": [
      "/anaconda3/lib/python3.7/site-packages/sklearn/metrics/classification.py:1143: UndefinedMetricWarning: Precision and F-score are ill-defined and being set to 0.0 in labels with no predicted samples.\n",
      "  'precision', 'predicted', average, warn_for)\n"
     ]
    }
   ],
   "source": [
    "# confusion matrix and classification report(precision, recall, F1-score)\n",
    "print(classification_report(ytest, model.predict(X_test)))"
   ]
  },
  {
   "cell_type": "code",
   "execution_count": 66,
   "metadata": {},
   "outputs": [
    {
     "name": "stdout",
     "output_type": "stream",
     "text": [
      "[[  2   0   0   0   7]\n",
      " [  0   0   0   1   5]\n",
      " [  0   0   0   2  10]\n",
      " [  0   0   0   8  48]\n",
      " [  0   0   0  13 135]]\n"
     ]
    }
   ],
   "source": [
    "print(confusion_matrix(ytest, model.predict(X_test)))"
   ]
  },
  {
   "cell_type": "code",
   "execution_count": null,
   "metadata": {},
   "outputs": [],
   "source": []
  }
 ],
 "metadata": {
  "kernelspec": {
   "display_name": "Python 3",
   "language": "python",
   "name": "python3"
  },
  "language_info": {
   "codemirror_mode": {
    "name": "ipython",
    "version": 3
   },
   "file_extension": ".py",
   "mimetype": "text/x-python",
   "name": "python",
   "nbconvert_exporter": "python",
   "pygments_lexer": "ipython3",
   "version": "3.7.1"
  }
 },
 "nbformat": 4,
 "nbformat_minor": 2
}
