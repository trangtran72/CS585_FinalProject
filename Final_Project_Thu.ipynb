{
 "cells": [
  {
   "cell_type": "code",
   "execution_count": 2,
   "metadata": {},
   "outputs": [],
   "source": [
    "import pandas as pd\n",
    "import matplotlib.pyplot as plt\n",
    "import nltk as nltk"
   ]
  },
  {
   "cell_type": "code",
   "execution_count": 1,
   "metadata": {},
   "outputs": [
    {
     "name": "stdout",
     "output_type": "stream",
     "text": [
      "71205231\n"
     ]
    }
   ],
   "source": [
    "movie = open('movies.txt',encoding=\"utf8\", errors='ignore')\n",
    "context= movie.readlines()\n",
    "print(len(context))\n",
    "movie.close()"
   ]
  },
  {
   "cell_type": "code",
   "execution_count": 2,
   "metadata": {},
   "outputs": [
    {
     "name": "stdout",
     "output_type": "stream",
     "text": [
      "7911692.444444444\n"
     ]
    }
   ],
   "source": [
    "print(len(context)/9)s"
   ]
  },
  {
   "cell_type": "code",
   "execution_count": 2,
   "metadata": {},
   "outputs": [
    {
     "name": "stdout",
     "output_type": "stream",
     "text": [
      "7911692.333333333\n"
     ]
    }
   ],
   "source": [
    "print(len(context)/9)\n",
    "productId=[]\n",
    "userId=[]\n",
    "score =[]\n",
    "review=[]\n",
    "summary = []\n",
    "for i in range(len(context)):\n",
    "    if len(context) >1:\n",
    "        temp= context[i].split(':')[0]\n",
    "        if temp == \"product/productId\" :\n",
    "            productId.append(context[i].split(':')[1][1:len(context[i].split(':')[1])-1])\n",
    "        elif temp == \"review/userId\":\n",
    "            userId.append(context[i].split(':')[1][0:len(context[i].split(':')[1])-1])\n",
    "        elif temp == \"review/score\" :\n",
    "            score.append((context[i].split(':')[1][1:4]))\n",
    "        elif temp == \"review/text\":\n",
    "            review.append(context[i][13:len(context[i])-1])\n",
    "        elif temp == \"review/summary\":\n",
    "            summary.append(context[i].split(':')[1][0:len(context[i].split(':')[1])-1])\n",
    "            \n",
    "\n",
    "score = [float(i) for i in score] \n",
    "   # print(context[i])\n",
    "    #temp = context[i].split(':')\n",
    "    #data[context[i].split(':')[0]]= context[i].split(':')[1:]"
   ]
  },
  {
   "cell_type": "code",
   "execution_count": 3,
   "metadata": {},
   "outputs": [
    {
     "name": "stdout",
     "output_type": "stream",
     "text": [
      "7911684\n",
      "7911684\n",
      "7911684\n",
      "7911684\n",
      "7911684\n"
     ]
    }
   ],
   "source": [
    "print(len(review))\n",
    "print(len(productId))\n",
    "print(len(userId))\n",
    "print(len(score))\n",
    "print(len(summary))"
   ]
  },
  {
   "cell_type": "code",
   "execution_count": 4,
   "metadata": {},
   "outputs": [],
   "source": [
    "import pandas as pd\n",
    "d = {'productId': productId, 'userId': userId, 'score': score,'summary':summary , 'review':review}\n",
    "df = pd.DataFrame(data=d)\n",
    "#df.iloc[:,2]=int(df.iloc[:,2])"
   ]
  },
  {
   "cell_type": "code",
   "execution_count": 5,
   "metadata": {},
   "outputs": [],
   "source": [
    "#to_csv = df.to_csv ('dataframe.csv', index = None, header=True) #Don't forget to add '.csv' at the end of the path"
   ]
  },
  {
   "cell_type": "code",
   "execution_count": 235,
   "metadata": {},
   "outputs": [
    {
     "data": {
      "text/plain": [
       "<matplotlib.axes._subplots.AxesSubplot at 0x122a3c160>"
      ]
     },
     "execution_count": 235,
     "metadata": {},
     "output_type": "execute_result"
    },
    {
     "data": {
      "image/png": "[encoded data removed]",
      "text/plain": [
       "<Figure size 432x288 with 1 Axes>"
      ]
     },
     "metadata": {
      "needs_background": "light"
     },
     "output_type": "display_data"
    }
   ],
   "source": [
    "temp=df.groupby('userId')['score'].count()\n",
    "temp.plot.bar(x='userId',rot=0)"
   ]
  },
  {
   "cell_type": "code",
   "execution_count": 240,
   "metadata": {},
   "outputs": [
    {
     "name": "stdout",
     "output_type": "stream",
     "text": [
      "productId\n",
      "0001I55P6    4.650000\n",
      "0009S4IO2    4.692308\n",
      "000GRUN4A    2.600000\n",
      "000W95OY6    2.746269\n",
      "002KYIAL0    3.827586\n",
      "003A3PGF8    4.500000\n",
      "003E74KRK    5.000000\n",
      "003F32YGC    4.857143\n",
      "003FZW7VC    5.000000\n",
      "003S1UNZA    3.634146\n",
      "003S1UNZU    4.557895\n",
      "004CZOZGY    5.000000\n",
      "004IN21VQ    4.250000\n",
      "304026668    3.000000\n",
      "304952198    3.666667\n",
      "305839670    4.500000\n",
      "59668464X    5.000000\n",
      "Name: score, dtype: float64\n"
     ]
    },
    {
     "data": {
      "text/plain": [
       "<matplotlib.axes._subplots.AxesSubplot at 0x123b80278>"
      ]
     },
     "execution_count": 240,
     "metadata": {},
     "output_type": "execute_result"
    },
    {
     "data": {
      "image/png": "[encoded data removed]",
      "text/plain": [
       "<Figure size 432x288 with 1 Axes>"
      ]
     },
     "metadata": {
      "needs_background": "light"
     },
     "output_type": "display_data"
    }
   ],
   "source": [
    "temp=df.groupby('productId')['score'].mean()\n",
    "print(temp)\n",
    "temp.plot.bar(x='productId',rot=0)"
   ]
  },
  {
   "cell_type": "code",
   "execution_count": 237,
   "metadata": {},
   "outputs": [
    {
     "data": {
      "text/plain": [
       "<matplotlib.axes._subplots.AxesSubplot at 0x123af3a58>"
      ]
     },
     "execution_count": 237,
     "metadata": {},
     "output_type": "execute_result"
    },
    {
     "data": {
      "image/png": "[encoded data removed]",
      "text/plain": [
       "<Figure size 432x288 with 1 Axes>"
      ]
     },
     "metadata": {
      "needs_background": "light"
     },
     "output_type": "display_data"
    }
   ],
   "source": [
    "temp=df.groupby('productId')['score'].count()\n",
    "temp.plot.bar(x='productId',rot=0)"
   ]
  },
  {
   "cell_type": "code",
   "execution_count": 67,
   "metadata": {},
   "outputs": [
    {
     "name": "stdout",
     "output_type": "stream",
     "text": [
      "Line 1: product/productId: B003AI2VGA\n",
      "Line 2: review/userId: A141HP4LYPWMSR\n",
      "Line 3: review/profileName: Brian E. Erland \"Rainbow Sphinx\"\n",
      "Line 4: review/helpfulness: 7/7\n",
      "Line 5: review/score: 3.0\n",
      "Line 6: review/time: 1182729600\n",
      "Line 7: review/summary: \"There Is So Much Darkness Now ~ Come For The Miracle\"\n",
      "Line 8: review/text: Synopsis: On the daily trek from Juarez, Mexico to El Paso, Texas an ever increasing number of female workers are found raped and murdered in the surrounding desert. Investigative reporter Karina Danes (Minnie Driver) arrives from Los Angeles to pursue the story and angers both the local police and the factory owners who employee the undocumented aliens with her pointed questions and relentless quest for the truth.<br /><br />Her story goes nationwide when a young girl named Mariela (Ana Claudia Talancon) survives a vicious attack and walks out of the desert crediting the Blessed Virgin for her rescue. Her story is further enhanced when the \"Wounds of Christ\" (stigmata) appear in her palms. She also claims to have received a message of hope for the Virgin Mary and soon a fanatical movement forms around her to fight against the evil that holds such a stranglehold on the area.<br /><br />Critique: Possessing a lifelong fascination with such esoteric matters as Catholic mysticism, miracles and the mysterious appearance of the stigmata, I was immediately attracted to the '05 DVD release `Virgin of Juarez'. The film offers a rather unique storyline blending current socio-political concerns, the constant flow of Mexican migrant workers back and forth across the U.S./Mexican border and the traditional Catholic beliefs of the Hispanic population. I must say I was quite surprised by the unexpected route taken by the plot and the means and methods by which the heavenly message unfolds.<br /><br />`Virgin of Juarez' is not a film that you would care to watch over and over again, but it was interesting enough to merit at least one viewing. Minnie Driver delivers a solid performance and Ana Claudia Talancon is perfect as the fragile and innocent visionary Mariela. Also starring Esai Morales and Angus Macfadyen (Braveheart).\n"
     ]
    }
   ],
   "source": [
    "filepath = \"temp.txt\"\n",
    "with open(filepath) as fp:\n",
    "   line = fp.readline()\n",
    "   cnt = 1\n",
    "   while line:\n",
    "       print(\"Line {}: {}\".format(cnt, line.strip()))\n",
    "       line = fp.readline()\n",
    "       cnt += 1"
   ]
  },
  {
   "cell_type": "code",
   "execution_count": 3,
   "metadata": {},
   "outputs": [],
   "source": [
    "ironman = pd.read_csv('iron_man.csv')"
   ]
  },
  {
   "cell_type": "code",
   "execution_count": 5,
   "metadata": {},
   "outputs": [],
   "source": [
    "ironman = pd.DataFrame(data=ironman)"
   ]
  },
  {
   "cell_type": "code",
   "execution_count": 19,
   "metadata": {},
   "outputs": [
    {
     "data": {
      "text/plain": [
       "(8322, 6)"
      ]
     },
     "execution_count": 19,
     "metadata": {},
     "output_type": "execute_result"
    }
   ],
   "source": [
    "ironman.shape"
   ]
  },
  {
   "cell_type": "code",
   "execution_count": 12,
   "metadata": {},
   "outputs": [
    {
     "data": {
      "image/png": "[encoded data removed]",
      "text/plain": [
       "<Figure size 432x288 with 1 Axes>"
      ]
     },
     "metadata": {
      "needs_background": "light"
     },
     "output_type": "display_data"
    }
   ],
   "source": [
    "score=ironman.groupby('score')['userId'].count()\n",
    "score.plot.bar(x='userId',rot=0)\n",
    "plt.show()"
   ]
  },
  {
   "cell_type": "code",
   "execution_count": 13,
   "metadata": {},
   "outputs": [],
   "source": [
    "ironman_dedup = ironman.duplicated(subset=None, keep='first')"
   ]
  },
  {
   "cell_type": "code",
   "execution_count": 18,
   "metadata": {},
   "outputs": [
    {
     "data": {
      "text/plain": [
       "7398"
      ]
     },
     "execution_count": 18,
     "metadata": {},
     "output_type": "execute_result"
    }
   ],
   "source": [
    "duplicates = ironman[ironman.duplicated(['review'])]\n",
    " \n",
    "len(duplicates)"
   ]
  },
  {
   "cell_type": "code",
   "execution_count": null,
   "metadata": {},
   "outputs": [],
   "source": []
  }
 ],
 "metadata": {
  "kernelspec": {
   "display_name": "Python 3",
   "language": "python",
   "name": "python3"
  },
  "language_info": {
   "codemirror_mode": {
    "name": "ipython",
    "version": 3
   },
   "file_extension": ".py",
   "mimetype": "text/x-python",
   "name": "python",
   "nbconvert_exporter": "python",
   "pygments_lexer": "ipython3",
   "version": "3.7.4"
  }
 },
 "nbformat": 4,
 "nbformat_minor": 2
}
