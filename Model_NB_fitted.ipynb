{
 "cells": [
  {
   "cell_type": "code",
   "execution_count": 191,
   "metadata": {},
   "outputs": [
    {
     "name": "stderr",
     "output_type": "stream",
     "text": [
      "[nltk_data] Error loading stopwords: HTTP Error 401: Unauthorized\n",
      "[nltk_data] Error loading punkt: HTTP Error 401: Unauthorized\n"
     ]
    }
   ],
   "source": [
    "import pandas as pd\n",
    "import re\n",
    "import numpy as np\n",
    "import matplotlib.pyplot as plt\n",
    "import nltk\n",
    "from nltk.corpus import stopwords\n",
    "from nltk.stem import PorterStemmer, WordNetLemmatizer\n",
    "nltk.download('stopwords')\n",
    "nltk.download('punkt')\n",
    "from nltk.tokenize import RegexpTokenizer\n",
    "from nltk.corpus import stopwords\n",
    "from nltk import word_tokenize\n",
    "import string\n",
    "from sklearn.feature_extraction.text import TfidfVectorizer\n",
    "from sklearn.pipeline import Pipeline\n",
    "from sklearn.metrics import classification_report, confusion_matrix\n",
    "from sklearn.model_selection import train_test_split\n",
    "from sklearn.feature_selection import SelectKBest, chi2\n",
    "from sklearn.ensemble import RandomForestClassifier\n",
    "from sklearn.naive_bayes import MultinomialNB\n",
    "from sklearn import *\n",
    "from sklearn.feature_extraction.text import CountVectorizer \n",
    "from sklearn.neural_network import MLPClassifier\n",
    "import pickle\n",
    "%matplotlib inline"
   ]
  },
  {
   "cell_type": "code",
   "execution_count": 2,
   "metadata": {},
   "outputs": [],
   "source": [
    "df = pd.read_csv('five_movies.csv',index_col=0)"
   ]
  },
  {
   "cell_type": "code",
   "execution_count": 3,
   "metadata": {},
   "outputs": [
    {
     "data": {
      "text/html": [
       "<div>\n",
       "<style scoped>\n",
       "    .dataframe tbody tr th:only-of-type {\n",
       "        vertical-align: middle;\n",
       "    }\n",
       "\n",
       "    .dataframe tbody tr th {\n",
       "        vertical-align: top;\n",
       "    }\n",
       "\n",
       "    .dataframe thead th {\n",
       "        text-align: right;\n",
       "    }\n",
       "</style>\n",
       "<table border=\"1\" class=\"dataframe\">\n",
       "  <thead>\n",
       "    <tr style=\"text-align: right;\">\n",
       "      <th></th>\n",
       "      <th>productId</th>\n",
       "      <th>userId</th>\n",
       "      <th>score</th>\n",
       "      <th>summary</th>\n",
       "      <th>review</th>\n",
       "      <th>movie_title</th>\n",
       "    </tr>\n",
       "  </thead>\n",
       "  <tbody>\n",
       "    <tr>\n",
       "      <th>111469</th>\n",
       "      <td>B002LBKDYE</td>\n",
       "      <td>A1D3RZRRITKB75</td>\n",
       "      <td>5.0</td>\n",
       "      <td>If you eat you need to watch it.</td>\n",
       "      <td>Seriously ----watch this before you take that ...</td>\n",
       "      <td>Food, Inc</td>\n",
       "    </tr>\n",
       "    <tr>\n",
       "      <th>111470</th>\n",
       "      <td>B002LBKDYE</td>\n",
       "      <td>A24Y3JBTJD5R1K</td>\n",
       "      <td>5.0</td>\n",
       "      <td>For those who eat food!</td>\n",
       "      <td>I don't know that my eating habits changed, bu...</td>\n",
       "      <td>Food, Inc</td>\n",
       "    </tr>\n",
       "    <tr>\n",
       "      <th>111471</th>\n",
       "      <td>B002LBKDYE</td>\n",
       "      <td>ABND7UR0H37JW</td>\n",
       "      <td>5.0</td>\n",
       "      <td>if you're a parent, don't miss this</td>\n",
       "      <td>Well worth the time, this engrossing and enlig...</td>\n",
       "      <td>Food, Inc</td>\n",
       "    </tr>\n",
       "    <tr>\n",
       "      <th>111472</th>\n",
       "      <td>B002LBKDYE</td>\n",
       "      <td>A3EK4NS9CMXC7W</td>\n",
       "      <td>5.0</td>\n",
       "      <td>I'm not an activist, but I do want to live a ...</td>\n",
       "      <td>When movies like this come out I am often hesi...</td>\n",
       "      <td>Food, Inc</td>\n",
       "    </tr>\n",
       "    <tr>\n",
       "      <th>111473</th>\n",
       "      <td>B002LBKDYE</td>\n",
       "      <td>A1LIDERT7U0NN8</td>\n",
       "      <td>5.0</td>\n",
       "      <td>Well Worth Your Time</td>\n",
       "      <td>I am always hesitant to watch certain document...</td>\n",
       "      <td>Food, Inc</td>\n",
       "    </tr>\n",
       "  </tbody>\n",
       "</table>\n",
       "</div>"
      ],
      "text/plain": [
       "         productId           userId  score  \\\n",
       "111469  B002LBKDYE   A1D3RZRRITKB75    5.0   \n",
       "111470  B002LBKDYE   A24Y3JBTJD5R1K    5.0   \n",
       "111471  B002LBKDYE    ABND7UR0H37JW    5.0   \n",
       "111472  B002LBKDYE   A3EK4NS9CMXC7W    5.0   \n",
       "111473  B002LBKDYE   A1LIDERT7U0NN8    5.0   \n",
       "\n",
       "                                                  summary  \\\n",
       "111469                   If you eat you need to watch it.   \n",
       "111470                            For those who eat food!   \n",
       "111471                if you're a parent, don't miss this   \n",
       "111472   I'm not an activist, but I do want to live a ...   \n",
       "111473                               Well Worth Your Time   \n",
       "\n",
       "                                                   review movie_title  \n",
       "111469  Seriously ----watch this before you take that ...   Food, Inc  \n",
       "111470  I don't know that my eating habits changed, bu...   Food, Inc  \n",
       "111471  Well worth the time, this engrossing and enlig...   Food, Inc  \n",
       "111472  When movies like this come out I am often hesi...   Food, Inc  \n",
       "111473  I am always hesitant to watch certain document...   Food, Inc  "
      ]
     },
     "execution_count": 3,
     "metadata": {},
     "output_type": "execute_result"
    }
   ],
   "source": [
    "df.head()"
   ]
  },
  {
   "cell_type": "code",
   "execution_count": 4,
   "metadata": {},
   "outputs": [
    {
     "data": {
      "text/plain": [
       "(4366, 6)"
      ]
     },
     "execution_count": 4,
     "metadata": {},
     "output_type": "execute_result"
    }
   ],
   "source": [
    "df.shape"
   ]
  },
  {
   "cell_type": "code",
   "execution_count": 5,
   "metadata": {},
   "outputs": [
    {
     "ename": "NameError",
     "evalue": "name 'iron_man' is not defined",
     "output_type": "error",
     "traceback": [
      "\u001b[0;31m---------------------------------------------------------------------------\u001b[0m",
      "\u001b[0;31mNameError\u001b[0m                                 Traceback (most recent call last)",
      "\u001b[0;32m<ipython-input-5-88c7d3ca3d67>\u001b[0m in \u001b[0;36m<module>\u001b[0;34m\u001b[0m\n\u001b[0;32m----> 1\u001b[0;31m \u001b[0miron_man\u001b[0m\u001b[0;34m[\u001b[0m\u001b[0;34m'is_duplicate'\u001b[0m\u001b[0;34m]\u001b[0m \u001b[0;34m=\u001b[0m \u001b[0miron_man\u001b[0m\u001b[0;34m.\u001b[0m\u001b[0mreview\u001b[0m\u001b[0;34m.\u001b[0m\u001b[0mduplicated\u001b[0m\u001b[0;34m(\u001b[0m\u001b[0mkeep\u001b[0m\u001b[0;34m=\u001b[0m\u001b[0;34m'first'\u001b[0m\u001b[0;34m)\u001b[0m\u001b[0;34m\u001b[0m\u001b[0;34m\u001b[0m\u001b[0m\n\u001b[0m",
      "\u001b[0;31mNameError\u001b[0m: name 'iron_man' is not defined"
     ]
    }
   ],
   "source": [
    "iron_man['is_duplicate'] = iron_man.review.duplicated(keep='first')"
   ]
  },
  {
   "cell_type": "code",
   "execution_count": 25,
   "metadata": {},
   "outputs": [
    {
     "data": {
      "text/html": [
       "<div>\n",
       "<style scoped>\n",
       "    .dataframe tbody tr th:only-of-type {\n",
       "        vertical-align: middle;\n",
       "    }\n",
       "\n",
       "    .dataframe tbody tr th {\n",
       "        vertical-align: top;\n",
       "    }\n",
       "\n",
       "    .dataframe thead th {\n",
       "        text-align: right;\n",
       "    }\n",
       "</style>\n",
       "<table border=\"1\" class=\"dataframe\">\n",
       "  <thead>\n",
       "    <tr style=\"text-align: right;\">\n",
       "      <th></th>\n",
       "      <th>productId</th>\n",
       "      <th>userId</th>\n",
       "      <th>score</th>\n",
       "      <th>summary</th>\n",
       "      <th>review</th>\n",
       "      <th>is_duplicate</th>\n",
       "    </tr>\n",
       "  </thead>\n",
       "  <tbody>\n",
       "    <tr>\n",
       "      <th>517024</th>\n",
       "      <td>B001FZ9AAU</td>\n",
       "      <td>A10RMS4T6P76M4</td>\n",
       "      <td>5.0</td>\n",
       "      <td>Excellent, action packed, and fun!</td>\n",
       "      <td>I really enjoyed this movie.  Robert Downey Jr...</td>\n",
       "      <td>False</td>\n",
       "    </tr>\n",
       "    <tr>\n",
       "      <th>517025</th>\n",
       "      <td>B001FZ9AAU</td>\n",
       "      <td>A2JEONEOLE4FD2</td>\n",
       "      <td>5.0</td>\n",
       "      <td>Ironman proves there are heroes beyond Spidey...</td>\n",
       "      <td>This is a great entertainer done very well. Bu...</td>\n",
       "      <td>False</td>\n",
       "    </tr>\n",
       "    <tr>\n",
       "      <th>517026</th>\n",
       "      <td>B001FZ9AAU</td>\n",
       "      <td>A3LH77PBDFEO3F</td>\n",
       "      <td>5.0</td>\n",
       "      <td>Guilty Pleasue of a movie!</td>\n",
       "      <td>I have never been a comic book guy, and super ...</td>\n",
       "      <td>False</td>\n",
       "    </tr>\n",
       "    <tr>\n",
       "      <th>517027</th>\n",
       "      <td>B001FZ9AAU</td>\n",
       "      <td>A6BRC4D9NZJFK</td>\n",
       "      <td>5.0</td>\n",
       "      <td>highly recommended</td>\n",
       "      <td>how can you not love this movie&lt;br /&gt;excellent...</td>\n",
       "      <td>False</td>\n",
       "    </tr>\n",
       "    <tr>\n",
       "      <th>517028</th>\n",
       "      <td>B001FZ9AAU</td>\n",
       "      <td>A2C62X7R904NKM</td>\n",
       "      <td>4.0</td>\n",
       "      <td>Robert Downey Jr. actually does it as a super...</td>\n",
       "      <td>I think that movie makers have to wait till th...</td>\n",
       "      <td>False</td>\n",
       "    </tr>\n",
       "  </tbody>\n",
       "</table>\n",
       "</div>"
      ],
      "text/plain": [
       "         productId           userId  score  \\\n",
       "517024  B001FZ9AAU   A10RMS4T6P76M4    5.0   \n",
       "517025  B001FZ9AAU   A2JEONEOLE4FD2    5.0   \n",
       "517026  B001FZ9AAU   A3LH77PBDFEO3F    5.0   \n",
       "517027  B001FZ9AAU    A6BRC4D9NZJFK    5.0   \n",
       "517028  B001FZ9AAU   A2C62X7R904NKM    4.0   \n",
       "\n",
       "                                                  summary  \\\n",
       "517024                 Excellent, action packed, and fun!   \n",
       "517025   Ironman proves there are heroes beyond Spidey...   \n",
       "517026                         Guilty Pleasue of a movie!   \n",
       "517027                                 highly recommended   \n",
       "517028   Robert Downey Jr. actually does it as a super...   \n",
       "\n",
       "                                                   review  is_duplicate  \n",
       "517024  I really enjoyed this movie.  Robert Downey Jr...         False  \n",
       "517025  This is a great entertainer done very well. Bu...         False  \n",
       "517026  I have never been a comic book guy, and super ...         False  \n",
       "517027  how can you not love this movie<br />excellent...         False  \n",
       "517028  I think that movie makers have to wait till th...         False  "
      ]
     },
     "execution_count": 25,
     "metadata": {},
     "output_type": "execute_result"
    }
   ],
   "source": [
    "iron_man.head()"
   ]
  },
  {
   "cell_type": "code",
   "execution_count": 26,
   "metadata": {},
   "outputs": [
    {
     "data": {
      "text/plain": [
       "True     7398\n",
       "False     924\n",
       "Name: is_duplicate, dtype: int64"
      ]
     },
     "execution_count": 26,
     "metadata": {},
     "output_type": "execute_result"
    }
   ],
   "source": [
    "iron_man.is_duplicate.value_counts()"
   ]
  },
  {
   "cell_type": "code",
   "execution_count": 27,
   "metadata": {},
   "outputs": [],
   "source": [
    "iron_man = iron_man[iron_man.is_duplicate == False]"
   ]
  },
  {
   "cell_type": "code",
   "execution_count": 28,
   "metadata": {},
   "outputs": [
    {
     "data": {
      "text/plain": [
       "(924, 6)"
      ]
     },
     "execution_count": 28,
     "metadata": {},
     "output_type": "execute_result"
    }
   ],
   "source": [
    "iron_man.shape"
   ]
  },
  {
   "cell_type": "code",
   "execution_count": 6,
   "metadata": {},
   "outputs": [
    {
     "data": {
      "image/png": "[encoded data removed]",
      "text/plain": [
       "<Figure size 432x288 with 1 Axes>"
      ]
     },
     "metadata": {
      "needs_background": "light"
     },
     "output_type": "display_data"
    }
   ],
   "source": [
    "df.groupby('score').review.count().plot.bar(ylim=0)\n",
    "plt.show()\n"
   ]
  },
  {
   "cell_type": "code",
   "execution_count": 164,
   "metadata": {},
   "outputs": [
    {
     "data": {
      "text/plain": [
       "score\n",
       "1.0    0.062300\n",
       "2.0    0.041228\n",
       "3.0    0.057719\n",
       "4.0    0.171553\n",
       "5.0    0.667201\n",
       "Name: review, dtype: float64"
      ]
     },
     "execution_count": 164,
     "metadata": {},
     "output_type": "execute_result"
    }
   ],
   "source": [
    "df.groupby('score').review.count()/sum(df.groupby('score').review.count())"
   ]
  },
  {
   "cell_type": "code",
   "execution_count": 89,
   "metadata": {},
   "outputs": [],
   "source": [
    "df['review']=df['review'].str.lower()"
   ]
  },
  {
   "cell_type": "code",
   "execution_count": 90,
   "metadata": {},
   "outputs": [],
   "source": [
    "stop_words = stopwords.words('english') + list(string.punctuation) + list('br')\n",
    "wnl = WordNetLemmatizer()\n",
    "df['cleaned'] = df['review'].apply(lambda x: \" \".join([wnl.lemmatize(i) for i in re.sub(\"[^a-zA-Z]\", \" \", x).split() if i not in stop_words]).lower())"
   ]
  },
  {
   "cell_type": "code",
   "execution_count": 91,
   "metadata": {},
   "outputs": [
    {
     "data": {
      "text/plain": [
       "111469     seriously watch take next bite br really want ...\n",
       "111470     know eating habit changed defiantly became inf...\n",
       "111471     well worth time engrossing enlightening film o...\n",
       "111472     movie like come often hesitant watch activist ...\n",
       "111473     always hesitant watch certain documentary many...\n",
       "111474     important work really opened eye business food...\n",
       "111475     good cry watching film make wonder hell went w...\n",
       "111476     watched movie expecting another peta style fil...\n",
       "111477     movie certainly one best documentary seen year...\n",
       "111478     moved uk u recently get cheap fast food watch ...\n",
       "111479     eat movie liberal hysteric usually cynical opi...\n",
       "111480     food inc gospel fact show whole picture going ...\n",
       "111481     documentary well done extremely informative tr...\n",
       "111482     great movie allows see food come process make ...\n",
       "111483     put together let know happening food never abl...\n",
       "111484     going give youself heart attack think eat jare...\n",
       "111485     make wonder food done body could link overwhel...\n",
       "111486     dvd insightful informative understand exactly ...\n",
       "111487     educational well put together documentary real...\n",
       "111488     saw pb also promoted oprah show extremely well...\n",
       "111489     movie everyone see believe people right make i...\n",
       "111490     processed food convert thanks amazing document...\n",
       "111491     seeing movie decided vegan never would dreamed...\n",
       "111492     watched film one evening almost year ago eaten...\n",
       "111493     great movie real eye opener make want vegan su...\n",
       "111494     agribusiness popular word may heard food inc i...\n",
       "111495     informative documentary help immensely decisio...\n",
       "111496     amazing documentary instantly made rethink ide...\n",
       "111497     watched month ago way life changed completely ...\n",
       "111498     food inc really opened eye horrible thing knew...\n",
       "                                 ...                        \n",
       "5302252    started watch movie great expectation dear wif...\n",
       "5302253    anybody take star filled line produce clunker ...\n",
       "5302254    copiously awful movie one worst ever seen high...\n",
       "5302255    first time life walked movie boring dull unint...\n",
       "5302256    movie certainly allstar cast think movie compl...\n",
       "5302257    first movie ever walked fooled thinking great ...\n",
       "5302258    star far much pathetic movie br br wanted leav...\n",
       "5302259    well sitting theater waiting start thinking gr...\n",
       "5302260    reason gave star visual vibrance color movie c...\n",
       "5302261    movie exhibited interesting cinematic creativi...\n",
       "5302262    fantastic movie get even better disc special e...\n",
       "5302263    amazing movie renewed blu ray extra feature ad...\n",
       "5302264    visually audacious movie unpredictably wild ri...\n",
       "5302265    first huge frank miller fan read sin city comi...\n",
       "5302266    title review excerpt john hartigan story embod...\n",
       "5302267    writing review sin city amazon com frankly fin...\n",
       "5302268    enjoyed sin city movie theater excellent perfo...\n",
       "5302269    first saw sin city astonished amazing movie ba...\n",
       "5302270    first say front sin city kind movie would gene...\n",
       "5302271    first loved movie great story great action awe...\n",
       "5302272    header product listed dvd reason despite revie...\n",
       "5302273    movie one best movie time action oriented dark...\n",
       "5302274    according american monomyth jewett lawrence am...\n",
       "5302275    amazing two disc release director robert rodri...\n",
       "5302276    give movie five star mezmerizing used read lot...\n",
       "5302277    dvd set rule extra awesome come original frank...\n",
       "5302278    great movie read graphic novel frank miller ho...\n",
       "5302279    first start responding review referring film d...\n",
       "5302280    sin city robert rodriguez translation frank mi...\n",
       "5302281    really thank friend mine getting sin city scen...\n",
       "Name: cleaned, Length: 4366, dtype: object"
      ]
     },
     "execution_count": 91,
     "metadata": {},
     "output_type": "execute_result"
    }
   ],
   "source": [
    "df['cleaned']"
   ]
  },
  {
   "cell_type": "code",
   "execution_count": 92,
   "metadata": {},
   "outputs": [
    {
     "data": {
      "text/html": [
       "<div>\n",
       "<style scoped>\n",
       "    .dataframe tbody tr th:only-of-type {\n",
       "        vertical-align: middle;\n",
       "    }\n",
       "\n",
       "    .dataframe tbody tr th {\n",
       "        vertical-align: top;\n",
       "    }\n",
       "\n",
       "    .dataframe thead th {\n",
       "        text-align: right;\n",
       "    }\n",
       "</style>\n",
       "<table border=\"1\" class=\"dataframe\">\n",
       "  <thead>\n",
       "    <tr style=\"text-align: right;\">\n",
       "      <th></th>\n",
       "      <th>productId</th>\n",
       "      <th>userId</th>\n",
       "      <th>score</th>\n",
       "      <th>summary</th>\n",
       "      <th>review</th>\n",
       "      <th>movie_title</th>\n",
       "      <th>cleaned</th>\n",
       "    </tr>\n",
       "  </thead>\n",
       "  <tbody>\n",
       "    <tr>\n",
       "      <th>111469</th>\n",
       "      <td>B002LBKDYE</td>\n",
       "      <td>A1D3RZRRITKB75</td>\n",
       "      <td>5.0</td>\n",
       "      <td>If you eat you need to watch it.</td>\n",
       "      <td>seriously ----watch this before you take that ...</td>\n",
       "      <td>Food, Inc</td>\n",
       "      <td>seriously watch take next bite br really want ...</td>\n",
       "    </tr>\n",
       "    <tr>\n",
       "      <th>111470</th>\n",
       "      <td>B002LBKDYE</td>\n",
       "      <td>A24Y3JBTJD5R1K</td>\n",
       "      <td>5.0</td>\n",
       "      <td>For those who eat food!</td>\n",
       "      <td>i don't know that my eating habits changed, bu...</td>\n",
       "      <td>Food, Inc</td>\n",
       "      <td>know eating habit changed defiantly became inf...</td>\n",
       "    </tr>\n",
       "    <tr>\n",
       "      <th>111471</th>\n",
       "      <td>B002LBKDYE</td>\n",
       "      <td>ABND7UR0H37JW</td>\n",
       "      <td>5.0</td>\n",
       "      <td>if you're a parent, don't miss this</td>\n",
       "      <td>well worth the time, this engrossing and enlig...</td>\n",
       "      <td>Food, Inc</td>\n",
       "      <td>well worth time engrossing enlightening film o...</td>\n",
       "    </tr>\n",
       "    <tr>\n",
       "      <th>111472</th>\n",
       "      <td>B002LBKDYE</td>\n",
       "      <td>A3EK4NS9CMXC7W</td>\n",
       "      <td>5.0</td>\n",
       "      <td>I'm not an activist, but I do want to live a ...</td>\n",
       "      <td>when movies like this come out i am often hesi...</td>\n",
       "      <td>Food, Inc</td>\n",
       "      <td>movie like come often hesitant watch activist ...</td>\n",
       "    </tr>\n",
       "    <tr>\n",
       "      <th>111473</th>\n",
       "      <td>B002LBKDYE</td>\n",
       "      <td>A1LIDERT7U0NN8</td>\n",
       "      <td>5.0</td>\n",
       "      <td>Well Worth Your Time</td>\n",
       "      <td>i am always hesitant to watch certain document...</td>\n",
       "      <td>Food, Inc</td>\n",
       "      <td>always hesitant watch certain documentary many...</td>\n",
       "    </tr>\n",
       "  </tbody>\n",
       "</table>\n",
       "</div>"
      ],
      "text/plain": [
       "         productId           userId  score  \\\n",
       "111469  B002LBKDYE   A1D3RZRRITKB75    5.0   \n",
       "111470  B002LBKDYE   A24Y3JBTJD5R1K    5.0   \n",
       "111471  B002LBKDYE    ABND7UR0H37JW    5.0   \n",
       "111472  B002LBKDYE   A3EK4NS9CMXC7W    5.0   \n",
       "111473  B002LBKDYE   A1LIDERT7U0NN8    5.0   \n",
       "\n",
       "                                                  summary  \\\n",
       "111469                   If you eat you need to watch it.   \n",
       "111470                            For those who eat food!   \n",
       "111471                if you're a parent, don't miss this   \n",
       "111472   I'm not an activist, but I do want to live a ...   \n",
       "111473                               Well Worth Your Time   \n",
       "\n",
       "                                                   review movie_title  \\\n",
       "111469  seriously ----watch this before you take that ...   Food, Inc   \n",
       "111470  i don't know that my eating habits changed, bu...   Food, Inc   \n",
       "111471  well worth the time, this engrossing and enlig...   Food, Inc   \n",
       "111472  when movies like this come out i am often hesi...   Food, Inc   \n",
       "111473  i am always hesitant to watch certain document...   Food, Inc   \n",
       "\n",
       "                                                  cleaned  \n",
       "111469  seriously watch take next bite br really want ...  \n",
       "111470  know eating habit changed defiantly became inf...  \n",
       "111471  well worth time engrossing enlightening film o...  \n",
       "111472  movie like come often hesitant watch activist ...  \n",
       "111473  always hesitant watch certain documentary many...  "
      ]
     },
     "execution_count": 92,
     "metadata": {},
     "output_type": "execute_result"
    }
   ],
   "source": [
    "df.head()"
   ]
  },
  {
   "cell_type": "code",
   "execution_count": 93,
   "metadata": {},
   "outputs": [
    {
     "data": {
      "text/plain": [
       "111469    seriously watch take next bite br really want ...\n",
       "111470    know eating habit changed defiantly became inf...\n",
       "111471    well worth time engrossing enlightening film o...\n",
       "111472    movie like come often hesitant watch activist ...\n",
       "111473    always hesitant watch certain documentary many...\n",
       "Name: cleaned, dtype: object"
      ]
     },
     "execution_count": 93,
     "metadata": {},
     "output_type": "execute_result"
    }
   ],
   "source": [
    "df['cleaned'].head()"
   ]
  },
  {
   "cell_type": "code",
   "execution_count": 94,
   "metadata": {},
   "outputs": [
    {
     "data": {
      "text/plain": [
       "(4366, 19941)"
      ]
     },
     "execution_count": 94,
     "metadata": {},
     "output_type": "execute_result"
    }
   ],
   "source": [
    "vectorizer = TfidfVectorizer(min_df= 3, stop_words=\"english\", sublinear_tf=True, norm='l2', ngram_range=(1, 2))\n",
    "final_features = vectorizer.fit_transform(df['cleaned']).toarray()\n",
    "final_features.shape"
   ]
  },
  {
   "cell_type": "code",
   "execution_count": 95,
   "metadata": {},
   "outputs": [],
   "source": [
    "#first we split our dataset into testing and training set:\n",
    "# this block is to split the dataset into training and testing set \n",
    "X = df['cleaned']\n",
    "Y = df['score']\n",
    "X_train, X_test, y_train, y_test = train_test_split(X, Y, test_size=0.25)"
   ]
  },
  {
   "cell_type": "code",
   "execution_count": 96,
   "metadata": {},
   "outputs": [
    {
     "data": {
      "text/plain": [
       "111968     must see documentary dire state food supply pa...\n",
       "4943140    post production converted br br rating based m...\n",
       "4028284    one best movie showcase hd capability popped p...\n",
       "809464     accidentally ordered wrong item begin able can...\n",
       "4027706    anchored top rate performance robert downey jr...\n",
       "Name: cleaned, dtype: object"
      ]
     },
     "execution_count": 96,
     "metadata": {},
     "output_type": "execute_result"
    }
   ],
   "source": [
    "X_train.head()"
   ]
  },
  {
   "cell_type": "code",
   "execution_count": 97,
   "metadata": {},
   "outputs": [
    {
     "data": {
      "text/plain": [
       "4027987    good movie got fast advertised checking movie ...\n",
       "111711     amazing type movie documentary investigative f...\n",
       "4028185    movie like iron man restore even bitter critic...\n",
       "4028391    given praise excitement surrounding dark knigh...\n",
       "4028260    best action movie ever robert downey jr perfec...\n",
       "Name: cleaned, dtype: object"
      ]
     },
     "execution_count": 97,
     "metadata": {},
     "output_type": "execute_result"
    }
   ],
   "source": [
    "X_test.head()"
   ]
  },
  {
   "cell_type": "code",
   "execution_count": 98,
   "metadata": {},
   "outputs": [
    {
     "data": {
      "text/plain": [
       "111968     5.0\n",
       "4943140    2.0\n",
       "4028284    5.0\n",
       "809464     5.0\n",
       "4027706    5.0\n",
       "Name: score, dtype: float64"
      ]
     },
     "execution_count": 98,
     "metadata": {},
     "output_type": "execute_result"
    }
   ],
   "source": [
    "y_train.head()"
   ]
  },
  {
   "cell_type": "code",
   "execution_count": 99,
   "metadata": {},
   "outputs": [
    {
     "data": {
      "text/plain": [
       "4027987    5.0\n",
       "111711     5.0\n",
       "4028185    5.0\n",
       "4028391    3.0\n",
       "4028260    5.0\n",
       "Name: score, dtype: float64"
      ]
     },
     "execution_count": 99,
     "metadata": {},
     "output_type": "execute_result"
    }
   ],
   "source": [
    "y_test.head()"
   ]
  },
  {
   "cell_type": "code",
   "execution_count": 100,
   "metadata": {},
   "outputs": [
    {
     "name": "stdout",
     "output_type": "stream",
     "text": [
      "know eating habit changed defiantly became informed food industry br br must see video generation\n"
     ]
    }
   ],
   "source": [
    "print(df['cleaned'].iloc[1])"
   ]
  },
  {
   "cell_type": "code",
   "execution_count": 119,
   "metadata": {},
   "outputs": [],
   "source": [
    "# instead of doing these steps one at a time, we can use a pipeline to complete them all at once\n",
    "pipeline = Pipeline([('vect', vectorizer),\n",
    "                     ('chi',  SelectKBest(chi2, k=1200)),\n",
    "                     ('clf', MultinomialNB())])"
   ]
  },
  {
   "cell_type": "code",
   "execution_count": 120,
   "metadata": {},
   "outputs": [],
   "source": [
    "# fitting our model and save it in a pickle for later use\n",
    "model = pipeline.fit(X_train, y_train)\n",
    "with open('clf.pkl', 'wb') as f:\n",
    "    pickle.dump(model, f)\n",
    "ytest = np.array(y_test)"
   ]
  },
  {
   "cell_type": "code",
   "execution_count": 192,
   "metadata": {},
   "outputs": [],
   "source": [
    "# creating bag of words model \n",
    "cv = CountVectorizer(max_features = 1500) \n",
    "X = cv.fit_transform(X_train).toarray() \n",
    "y = y_train.values \n",
    "X_test_transform = cv.fit_transform(X_test).toarray()\n",
    "y_test_transform = y_test.values"
   ]
  },
  {
   "cell_type": "code",
   "execution_count": 199,
   "metadata": {},
   "outputs": [
    {
     "data": {
      "text/plain": [
       "MultinomialNB(alpha=0.001,\n",
       "              class_prior=[0.0623, 0.041228, 0.057719, 0.171553, 0.667201],\n",
       "              fit_prior=True)"
      ]
     },
     "execution_count": 199,
     "metadata": {},
     "output_type": "execute_result"
    }
   ],
   "source": [
    "from sklearn.naive_bayes import GaussianNB \n",
    "from sklearn.metrics import confusion_matrix \n",
    "\n",
    "#classifier = MultinomialNB()\n",
    "classifier = MultinomialNB(alpha=0.001, class_prior=[0.062300, 0.041228, 0.057719, 0.171553, 0.667201], fit_prior=True); \n",
    "classifier.fit(X, y) "
   ]
  },
  {
   "cell_type": "code",
   "execution_count": 200,
   "metadata": {},
   "outputs": [
    {
     "data": {
      "text/plain": [
       "array([[  1,   1,   1,  14,  67],\n",
       "       [  0,   1,   0,   8,  38],\n",
       "       [  0,   1,   1,  14,  58],\n",
       "       [  2,   1,   1,  52, 132],\n",
       "       [  3,   4,   7, 118, 567]])"
      ]
     },
     "execution_count": 200,
     "metadata": {},
     "output_type": "execute_result"
    }
   ],
   "source": [
    "# predicting test set results \n",
    "y_pred = classifier.predict(X_test_transform) \n",
    "  \n",
    "# making the confusion matrix \n",
    "cm = confusion_matrix(y_test_transform, y_pred) \n",
    "cm "
   ]
  },
  {
   "cell_type": "code",
   "execution_count": 201,
   "metadata": {},
   "outputs": [
    {
     "name": "stdout",
     "output_type": "stream",
     "text": [
      "              precision    recall  f1-score   support\n",
      "\n",
      "         1.0       0.17      0.01      0.02        84\n",
      "         2.0       0.12      0.02      0.04        47\n",
      "         3.0       0.10      0.01      0.02        74\n",
      "         4.0       0.25      0.28      0.26       188\n",
      "         5.0       0.66      0.81      0.73       699\n",
      "\n",
      "    accuracy                           0.57      1092\n",
      "   macro avg       0.26      0.23      0.21      1092\n",
      "weighted avg       0.49      0.57      0.52      1092\n",
      "\n"
     ]
    }
   ],
   "source": [
    "print(classification_report(y_test_transform, y_pred))"
   ]
  },
  {
   "cell_type": "code",
   "execution_count": 205,
   "metadata": {},
   "outputs": [
    {
     "data": {
      "text/plain": [
       "<matplotlib.colorbar.Colorbar at 0x131400d50>"
      ]
     },
     "execution_count": 205,
     "metadata": {},
     "output_type": "execute_result"
    },
    {
     "data": {
      "image/png": "[encoded data removed]",
      "text/plain": [
       "<Figure size 288x288 with 2 Axes>"
      ]
     },
     "metadata": {
      "needs_background": "light"
     },
     "output_type": "display_data"
    }
   ],
   "source": [
    "plt.matshow(confusion_matrix(y_test_transform, y_pred))\n",
    "plt.colorbar()"
   ]
  },
  {
   "cell_type": "code",
   "execution_count": 121,
   "metadata": {},
   "outputs": [
    {
     "data": {
      "text/plain": [
       "array([5., 5., 5., 3., 5., 5., 4., 5., 1., 4., 1., 5., 5., 5., 5., 3., 5.,\n",
       "       4., 5., 5., 4., 5., 5., 4., 5., 4., 5., 5., 5., 5., 5., 5., 5., 5.,\n",
       "       5., 4., 1., 5., 2., 5., 1., 5., 4., 1., 5., 5., 4., 4., 5., 3.])"
      ]
     },
     "execution_count": 121,
     "metadata": {},
     "output_type": "execute_result"
    }
   ],
   "source": [
    "ytest[:50]"
   ]
  },
  {
   "cell_type": "code",
   "execution_count": 168,
   "metadata": {},
   "outputs": [
    {
     "name": "stdout",
     "output_type": "stream",
     "text": [
      "              precision    recall  f1-score   support\n",
      "\n",
      "         1.0       0.00      0.00      0.00        84\n",
      "         2.0       0.00      0.00      0.00        47\n",
      "         3.0       0.00      0.00      0.00        74\n",
      "         4.0       0.00      0.00      0.00       188\n",
      "         5.0       0.64      1.00      0.78       699\n",
      "\n",
      "    accuracy                           0.64      1092\n",
      "   macro avg       0.13      0.20      0.16      1092\n",
      "weighted avg       0.41      0.64      0.50      1092\n",
      "\n"
     ]
    },
    {
     "name": "stderr",
     "output_type": "stream",
     "text": [
      "/usr/local/lib/python3.7/site-packages/sklearn/metrics/classification.py:1437: UndefinedMetricWarning: Precision and F-score are ill-defined and being set to 0.0 in labels with no predicted samples.\n",
      "  'precision', 'predicted', average, warn_for)\n"
     ]
    }
   ],
   "source": [
    "# confusion matrix and classification report(precision, recall, F1-score)\n",
    "print(classification_report(ytest, model.predict(X_test)))"
   ]
  },
  {
   "cell_type": "code",
   "execution_count": 110,
   "metadata": {},
   "outputs": [
    {
     "name": "stdout",
     "output_type": "stream",
     "text": [
      "[[  8   0   3  10  63]\n",
      " [  3   1   0   5  38]\n",
      " [  2   0   2   9  61]\n",
      " [  1   1   3  25 158]\n",
      " [  5   0   1  53 640]]\n"
     ]
    }
   ],
   "source": [
    "print(confusion_matrix(ytest, model.predict(X_test)))"
   ]
  },
  {
   "cell_type": "code",
   "execution_count": null,
   "metadata": {},
   "outputs": [],
   "source": []
  }
 ],
 "metadata": {
  "kernelspec": {
   "display_name": "Python 3",
   "language": "python",
   "name": "python3"
  },
  "language_info": {
   "codemirror_mode": {
    "name": "ipython",
    "version": 3
   },
   "file_extension": ".py",
   "mimetype": "text/x-python",
   "name": "python",
   "nbconvert_exporter": "python",
   "pygments_lexer": "ipython3",
   "version": "3.7.4"
  }
 },
 "nbformat": 4,
 "nbformat_minor": 2
}
